{
  "cells": [
    {
      "cell_type": "markdown",
      "metadata": {
        "id": "b7a3359d"
      },
      "source": [
        "#### IMPORTING REQUIRED LIBRARIES "
      ],
      "id": "b7a3359d"
    },
    {
      "cell_type": "code",
      "execution_count": 5,
      "metadata": {
        "id": "a55e145e"
      },
      "outputs": [],
      "source": [
        "### IMPORTING REQUIRED LIBRARIES\n",
        "import pandas as pd\n",
        "import numpy as np\n",
        "\n",
        "### libraries for plotting \n",
        "import matplotlib.pyplot as plt\n",
        "import seaborn as sns\n",
        "import plotly.express as px"
      ],
      "id": "a55e145e"
    },
    {
      "cell_type": "code",
      "execution_count": 6,
      "metadata": {
        "id": "23qtTIpGCnky"
      },
      "outputs": [],
      "source": [
        "#### Libraries for modeling from sklearn\n",
        "from sklearn.linear_model import LinearRegression\n",
        "from sklearn.tree import DecisionTreeRegressor \n",
        "from sklearn.ensemble import RandomForestRegressor\n",
        "from xgboost.sklearn import XGBRegressor\n",
        "from lightgbm import LGBMRegressor\n",
        "from sklearn.model_selection import cross_val_score\n",
        "from sklearn.model_selection import KFold\n",
        "\n",
        "from sklearn.model_selection import RepeatedKFold\n",
        "from sklearn.model_selection import GridSearchCV"
      ],
      "id": "23qtTIpGCnky"
    },
    {
      "cell_type": "code",
      "execution_count": 7,
      "metadata": {
        "id": "8f6769e3"
      },
      "outputs": [],
      "source": [
        "%matplotlib inline"
      ],
      "id": "8f6769e3"
    },
    {
      "cell_type": "markdown",
      "metadata": {
        "id": "46846a58"
      },
      "source": [
        "#### LOADING DATA SET "
      ],
      "id": "46846a58"
    },
    {
      "cell_type": "code",
      "execution_count": 8,
      "metadata": {
        "colab": {
          "base_uri": "https://localhost:8080/",
          "height": 206
        },
        "id": "38db2ec4",
        "outputId": "ef58b1c5-7a71-4079-8354-1eeaf38c20f9"
      },
      "outputs": [
        {
          "output_type": "execute_result",
          "data": {
            "text/plain": [
              "         date  hour  demand\n",
              "0  2018-08-18     9      91\n",
              "1  2018-08-18    10      21\n",
              "2  2018-08-18    13      23\n",
              "3  2018-08-18    14     104\n",
              "4  2018-08-18    15      81"
            ],
            "text/html": [
              "\n",
              "  <div id=\"df-897dd0fb-e94b-41d4-8cc3-af5a178d01b7\">\n",
              "    <div class=\"colab-df-container\">\n",
              "      <div>\n",
              "<style scoped>\n",
              "    .dataframe tbody tr th:only-of-type {\n",
              "        vertical-align: middle;\n",
              "    }\n",
              "\n",
              "    .dataframe tbody tr th {\n",
              "        vertical-align: top;\n",
              "    }\n",
              "\n",
              "    .dataframe thead th {\n",
              "        text-align: right;\n",
              "    }\n",
              "</style>\n",
              "<table border=\"1\" class=\"dataframe\">\n",
              "  <thead>\n",
              "    <tr style=\"text-align: right;\">\n",
              "      <th></th>\n",
              "      <th>date</th>\n",
              "      <th>hour</th>\n",
              "      <th>demand</th>\n",
              "    </tr>\n",
              "  </thead>\n",
              "  <tbody>\n",
              "    <tr>\n",
              "      <th>0</th>\n",
              "      <td>2018-08-18</td>\n",
              "      <td>9</td>\n",
              "      <td>91</td>\n",
              "    </tr>\n",
              "    <tr>\n",
              "      <th>1</th>\n",
              "      <td>2018-08-18</td>\n",
              "      <td>10</td>\n",
              "      <td>21</td>\n",
              "    </tr>\n",
              "    <tr>\n",
              "      <th>2</th>\n",
              "      <td>2018-08-18</td>\n",
              "      <td>13</td>\n",
              "      <td>23</td>\n",
              "    </tr>\n",
              "    <tr>\n",
              "      <th>3</th>\n",
              "      <td>2018-08-18</td>\n",
              "      <td>14</td>\n",
              "      <td>104</td>\n",
              "    </tr>\n",
              "    <tr>\n",
              "      <th>4</th>\n",
              "      <td>2018-08-18</td>\n",
              "      <td>15</td>\n",
              "      <td>81</td>\n",
              "    </tr>\n",
              "  </tbody>\n",
              "</table>\n",
              "</div>\n",
              "      <button class=\"colab-df-convert\" onclick=\"convertToInteractive('df-897dd0fb-e94b-41d4-8cc3-af5a178d01b7')\"\n",
              "              title=\"Convert this dataframe to an interactive table.\"\n",
              "              style=\"display:none;\">\n",
              "        \n",
              "  <svg xmlns=\"http://www.w3.org/2000/svg\" height=\"24px\"viewBox=\"0 0 24 24\"\n",
              "       width=\"24px\">\n",
              "    <path d=\"M0 0h24v24H0V0z\" fill=\"none\"/>\n",
              "    <path d=\"M18.56 5.44l.94 2.06.94-2.06 2.06-.94-2.06-.94-.94-2.06-.94 2.06-2.06.94zm-11 1L8.5 8.5l.94-2.06 2.06-.94-2.06-.94L8.5 2.5l-.94 2.06-2.06.94zm10 10l.94 2.06.94-2.06 2.06-.94-2.06-.94-.94-2.06-.94 2.06-2.06.94z\"/><path d=\"M17.41 7.96l-1.37-1.37c-.4-.4-.92-.59-1.43-.59-.52 0-1.04.2-1.43.59L10.3 9.45l-7.72 7.72c-.78.78-.78 2.05 0 2.83L4 21.41c.39.39.9.59 1.41.59.51 0 1.02-.2 1.41-.59l7.78-7.78 2.81-2.81c.8-.78.8-2.07 0-2.86zM5.41 20L4 18.59l7.72-7.72 1.47 1.35L5.41 20z\"/>\n",
              "  </svg>\n",
              "      </button>\n",
              "      \n",
              "  <style>\n",
              "    .colab-df-container {\n",
              "      display:flex;\n",
              "      flex-wrap:wrap;\n",
              "      gap: 12px;\n",
              "    }\n",
              "\n",
              "    .colab-df-convert {\n",
              "      background-color: #E8F0FE;\n",
              "      border: none;\n",
              "      border-radius: 50%;\n",
              "      cursor: pointer;\n",
              "      display: none;\n",
              "      fill: #1967D2;\n",
              "      height: 32px;\n",
              "      padding: 0 0 0 0;\n",
              "      width: 32px;\n",
              "    }\n",
              "\n",
              "    .colab-df-convert:hover {\n",
              "      background-color: #E2EBFA;\n",
              "      box-shadow: 0px 1px 2px rgba(60, 64, 67, 0.3), 0px 1px 3px 1px rgba(60, 64, 67, 0.15);\n",
              "      fill: #174EA6;\n",
              "    }\n",
              "\n",
              "    [theme=dark] .colab-df-convert {\n",
              "      background-color: #3B4455;\n",
              "      fill: #D2E3FC;\n",
              "    }\n",
              "\n",
              "    [theme=dark] .colab-df-convert:hover {\n",
              "      background-color: #434B5C;\n",
              "      box-shadow: 0px 1px 3px 1px rgba(0, 0, 0, 0.15);\n",
              "      filter: drop-shadow(0px 1px 2px rgba(0, 0, 0, 0.3));\n",
              "      fill: #FFFFFF;\n",
              "    }\n",
              "  </style>\n",
              "\n",
              "      <script>\n",
              "        const buttonEl =\n",
              "          document.querySelector('#df-897dd0fb-e94b-41d4-8cc3-af5a178d01b7 button.colab-df-convert');\n",
              "        buttonEl.style.display =\n",
              "          google.colab.kernel.accessAllowed ? 'block' : 'none';\n",
              "\n",
              "        async function convertToInteractive(key) {\n",
              "          const element = document.querySelector('#df-897dd0fb-e94b-41d4-8cc3-af5a178d01b7');\n",
              "          const dataTable =\n",
              "            await google.colab.kernel.invokeFunction('convertToInteractive',\n",
              "                                                     [key], {});\n",
              "          if (!dataTable) return;\n",
              "\n",
              "          const docLinkHtml = 'Like what you see? Visit the ' +\n",
              "            '<a target=\"_blank\" href=https://colab.research.google.com/notebooks/data_table.ipynb>data table notebook</a>'\n",
              "            + ' to learn more about interactive tables.';\n",
              "          element.innerHTML = '';\n",
              "          dataTable['output_type'] = 'display_data';\n",
              "          await google.colab.output.renderOutput(dataTable, element);\n",
              "          const docLink = document.createElement('div');\n",
              "          docLink.innerHTML = docLinkHtml;\n",
              "          element.appendChild(docLink);\n",
              "        }\n",
              "      </script>\n",
              "    </div>\n",
              "  </div>\n",
              "  "
            ]
          },
          "metadata": {},
          "execution_count": 8
        }
      ],
      "source": [
        "train_df = pd.read_csv('train_E1GspfA.csv')\n",
        "train_df.head()"
      ],
      "id": "38db2ec4"
    },
    {
      "cell_type": "code",
      "execution_count": 9,
      "metadata": {
        "colab": {
          "base_uri": "https://localhost:8080/",
          "height": 206
        },
        "id": "EVVTjK7kG_n9",
        "outputId": "0db6f516-5334-4a9c-86d1-1f5d4d46c6a6"
      },
      "outputs": [
        {
          "output_type": "execute_result",
          "data": {
            "text/plain": [
              "         date  hour  demand\n",
              "0  2018-08-18     9      91\n",
              "1  2018-08-18    10      21\n",
              "2  2018-08-18    13      23\n",
              "3  2018-08-18    14     104\n",
              "4  2018-08-18    15      81"
            ],
            "text/html": [
              "\n",
              "  <div id=\"df-1a07e2fc-b587-4860-bf7d-7f38045efc78\">\n",
              "    <div class=\"colab-df-container\">\n",
              "      <div>\n",
              "<style scoped>\n",
              "    .dataframe tbody tr th:only-of-type {\n",
              "        vertical-align: middle;\n",
              "    }\n",
              "\n",
              "    .dataframe tbody tr th {\n",
              "        vertical-align: top;\n",
              "    }\n",
              "\n",
              "    .dataframe thead th {\n",
              "        text-align: right;\n",
              "    }\n",
              "</style>\n",
              "<table border=\"1\" class=\"dataframe\">\n",
              "  <thead>\n",
              "    <tr style=\"text-align: right;\">\n",
              "      <th></th>\n",
              "      <th>date</th>\n",
              "      <th>hour</th>\n",
              "      <th>demand</th>\n",
              "    </tr>\n",
              "  </thead>\n",
              "  <tbody>\n",
              "    <tr>\n",
              "      <th>0</th>\n",
              "      <td>2018-08-18</td>\n",
              "      <td>9</td>\n",
              "      <td>91</td>\n",
              "    </tr>\n",
              "    <tr>\n",
              "      <th>1</th>\n",
              "      <td>2018-08-18</td>\n",
              "      <td>10</td>\n",
              "      <td>21</td>\n",
              "    </tr>\n",
              "    <tr>\n",
              "      <th>2</th>\n",
              "      <td>2018-08-18</td>\n",
              "      <td>13</td>\n",
              "      <td>23</td>\n",
              "    </tr>\n",
              "    <tr>\n",
              "      <th>3</th>\n",
              "      <td>2018-08-18</td>\n",
              "      <td>14</td>\n",
              "      <td>104</td>\n",
              "    </tr>\n",
              "    <tr>\n",
              "      <th>4</th>\n",
              "      <td>2018-08-18</td>\n",
              "      <td>15</td>\n",
              "      <td>81</td>\n",
              "    </tr>\n",
              "  </tbody>\n",
              "</table>\n",
              "</div>\n",
              "      <button class=\"colab-df-convert\" onclick=\"convertToInteractive('df-1a07e2fc-b587-4860-bf7d-7f38045efc78')\"\n",
              "              title=\"Convert this dataframe to an interactive table.\"\n",
              "              style=\"display:none;\">\n",
              "        \n",
              "  <svg xmlns=\"http://www.w3.org/2000/svg\" height=\"24px\"viewBox=\"0 0 24 24\"\n",
              "       width=\"24px\">\n",
              "    <path d=\"M0 0h24v24H0V0z\" fill=\"none\"/>\n",
              "    <path d=\"M18.56 5.44l.94 2.06.94-2.06 2.06-.94-2.06-.94-.94-2.06-.94 2.06-2.06.94zm-11 1L8.5 8.5l.94-2.06 2.06-.94-2.06-.94L8.5 2.5l-.94 2.06-2.06.94zm10 10l.94 2.06.94-2.06 2.06-.94-2.06-.94-.94-2.06-.94 2.06-2.06.94z\"/><path d=\"M17.41 7.96l-1.37-1.37c-.4-.4-.92-.59-1.43-.59-.52 0-1.04.2-1.43.59L10.3 9.45l-7.72 7.72c-.78.78-.78 2.05 0 2.83L4 21.41c.39.39.9.59 1.41.59.51 0 1.02-.2 1.41-.59l7.78-7.78 2.81-2.81c.8-.78.8-2.07 0-2.86zM5.41 20L4 18.59l7.72-7.72 1.47 1.35L5.41 20z\"/>\n",
              "  </svg>\n",
              "      </button>\n",
              "      \n",
              "  <style>\n",
              "    .colab-df-container {\n",
              "      display:flex;\n",
              "      flex-wrap:wrap;\n",
              "      gap: 12px;\n",
              "    }\n",
              "\n",
              "    .colab-df-convert {\n",
              "      background-color: #E8F0FE;\n",
              "      border: none;\n",
              "      border-radius: 50%;\n",
              "      cursor: pointer;\n",
              "      display: none;\n",
              "      fill: #1967D2;\n",
              "      height: 32px;\n",
              "      padding: 0 0 0 0;\n",
              "      width: 32px;\n",
              "    }\n",
              "\n",
              "    .colab-df-convert:hover {\n",
              "      background-color: #E2EBFA;\n",
              "      box-shadow: 0px 1px 2px rgba(60, 64, 67, 0.3), 0px 1px 3px 1px rgba(60, 64, 67, 0.15);\n",
              "      fill: #174EA6;\n",
              "    }\n",
              "\n",
              "    [theme=dark] .colab-df-convert {\n",
              "      background-color: #3B4455;\n",
              "      fill: #D2E3FC;\n",
              "    }\n",
              "\n",
              "    [theme=dark] .colab-df-convert:hover {\n",
              "      background-color: #434B5C;\n",
              "      box-shadow: 0px 1px 3px 1px rgba(0, 0, 0, 0.15);\n",
              "      filter: drop-shadow(0px 1px 2px rgba(0, 0, 0, 0.3));\n",
              "      fill: #FFFFFF;\n",
              "    }\n",
              "  </style>\n",
              "\n",
              "      <script>\n",
              "        const buttonEl =\n",
              "          document.querySelector('#df-1a07e2fc-b587-4860-bf7d-7f38045efc78 button.colab-df-convert');\n",
              "        buttonEl.style.display =\n",
              "          google.colab.kernel.accessAllowed ? 'block' : 'none';\n",
              "\n",
              "        async function convertToInteractive(key) {\n",
              "          const element = document.querySelector('#df-1a07e2fc-b587-4860-bf7d-7f38045efc78');\n",
              "          const dataTable =\n",
              "            await google.colab.kernel.invokeFunction('convertToInteractive',\n",
              "                                                     [key], {});\n",
              "          if (!dataTable) return;\n",
              "\n",
              "          const docLinkHtml = 'Like what you see? Visit the ' +\n",
              "            '<a target=\"_blank\" href=https://colab.research.google.com/notebooks/data_table.ipynb>data table notebook</a>'\n",
              "            + ' to learn more about interactive tables.';\n",
              "          element.innerHTML = '';\n",
              "          dataTable['output_type'] = 'display_data';\n",
              "          await google.colab.output.renderOutput(dataTable, element);\n",
              "          const docLink = document.createElement('div');\n",
              "          docLink.innerHTML = docLinkHtml;\n",
              "          element.appendChild(docLink);\n",
              "        }\n",
              "      </script>\n",
              "    </div>\n",
              "  </div>\n",
              "  "
            ]
          },
          "metadata": {},
          "execution_count": 9
        }
      ],
      "source": [
        "train_df.head()"
      ],
      "id": "EVVTjK7kG_n9"
    },
    {
      "cell_type": "code",
      "execution_count": 10,
      "metadata": {
        "colab": {
          "base_uri": "https://localhost:8080/"
        },
        "id": "915a90aa",
        "outputId": "06b6fdae-834c-4667-e4ec-998f8d197bdb"
      },
      "outputs": [
        {
          "output_type": "execute_result",
          "data": {
            "text/plain": [
              "(18247, 3)"
            ]
          },
          "metadata": {},
          "execution_count": 10
        }
      ],
      "source": [
        "# checking the shape of dataframe\n",
        "train_df.shape"
      ],
      "id": "915a90aa"
    },
    {
      "cell_type": "code",
      "execution_count": 11,
      "metadata": {
        "colab": {
          "base_uri": "https://localhost:8080/"
        },
        "id": "148d409b",
        "outputId": "2198025e-63ce-453d-8a86-335ac566b882"
      },
      "outputs": [
        {
          "output_type": "stream",
          "name": "stdout",
          "text": [
            "<class 'pandas.core.frame.DataFrame'>\n",
            "RangeIndex: 18247 entries, 0 to 18246\n",
            "Data columns (total 3 columns):\n",
            " #   Column  Non-Null Count  Dtype \n",
            "---  ------  --------------  ----- \n",
            " 0   date    18247 non-null  object\n",
            " 1   hour    18247 non-null  int64 \n",
            " 2   demand  18247 non-null  int64 \n",
            "dtypes: int64(2), object(1)\n",
            "memory usage: 427.8+ KB\n"
          ]
        }
      ],
      "source": [
        "### checking the datatype for each column\n",
        "train_df.info()"
      ],
      "id": "148d409b"
    },
    {
      "cell_type": "markdown",
      "metadata": {
        "id": "4a4eb8b4"
      },
      "source": [
        "The dataset doesnot contains any null values "
      ],
      "id": "4a4eb8b4"
    },
    {
      "cell_type": "code",
      "execution_count": 12,
      "metadata": {
        "colab": {
          "base_uri": "https://localhost:8080/",
          "height": 206
        },
        "id": "4495c1c6",
        "outputId": "1adda323-b549-443a-de61-bc3032a89572"
      },
      "outputs": [
        {
          "output_type": "execute_result",
          "data": {
            "text/plain": [
              "         date  hour\n",
              "0  2021-03-01     0\n",
              "1  2021-03-01     1\n",
              "2  2021-03-01     2\n",
              "3  2021-03-01     3\n",
              "4  2021-03-01     5"
            ],
            "text/html": [
              "\n",
              "  <div id=\"df-e9e97c7e-d830-4c68-8d03-abfe4bd0c108\">\n",
              "    <div class=\"colab-df-container\">\n",
              "      <div>\n",
              "<style scoped>\n",
              "    .dataframe tbody tr th:only-of-type {\n",
              "        vertical-align: middle;\n",
              "    }\n",
              "\n",
              "    .dataframe tbody tr th {\n",
              "        vertical-align: top;\n",
              "    }\n",
              "\n",
              "    .dataframe thead th {\n",
              "        text-align: right;\n",
              "    }\n",
              "</style>\n",
              "<table border=\"1\" class=\"dataframe\">\n",
              "  <thead>\n",
              "    <tr style=\"text-align: right;\">\n",
              "      <th></th>\n",
              "      <th>date</th>\n",
              "      <th>hour</th>\n",
              "    </tr>\n",
              "  </thead>\n",
              "  <tbody>\n",
              "    <tr>\n",
              "      <th>0</th>\n",
              "      <td>2021-03-01</td>\n",
              "      <td>0</td>\n",
              "    </tr>\n",
              "    <tr>\n",
              "      <th>1</th>\n",
              "      <td>2021-03-01</td>\n",
              "      <td>1</td>\n",
              "    </tr>\n",
              "    <tr>\n",
              "      <th>2</th>\n",
              "      <td>2021-03-01</td>\n",
              "      <td>2</td>\n",
              "    </tr>\n",
              "    <tr>\n",
              "      <th>3</th>\n",
              "      <td>2021-03-01</td>\n",
              "      <td>3</td>\n",
              "    </tr>\n",
              "    <tr>\n",
              "      <th>4</th>\n",
              "      <td>2021-03-01</td>\n",
              "      <td>5</td>\n",
              "    </tr>\n",
              "  </tbody>\n",
              "</table>\n",
              "</div>\n",
              "      <button class=\"colab-df-convert\" onclick=\"convertToInteractive('df-e9e97c7e-d830-4c68-8d03-abfe4bd0c108')\"\n",
              "              title=\"Convert this dataframe to an interactive table.\"\n",
              "              style=\"display:none;\">\n",
              "        \n",
              "  <svg xmlns=\"http://www.w3.org/2000/svg\" height=\"24px\"viewBox=\"0 0 24 24\"\n",
              "       width=\"24px\">\n",
              "    <path d=\"M0 0h24v24H0V0z\" fill=\"none\"/>\n",
              "    <path d=\"M18.56 5.44l.94 2.06.94-2.06 2.06-.94-2.06-.94-.94-2.06-.94 2.06-2.06.94zm-11 1L8.5 8.5l.94-2.06 2.06-.94-2.06-.94L8.5 2.5l-.94 2.06-2.06.94zm10 10l.94 2.06.94-2.06 2.06-.94-2.06-.94-.94-2.06-.94 2.06-2.06.94z\"/><path d=\"M17.41 7.96l-1.37-1.37c-.4-.4-.92-.59-1.43-.59-.52 0-1.04.2-1.43.59L10.3 9.45l-7.72 7.72c-.78.78-.78 2.05 0 2.83L4 21.41c.39.39.9.59 1.41.59.51 0 1.02-.2 1.41-.59l7.78-7.78 2.81-2.81c.8-.78.8-2.07 0-2.86zM5.41 20L4 18.59l7.72-7.72 1.47 1.35L5.41 20z\"/>\n",
              "  </svg>\n",
              "      </button>\n",
              "      \n",
              "  <style>\n",
              "    .colab-df-container {\n",
              "      display:flex;\n",
              "      flex-wrap:wrap;\n",
              "      gap: 12px;\n",
              "    }\n",
              "\n",
              "    .colab-df-convert {\n",
              "      background-color: #E8F0FE;\n",
              "      border: none;\n",
              "      border-radius: 50%;\n",
              "      cursor: pointer;\n",
              "      display: none;\n",
              "      fill: #1967D2;\n",
              "      height: 32px;\n",
              "      padding: 0 0 0 0;\n",
              "      width: 32px;\n",
              "    }\n",
              "\n",
              "    .colab-df-convert:hover {\n",
              "      background-color: #E2EBFA;\n",
              "      box-shadow: 0px 1px 2px rgba(60, 64, 67, 0.3), 0px 1px 3px 1px rgba(60, 64, 67, 0.15);\n",
              "      fill: #174EA6;\n",
              "    }\n",
              "\n",
              "    [theme=dark] .colab-df-convert {\n",
              "      background-color: #3B4455;\n",
              "      fill: #D2E3FC;\n",
              "    }\n",
              "\n",
              "    [theme=dark] .colab-df-convert:hover {\n",
              "      background-color: #434B5C;\n",
              "      box-shadow: 0px 1px 3px 1px rgba(0, 0, 0, 0.15);\n",
              "      filter: drop-shadow(0px 1px 2px rgba(0, 0, 0, 0.3));\n",
              "      fill: #FFFFFF;\n",
              "    }\n",
              "  </style>\n",
              "\n",
              "      <script>\n",
              "        const buttonEl =\n",
              "          document.querySelector('#df-e9e97c7e-d830-4c68-8d03-abfe4bd0c108 button.colab-df-convert');\n",
              "        buttonEl.style.display =\n",
              "          google.colab.kernel.accessAllowed ? 'block' : 'none';\n",
              "\n",
              "        async function convertToInteractive(key) {\n",
              "          const element = document.querySelector('#df-e9e97c7e-d830-4c68-8d03-abfe4bd0c108');\n",
              "          const dataTable =\n",
              "            await google.colab.kernel.invokeFunction('convertToInteractive',\n",
              "                                                     [key], {});\n",
              "          if (!dataTable) return;\n",
              "\n",
              "          const docLinkHtml = 'Like what you see? Visit the ' +\n",
              "            '<a target=\"_blank\" href=https://colab.research.google.com/notebooks/data_table.ipynb>data table notebook</a>'\n",
              "            + ' to learn more about interactive tables.';\n",
              "          element.innerHTML = '';\n",
              "          dataTable['output_type'] = 'display_data';\n",
              "          await google.colab.output.renderOutput(dataTable, element);\n",
              "          const docLink = document.createElement('div');\n",
              "          docLink.innerHTML = docLinkHtml;\n",
              "          element.appendChild(docLink);\n",
              "        }\n",
              "      </script>\n",
              "    </div>\n",
              "  </div>\n",
              "  "
            ]
          },
          "metadata": {},
          "execution_count": 12
        }
      ],
      "source": [
        "test_df = pd.read_csv('test_6QvDdzb.csv')\n",
        "test_df.head()"
      ],
      "id": "4495c1c6"
    },
    {
      "cell_type": "code",
      "execution_count": 13,
      "metadata": {
        "colab": {
          "base_uri": "https://localhost:8080/"
        },
        "id": "d8389fb5",
        "outputId": "000c65c9-10eb-4836-918b-2b455dd8e8cc"
      },
      "outputs": [
        {
          "output_type": "execute_result",
          "data": {
            "text/plain": [
              "(7650, 2)"
            ]
          },
          "metadata": {},
          "execution_count": 13
        }
      ],
      "source": [
        "test_df.shape"
      ],
      "id": "d8389fb5"
    },
    {
      "cell_type": "markdown",
      "metadata": {
        "id": "67542580"
      },
      "source": [
        "#### EXTRACTING MORE FEATURES FROM DATE COLUMN "
      ],
      "id": "67542580"
    },
    {
      "cell_type": "code",
      "execution_count": 14,
      "metadata": {
        "id": "21bdea47"
      },
      "outputs": [],
      "source": [
        "#### A common function for extracting features from both the train and the test data \n",
        "def extracting_feature(data):\n",
        "    ### converting the date column into datetime format\n",
        "    data['date'] = pd.to_datetime(data['date'])\n",
        "    ### extracting year \n",
        "    data['year'] = data['date'].dt.year\n",
        "    ### extracting month\n",
        "    data['month'] = data['date'].dt.month\n",
        "    ## extracting the day \n",
        "    data['day'] = data['date'].dt.day\n",
        "    ### extracting the day of year\n",
        "    data['dayofyear'] = data['date'].dt.dayofyear\n",
        "    ### extracting the week of year\n",
        "    data['weekofyear'] = data['date'].dt.weekofyear\n",
        "    ### extracting day of week\n",
        "    data['day_no_week'] = data['date'].dt.dayofweek\n",
        "    ### extracting quarter \n",
        "    data['quarter']=data['date'].dt.quarter\n",
        "    return data\n",
        "    "
      ],
      "id": "21bdea47"
    },
    {
      "cell_type": "code",
      "execution_count": 15,
      "metadata": {
        "colab": {
          "base_uri": "https://localhost:8080/",
          "height": 261
        },
        "id": "411e53c9",
        "outputId": "da8a38b8-6781-4274-96cc-6fb94943a6f1"
      },
      "outputs": [
        {
          "output_type": "stream",
          "name": "stderr",
          "text": [
            "/usr/local/lib/python3.7/dist-packages/ipykernel_launcher.py:14: FutureWarning: Series.dt.weekofyear and Series.dt.week have been deprecated.  Please use Series.dt.isocalendar().week instead.\n",
            "  \n"
          ]
        },
        {
          "output_type": "execute_result",
          "data": {
            "text/plain": [
              "        date  hour  demand  year  month  day  dayofyear  weekofyear  \\\n",
              "0 2018-08-18     9      91  2018      8   18        230          33   \n",
              "1 2018-08-18    10      21  2018      8   18        230          33   \n",
              "2 2018-08-18    13      23  2018      8   18        230          33   \n",
              "3 2018-08-18    14     104  2018      8   18        230          33   \n",
              "4 2018-08-18    15      81  2018      8   18        230          33   \n",
              "\n",
              "   day_no_week  quarter  \n",
              "0            5        3  \n",
              "1            5        3  \n",
              "2            5        3  \n",
              "3            5        3  \n",
              "4            5        3  "
            ],
            "text/html": [
              "\n",
              "  <div id=\"df-2885fee8-9474-485b-8e8d-9e0b554662fa\">\n",
              "    <div class=\"colab-df-container\">\n",
              "      <div>\n",
              "<style scoped>\n",
              "    .dataframe tbody tr th:only-of-type {\n",
              "        vertical-align: middle;\n",
              "    }\n",
              "\n",
              "    .dataframe tbody tr th {\n",
              "        vertical-align: top;\n",
              "    }\n",
              "\n",
              "    .dataframe thead th {\n",
              "        text-align: right;\n",
              "    }\n",
              "</style>\n",
              "<table border=\"1\" class=\"dataframe\">\n",
              "  <thead>\n",
              "    <tr style=\"text-align: right;\">\n",
              "      <th></th>\n",
              "      <th>date</th>\n",
              "      <th>hour</th>\n",
              "      <th>demand</th>\n",
              "      <th>year</th>\n",
              "      <th>month</th>\n",
              "      <th>day</th>\n",
              "      <th>dayofyear</th>\n",
              "      <th>weekofyear</th>\n",
              "      <th>day_no_week</th>\n",
              "      <th>quarter</th>\n",
              "    </tr>\n",
              "  </thead>\n",
              "  <tbody>\n",
              "    <tr>\n",
              "      <th>0</th>\n",
              "      <td>2018-08-18</td>\n",
              "      <td>9</td>\n",
              "      <td>91</td>\n",
              "      <td>2018</td>\n",
              "      <td>8</td>\n",
              "      <td>18</td>\n",
              "      <td>230</td>\n",
              "      <td>33</td>\n",
              "      <td>5</td>\n",
              "      <td>3</td>\n",
              "    </tr>\n",
              "    <tr>\n",
              "      <th>1</th>\n",
              "      <td>2018-08-18</td>\n",
              "      <td>10</td>\n",
              "      <td>21</td>\n",
              "      <td>2018</td>\n",
              "      <td>8</td>\n",
              "      <td>18</td>\n",
              "      <td>230</td>\n",
              "      <td>33</td>\n",
              "      <td>5</td>\n",
              "      <td>3</td>\n",
              "    </tr>\n",
              "    <tr>\n",
              "      <th>2</th>\n",
              "      <td>2018-08-18</td>\n",
              "      <td>13</td>\n",
              "      <td>23</td>\n",
              "      <td>2018</td>\n",
              "      <td>8</td>\n",
              "      <td>18</td>\n",
              "      <td>230</td>\n",
              "      <td>33</td>\n",
              "      <td>5</td>\n",
              "      <td>3</td>\n",
              "    </tr>\n",
              "    <tr>\n",
              "      <th>3</th>\n",
              "      <td>2018-08-18</td>\n",
              "      <td>14</td>\n",
              "      <td>104</td>\n",
              "      <td>2018</td>\n",
              "      <td>8</td>\n",
              "      <td>18</td>\n",
              "      <td>230</td>\n",
              "      <td>33</td>\n",
              "      <td>5</td>\n",
              "      <td>3</td>\n",
              "    </tr>\n",
              "    <tr>\n",
              "      <th>4</th>\n",
              "      <td>2018-08-18</td>\n",
              "      <td>15</td>\n",
              "      <td>81</td>\n",
              "      <td>2018</td>\n",
              "      <td>8</td>\n",
              "      <td>18</td>\n",
              "      <td>230</td>\n",
              "      <td>33</td>\n",
              "      <td>5</td>\n",
              "      <td>3</td>\n",
              "    </tr>\n",
              "  </tbody>\n",
              "</table>\n",
              "</div>\n",
              "      <button class=\"colab-df-convert\" onclick=\"convertToInteractive('df-2885fee8-9474-485b-8e8d-9e0b554662fa')\"\n",
              "              title=\"Convert this dataframe to an interactive table.\"\n",
              "              style=\"display:none;\">\n",
              "        \n",
              "  <svg xmlns=\"http://www.w3.org/2000/svg\" height=\"24px\"viewBox=\"0 0 24 24\"\n",
              "       width=\"24px\">\n",
              "    <path d=\"M0 0h24v24H0V0z\" fill=\"none\"/>\n",
              "    <path d=\"M18.56 5.44l.94 2.06.94-2.06 2.06-.94-2.06-.94-.94-2.06-.94 2.06-2.06.94zm-11 1L8.5 8.5l.94-2.06 2.06-.94-2.06-.94L8.5 2.5l-.94 2.06-2.06.94zm10 10l.94 2.06.94-2.06 2.06-.94-2.06-.94-.94-2.06-.94 2.06-2.06.94z\"/><path d=\"M17.41 7.96l-1.37-1.37c-.4-.4-.92-.59-1.43-.59-.52 0-1.04.2-1.43.59L10.3 9.45l-7.72 7.72c-.78.78-.78 2.05 0 2.83L4 21.41c.39.39.9.59 1.41.59.51 0 1.02-.2 1.41-.59l7.78-7.78 2.81-2.81c.8-.78.8-2.07 0-2.86zM5.41 20L4 18.59l7.72-7.72 1.47 1.35L5.41 20z\"/>\n",
              "  </svg>\n",
              "      </button>\n",
              "      \n",
              "  <style>\n",
              "    .colab-df-container {\n",
              "      display:flex;\n",
              "      flex-wrap:wrap;\n",
              "      gap: 12px;\n",
              "    }\n",
              "\n",
              "    .colab-df-convert {\n",
              "      background-color: #E8F0FE;\n",
              "      border: none;\n",
              "      border-radius: 50%;\n",
              "      cursor: pointer;\n",
              "      display: none;\n",
              "      fill: #1967D2;\n",
              "      height: 32px;\n",
              "      padding: 0 0 0 0;\n",
              "      width: 32px;\n",
              "    }\n",
              "\n",
              "    .colab-df-convert:hover {\n",
              "      background-color: #E2EBFA;\n",
              "      box-shadow: 0px 1px 2px rgba(60, 64, 67, 0.3), 0px 1px 3px 1px rgba(60, 64, 67, 0.15);\n",
              "      fill: #174EA6;\n",
              "    }\n",
              "\n",
              "    [theme=dark] .colab-df-convert {\n",
              "      background-color: #3B4455;\n",
              "      fill: #D2E3FC;\n",
              "    }\n",
              "\n",
              "    [theme=dark] .colab-df-convert:hover {\n",
              "      background-color: #434B5C;\n",
              "      box-shadow: 0px 1px 3px 1px rgba(0, 0, 0, 0.15);\n",
              "      filter: drop-shadow(0px 1px 2px rgba(0, 0, 0, 0.3));\n",
              "      fill: #FFFFFF;\n",
              "    }\n",
              "  </style>\n",
              "\n",
              "      <script>\n",
              "        const buttonEl =\n",
              "          document.querySelector('#df-2885fee8-9474-485b-8e8d-9e0b554662fa button.colab-df-convert');\n",
              "        buttonEl.style.display =\n",
              "          google.colab.kernel.accessAllowed ? 'block' : 'none';\n",
              "\n",
              "        async function convertToInteractive(key) {\n",
              "          const element = document.querySelector('#df-2885fee8-9474-485b-8e8d-9e0b554662fa');\n",
              "          const dataTable =\n",
              "            await google.colab.kernel.invokeFunction('convertToInteractive',\n",
              "                                                     [key], {});\n",
              "          if (!dataTable) return;\n",
              "\n",
              "          const docLinkHtml = 'Like what you see? Visit the ' +\n",
              "            '<a target=\"_blank\" href=https://colab.research.google.com/notebooks/data_table.ipynb>data table notebook</a>'\n",
              "            + ' to learn more about interactive tables.';\n",
              "          element.innerHTML = '';\n",
              "          dataTable['output_type'] = 'display_data';\n",
              "          await google.colab.output.renderOutput(dataTable, element);\n",
              "          const docLink = document.createElement('div');\n",
              "          docLink.innerHTML = docLinkHtml;\n",
              "          element.appendChild(docLink);\n",
              "        }\n",
              "      </script>\n",
              "    </div>\n",
              "  </div>\n",
              "  "
            ]
          },
          "metadata": {},
          "execution_count": 15
        }
      ],
      "source": [
        "train_df = extracting_feature(train_df)\n",
        "train_df.head()"
      ],
      "id": "411e53c9"
    },
    {
      "cell_type": "code",
      "execution_count": 16,
      "metadata": {
        "colab": {
          "base_uri": "https://localhost:8080/"
        },
        "id": "9f7aa7e6",
        "outputId": "fdffecb7-ea04-43b7-bd6a-2a4ce3793504"
      },
      "outputs": [
        {
          "output_type": "stream",
          "name": "stderr",
          "text": [
            "/usr/local/lib/python3.7/dist-packages/ipykernel_launcher.py:14: FutureWarning: Series.dt.weekofyear and Series.dt.week have been deprecated.  Please use Series.dt.isocalendar().week instead.\n",
            "  \n"
          ]
        },
        {
          "output_type": "execute_result",
          "data": {
            "text/plain": [
              "(7650, 9)"
            ]
          },
          "metadata": {},
          "execution_count": 16
        }
      ],
      "source": [
        "### appling same function in test data \n",
        "test_df = extracting_feature(test_df)\n",
        "test_df.shape"
      ],
      "id": "9f7aa7e6"
    },
    {
      "cell_type": "code",
      "execution_count": 17,
      "metadata": {
        "colab": {
          "base_uri": "https://localhost:8080/"
        },
        "id": "b8eeb03b",
        "outputId": "686787e5-d1a0-4edb-ce89-b77c846c23e7"
      },
      "outputs": [
        {
          "output_type": "execute_result",
          "data": {
            "text/plain": [
              "0"
            ]
          },
          "metadata": {},
          "execution_count": 17
        }
      ],
      "source": [
        "## checking for duplicate raws\n",
        "train_df.duplicated().sum()"
      ],
      "id": "b8eeb03b"
    },
    {
      "cell_type": "code",
      "execution_count": 18,
      "metadata": {
        "colab": {
          "base_uri": "https://localhost:8080/"
        },
        "id": "49d4540e",
        "outputId": "3e4125c4-d917-49c0-a036-e982ff5af73e"
      },
      "outputs": [
        {
          "output_type": "execute_result",
          "data": {
            "text/plain": [
              "date           0\n",
              "hour           0\n",
              "demand         0\n",
              "year           0\n",
              "month          0\n",
              "day            0\n",
              "dayofyear      0\n",
              "weekofyear     0\n",
              "day_no_week    0\n",
              "quarter        0\n",
              "dtype: int64"
            ]
          },
          "metadata": {},
          "execution_count": 18
        }
      ],
      "source": [
        "# checking the null values in each columns\n",
        "train_df.isnull().sum()"
      ],
      "id": "49d4540e"
    },
    {
      "cell_type": "code",
      "execution_count": 19,
      "metadata": {
        "colab": {
          "base_uri": "https://localhost:8080/",
          "height": 300
        },
        "id": "460a960a",
        "outputId": "e940d4a5-83e9-4cd5-fc8e-6aecd7f05211"
      },
      "outputs": [
        {
          "output_type": "execute_result",
          "data": {
            "text/plain": [
              "               hour        demand          year         month           day  \\\n",
              "count  18247.000000  18247.000000  18247.000000  18247.000000  18247.000000   \n",
              "mean      12.614731     73.991451   2019.396997      6.470324     15.782430   \n",
              "std        6.544963     41.678988      0.810979      3.618189      8.772904   \n",
              "min        0.000000      1.000000   2018.000000      1.000000      1.000000   \n",
              "25%        8.000000     43.000000   2019.000000      3.000000      8.000000   \n",
              "50%       13.000000     71.000000   2019.000000      7.000000     16.000000   \n",
              "75%       18.000000     98.000000   2020.000000     10.000000     23.000000   \n",
              "max       23.000000    379.000000   2021.000000     12.000000     31.000000   \n",
              "\n",
              "          dayofyear    weekofyear   day_no_week       quarter  \n",
              "count  18247.000000  18247.000000  18247.000000  18247.000000  \n",
              "mean     181.799090     26.543706      3.025867      2.501233  \n",
              "std      110.599321     15.828694      2.003638      1.167955  \n",
              "min        1.000000      1.000000      0.000000      1.000000  \n",
              "25%       78.000000     12.000000      1.000000      1.000000  \n",
              "50%      185.000000     27.000000      3.000000      3.000000  \n",
              "75%      282.000000     41.000000      5.000000      4.000000  \n",
              "max      366.000000     53.000000      6.000000      4.000000  "
            ],
            "text/html": [
              "\n",
              "  <div id=\"df-bfb41256-56ec-440f-971b-bd3bef85a158\">\n",
              "    <div class=\"colab-df-container\">\n",
              "      <div>\n",
              "<style scoped>\n",
              "    .dataframe tbody tr th:only-of-type {\n",
              "        vertical-align: middle;\n",
              "    }\n",
              "\n",
              "    .dataframe tbody tr th {\n",
              "        vertical-align: top;\n",
              "    }\n",
              "\n",
              "    .dataframe thead th {\n",
              "        text-align: right;\n",
              "    }\n",
              "</style>\n",
              "<table border=\"1\" class=\"dataframe\">\n",
              "  <thead>\n",
              "    <tr style=\"text-align: right;\">\n",
              "      <th></th>\n",
              "      <th>hour</th>\n",
              "      <th>demand</th>\n",
              "      <th>year</th>\n",
              "      <th>month</th>\n",
              "      <th>day</th>\n",
              "      <th>dayofyear</th>\n",
              "      <th>weekofyear</th>\n",
              "      <th>day_no_week</th>\n",
              "      <th>quarter</th>\n",
              "    </tr>\n",
              "  </thead>\n",
              "  <tbody>\n",
              "    <tr>\n",
              "      <th>count</th>\n",
              "      <td>18247.000000</td>\n",
              "      <td>18247.000000</td>\n",
              "      <td>18247.000000</td>\n",
              "      <td>18247.000000</td>\n",
              "      <td>18247.000000</td>\n",
              "      <td>18247.000000</td>\n",
              "      <td>18247.000000</td>\n",
              "      <td>18247.000000</td>\n",
              "      <td>18247.000000</td>\n",
              "    </tr>\n",
              "    <tr>\n",
              "      <th>mean</th>\n",
              "      <td>12.614731</td>\n",
              "      <td>73.991451</td>\n",
              "      <td>2019.396997</td>\n",
              "      <td>6.470324</td>\n",
              "      <td>15.782430</td>\n",
              "      <td>181.799090</td>\n",
              "      <td>26.543706</td>\n",
              "      <td>3.025867</td>\n",
              "      <td>2.501233</td>\n",
              "    </tr>\n",
              "    <tr>\n",
              "      <th>std</th>\n",
              "      <td>6.544963</td>\n",
              "      <td>41.678988</td>\n",
              "      <td>0.810979</td>\n",
              "      <td>3.618189</td>\n",
              "      <td>8.772904</td>\n",
              "      <td>110.599321</td>\n",
              "      <td>15.828694</td>\n",
              "      <td>2.003638</td>\n",
              "      <td>1.167955</td>\n",
              "    </tr>\n",
              "    <tr>\n",
              "      <th>min</th>\n",
              "      <td>0.000000</td>\n",
              "      <td>1.000000</td>\n",
              "      <td>2018.000000</td>\n",
              "      <td>1.000000</td>\n",
              "      <td>1.000000</td>\n",
              "      <td>1.000000</td>\n",
              "      <td>1.000000</td>\n",
              "      <td>0.000000</td>\n",
              "      <td>1.000000</td>\n",
              "    </tr>\n",
              "    <tr>\n",
              "      <th>25%</th>\n",
              "      <td>8.000000</td>\n",
              "      <td>43.000000</td>\n",
              "      <td>2019.000000</td>\n",
              "      <td>3.000000</td>\n",
              "      <td>8.000000</td>\n",
              "      <td>78.000000</td>\n",
              "      <td>12.000000</td>\n",
              "      <td>1.000000</td>\n",
              "      <td>1.000000</td>\n",
              "    </tr>\n",
              "    <tr>\n",
              "      <th>50%</th>\n",
              "      <td>13.000000</td>\n",
              "      <td>71.000000</td>\n",
              "      <td>2019.000000</td>\n",
              "      <td>7.000000</td>\n",
              "      <td>16.000000</td>\n",
              "      <td>185.000000</td>\n",
              "      <td>27.000000</td>\n",
              "      <td>3.000000</td>\n",
              "      <td>3.000000</td>\n",
              "    </tr>\n",
              "    <tr>\n",
              "      <th>75%</th>\n",
              "      <td>18.000000</td>\n",
              "      <td>98.000000</td>\n",
              "      <td>2020.000000</td>\n",
              "      <td>10.000000</td>\n",
              "      <td>23.000000</td>\n",
              "      <td>282.000000</td>\n",
              "      <td>41.000000</td>\n",
              "      <td>5.000000</td>\n",
              "      <td>4.000000</td>\n",
              "    </tr>\n",
              "    <tr>\n",
              "      <th>max</th>\n",
              "      <td>23.000000</td>\n",
              "      <td>379.000000</td>\n",
              "      <td>2021.000000</td>\n",
              "      <td>12.000000</td>\n",
              "      <td>31.000000</td>\n",
              "      <td>366.000000</td>\n",
              "      <td>53.000000</td>\n",
              "      <td>6.000000</td>\n",
              "      <td>4.000000</td>\n",
              "    </tr>\n",
              "  </tbody>\n",
              "</table>\n",
              "</div>\n",
              "      <button class=\"colab-df-convert\" onclick=\"convertToInteractive('df-bfb41256-56ec-440f-971b-bd3bef85a158')\"\n",
              "              title=\"Convert this dataframe to an interactive table.\"\n",
              "              style=\"display:none;\">\n",
              "        \n",
              "  <svg xmlns=\"http://www.w3.org/2000/svg\" height=\"24px\"viewBox=\"0 0 24 24\"\n",
              "       width=\"24px\">\n",
              "    <path d=\"M0 0h24v24H0V0z\" fill=\"none\"/>\n",
              "    <path d=\"M18.56 5.44l.94 2.06.94-2.06 2.06-.94-2.06-.94-.94-2.06-.94 2.06-2.06.94zm-11 1L8.5 8.5l.94-2.06 2.06-.94-2.06-.94L8.5 2.5l-.94 2.06-2.06.94zm10 10l.94 2.06.94-2.06 2.06-.94-2.06-.94-.94-2.06-.94 2.06-2.06.94z\"/><path d=\"M17.41 7.96l-1.37-1.37c-.4-.4-.92-.59-1.43-.59-.52 0-1.04.2-1.43.59L10.3 9.45l-7.72 7.72c-.78.78-.78 2.05 0 2.83L4 21.41c.39.39.9.59 1.41.59.51 0 1.02-.2 1.41-.59l7.78-7.78 2.81-2.81c.8-.78.8-2.07 0-2.86zM5.41 20L4 18.59l7.72-7.72 1.47 1.35L5.41 20z\"/>\n",
              "  </svg>\n",
              "      </button>\n",
              "      \n",
              "  <style>\n",
              "    .colab-df-container {\n",
              "      display:flex;\n",
              "      flex-wrap:wrap;\n",
              "      gap: 12px;\n",
              "    }\n",
              "\n",
              "    .colab-df-convert {\n",
              "      background-color: #E8F0FE;\n",
              "      border: none;\n",
              "      border-radius: 50%;\n",
              "      cursor: pointer;\n",
              "      display: none;\n",
              "      fill: #1967D2;\n",
              "      height: 32px;\n",
              "      padding: 0 0 0 0;\n",
              "      width: 32px;\n",
              "    }\n",
              "\n",
              "    .colab-df-convert:hover {\n",
              "      background-color: #E2EBFA;\n",
              "      box-shadow: 0px 1px 2px rgba(60, 64, 67, 0.3), 0px 1px 3px 1px rgba(60, 64, 67, 0.15);\n",
              "      fill: #174EA6;\n",
              "    }\n",
              "\n",
              "    [theme=dark] .colab-df-convert {\n",
              "      background-color: #3B4455;\n",
              "      fill: #D2E3FC;\n",
              "    }\n",
              "\n",
              "    [theme=dark] .colab-df-convert:hover {\n",
              "      background-color: #434B5C;\n",
              "      box-shadow: 0px 1px 3px 1px rgba(0, 0, 0, 0.15);\n",
              "      filter: drop-shadow(0px 1px 2px rgba(0, 0, 0, 0.3));\n",
              "      fill: #FFFFFF;\n",
              "    }\n",
              "  </style>\n",
              "\n",
              "      <script>\n",
              "        const buttonEl =\n",
              "          document.querySelector('#df-bfb41256-56ec-440f-971b-bd3bef85a158 button.colab-df-convert');\n",
              "        buttonEl.style.display =\n",
              "          google.colab.kernel.accessAllowed ? 'block' : 'none';\n",
              "\n",
              "        async function convertToInteractive(key) {\n",
              "          const element = document.querySelector('#df-bfb41256-56ec-440f-971b-bd3bef85a158');\n",
              "          const dataTable =\n",
              "            await google.colab.kernel.invokeFunction('convertToInteractive',\n",
              "                                                     [key], {});\n",
              "          if (!dataTable) return;\n",
              "\n",
              "          const docLinkHtml = 'Like what you see? Visit the ' +\n",
              "            '<a target=\"_blank\" href=https://colab.research.google.com/notebooks/data_table.ipynb>data table notebook</a>'\n",
              "            + ' to learn more about interactive tables.';\n",
              "          element.innerHTML = '';\n",
              "          dataTable['output_type'] = 'display_data';\n",
              "          await google.colab.output.renderOutput(dataTable, element);\n",
              "          const docLink = document.createElement('div');\n",
              "          docLink.innerHTML = docLinkHtml;\n",
              "          element.appendChild(docLink);\n",
              "        }\n",
              "      </script>\n",
              "    </div>\n",
              "  </div>\n",
              "  "
            ]
          },
          "metadata": {},
          "execution_count": 19
        }
      ],
      "source": [
        "## Descriptive Statistics\n",
        "train_df.describe()"
      ],
      "id": "460a960a"
    },
    {
      "cell_type": "markdown",
      "metadata": {
        "id": "0867f42d"
      },
      "source": [
        "### Exploratory Analysis and Visualization "
      ],
      "id": "0867f42d"
    },
    {
      "cell_type": "code",
      "execution_count": 20,
      "metadata": {
        "id": "22447bd4"
      },
      "outputs": [],
      "source": [
        "sns.set_style('darkgrid')\n",
        "plt.rcParams['font.size'] = 14\n",
        "plt.rcParams['figure.figsize'] = (15, 6)"
      ],
      "id": "22447bd4"
    },
    {
      "cell_type": "code",
      "execution_count": 21,
      "metadata": {
        "colab": {
          "base_uri": "https://localhost:8080/",
          "height": 542
        },
        "id": "bccdfa67",
        "outputId": "dc60619b-f351-48bb-ff46-73637ed3c0c9"
      },
      "outputs": [
        {
          "output_type": "display_data",
          "data": {
            "text/html": [
              "<html>\n",
              "<head><meta charset=\"utf-8\" /></head>\n",
              "<body>\n",
              "    <div>            <script src=\"https://cdnjs.cloudflare.com/ajax/libs/mathjax/2.7.5/MathJax.js?config=TeX-AMS-MML_SVG\"></script><script type=\"text/javascript\">if (window.MathJax) {MathJax.Hub.Config({SVG: {font: \"STIX-Web\"}});}</script>                <script type=\"text/javascript\">window.PlotlyConfig = {MathJaxConfig: 'local'};</script>\n",
              "        <script src=\"https://cdn.plot.ly/plotly-2.8.3.min.js\"></script>                <div id=\"c8e31389-7e65-425d-9f03-f9464d19d362\" class=\"plotly-graph-div\" style=\"height:525px; width:100%;\"></div>            <script type=\"text/javascript\">                                    window.PLOTLYENV=window.PLOTLYENV || {};                                    if (document.getElementById(\"c8e31389-7e65-425d-9f03-f9464d19d362\")) {                    Plotly.newPlot(                        \"c8e31389-7e65-425d-9f03-f9464d19d362\",                        [{\"alignmentgroup\":\"True\",\"bingroup\":\"x\",\"hovertemplate\":\"demand=%{x}<br>count=%{y}<extra></extra>\",\"legendgroup\":\"\",\"marker\":{\"color\":\"#636efa\",\"pattern\":{\"shape\":\"\"}},\"name\":\"\",\"nbinsx\":80,\"offsetgroup\":\"\",\"orientation\":\"v\",\"showlegend\":false,\"x\":[91,21,23,104,81,37,27,66,80,52,6,23,21,38,48,93,21,89,114,68,65,121,25,64,91,92,15,96,81,15,95,84,92,112,41,14,22,94,23,39,50,73,96,79,19,94,48,104,25,42,71,81,61,100,24,8,80,41,82,13,60,86,97,56,56,13,106,31,44,59,94,27,79,5,88,95,71,51,93,57,101,83,47,2,52,78,84,77,41,59,34,68,83,19,114,81,105,47,30,88,15,102,43,66,84,25,7,58,61,126,38,80,42,67,36,31,52,100,68,74,37,80,12,84,41,43,100,91,61,121,17,40,61,82,25,39,9,95,40,48,56,63,101,27,102,23,32,86,40,7,35,19,23,83,63,36,114,69,125,111,113,13,69,12,21,87,70,34,78,42,76,69,36,43,46,128,102,49,60,48,85,60,39,15,30,95,11,13,97,49,82,73,109,43,53,47,80,62,101,14,92,45,42,67,10,38,14,10,57,99,25,68,9,44,22,89,49,20,73,37,21,30,88,56,45,72,44,83,11,66,94,59,94,100,29,37,26,17,40,97,68,27,43,73,60,85,40,98,34,14,92,40,35,45,61,16,92,53,105,96,43,98,9,73,57,63,21,60,56,66,6,104,55,90,11,27,55,54,40,57,46,72,19,70,51,13,61,103,13,19,96,5,56,47,61,12,19,68,81,54,33,87,37,11,87,70,34,24,30,86,37,25,31,13,107,103,38,47,102,95,107,44,31,35,83,64,78,18,56,65,62,46,112,87,19,65,40,91,93,20,27,63,79,18,83,61,19,47,56,26,64,63,62,73,96,49,66,90,11,94,61,98,29,65,59,70,79,33,45,38,74,104,53,61,38,93,54,48,59,33,66,12,64,12,68,79,63,87,77,51,4,99,3,34,71,70,16,71,87,108,20,12,91,39,33,54,72,22,85,94,53,35,60,69,89,65,66,53,88,73,24,91,104,100,35,8,66,101,98,82,61,34,58,98,57,81,40,53,70,83,23,53,32,24,52,14,33,19,111,32,26,34,103,116,25,21,97,68,42,20,86,41,72,27,43,109,70,97,42,19,94,53,77,20,11,78,92,68,89,77,52,41,69,23,72,27,37,12,58,71,20,24,18,47,30,36,54,24,65,9,79,90,46,53,64,18,99,5,84,27,94,81,43,76,79,86,30,89,91,65,64,100,54,95,6,89,45,18,26,90,77,1,55,84,34,58,45,32,45,77,130,65,29,41,89,85,77,41,21,33,26,69,64,61,114,92,98,20,62,92,35,26,109,41,19,61,23,93,18,81,73,43,82,45,62,16,19,89,23,87,90,74,25,2,37,8,23,65,66,72,24,46,51,33,10,76,60,61,45,53,82,6,40,22,67,87,82,23,18,62,65,15,73,99,34,59,24,68,60,21,9,41,90,42,21,33,58,86,47,20,67,20,55,75,16,66,86,18,61,67,78,98,31,95,87,109,103,107,106,37,91,52,22,73,63,27,21,88,8,97,67,46,91,22,48,65,15,64,19,44,90,35,57,46,78,56,50,29,47,96,49,71,83,17,37,87,15,9,41,49,72,50,57,45,78,21,102,67,103,60,76,99,85,81,74,60,78,53,49,100,13,26,62,77,94,67,79,62,68,13,13,41,68,27,57,21,63,88,93,15,16,32,92,73,75,62,77,87,104,60,34,95,13,4,61,102,18,60,94,52,66,73,118,113,132,100,112,62,82,45,76,81,43,47,67,22,105,74,109,109,127,90,86,84,38,83,16,89,55,61,55,72,6,55,22,68,33,14,22,71,12,19,35,93,72,13,25,2,69,85,90,2,96,37,94,39,23,100,22,56,23,37,78,80,45,51,44,59,17,16,94,105,56,24,21,76,79,74,58,78,18,8,61,57,62,116,109,112,63,37,46,13,22,43,94,16,18,11,24,63,42,25,16,98,109,43,53,71,45,81,24,97,10,97,20,71,52,87,90,34,76,56,87,35,139,116,165,161,116,136,123,59,39,84,62,88,54,71,57,50,98,8,98,46,78,139,94,40,102,44,120,74,103,70,126,107,94,70,104,92,21,84,79,60,63,27,87,123,121,145,133,59,103,97,38,108,105,15,84,21,42,3,14,87,102,15,53,96,43,105,99,32,6,17,37,46,34,54,92,82,81,2,100,78,72,62,55,39,68,83,38,47,107,53,84,91,87,65,34,23,66,77,26,27,103,83,110,27,70,23,67,58,102,101,61,22,89,55,21,86,99,90,33,85,51,114,33,58,123,53,19,87,22,73,54,98,49,35,26,76,67,97,74,43,90,158,128,122,14,32,42,14,59,29,36,74,49,70,73,27,104,101,68,129,71,134,98,75,77,46,70,56,80,12,64,47,38,55,16,29,94,84,28,116,46,55,44,33,14,73,23,50,64,55,92,19,60,29,32,30,49,71,98,33,20,104,41,42,25,20,24,80,29,52,62,77,92,56,55,31,18,88,32,20,12,79,39,45,66,70,76,51,35,10,71,73,50,89,105,111,41,43,34,10,80,83,23,19,8,24,9,26,28,56,97,107,87,82,80,80,82,48,20,85,93,49,58,34,20,41,38,28,102,111,117,111,101,142,120,135,112,80,30,52,67,51,19,28,29,58,86,70,49,88,42,25,16,81,92,28,86,28,8,41,57,46,86,96,13,47,17,62,25,109,15,47,87,55,95,95,52,17,92,6,58,99,55,70,76,33,92,38,68,107,39,21,68,45,53,62,73,11,42,75,57,82,31,73,95,39,65,90,86,93,21,35,84,92,11,63,20,40,100,25,87,72,49,76,43,48,55,96,62,125,34,80,38,59,104,46,91,32,81,42,69,106,44,164,135,127,125,183,154,176,160,134,155,52,82,54,89,35,44,122,31,72,24,37,26,25,36,56,64,67,144,94,72,93,72,89,109,50,45,62,58,70,84,106,83,40,87,18,116,93,74,82,121,152,152,172,182,176,186,79,150,101,91,118,67,17,64,69,28,98,61,120,139,80,77,141,195,232,183,207,275,156,174,129,136,104,81,123,35,114,11,45,2,35,58,66,117,107,238,157,207,174,279,261,254,214,210,176,145,135,77,74,24,81,78,53,58,48,100,135,113,115,212,232,204,190,217,234,249,111,148,76,97,113,96,99,47,46,53,61,141,141,201,251,219,289,214,250,249,233,199,170,96,125,158,87,82,38,97,69,7,23,122,161,190,225,289,266,245,307,346,324,251,151,233,259,131,187,131,134,59,57,51,57,75,64,32,85,86,141,139,229,244,276,379,284,322,207,191,160,180,179,77,125,67,39,11,103,51,26,82,126,136,128,146,180,163,103,23,49,57,95,28,96,89,44,76,83,34,23,55,63,122,39,91,105,89,119,81,41,19,36,40,72,93,29,59,56,32,36,111,43,104,93,78,43,102,102,79,103,92,46,30,17,16,42,10,7,95,26,60,36,97,43,112,68,91,53,39,55,36,10,89,66,65,92,33,85,112,21,78,123,56,79,107,128,56,62,70,117,61,68,55,109,42,72,18,50,58,8,57,92,29,156,105,70,76,100,75,132,68,59,97,91,29,78,24,80,61,66,17,29,116,51,95,154,155,102,164,141,62,67,118,81,96,84,79,99,93,102,36,82,74,49,74,82,72,105,107,75,66,91,78,6,63,52,56,85,87,15,21,110,82,76,49,85,83,88,43,45,75,119,80,15,74,52,46,98,73,9,51,82,87,47,95,60,40,93,106,57,55,54,66,73,51,77,104,96,14,54,56,78,19,72,104,30,64,59,28,118,60,16,42,100,98,62,12,49,101,3,55,33,34,60,50,32,40,41,50,96,109,108,102,82,88,47,49,91,17,100,39,97,62,39,59,71,113,140,87,98,66,61,103,90,30,78,24,57,86,42,76,31,57,61,23,62,97,94,132,217,174,172,97,100,83,131,56,63,58,82,106,24,90,57,81,11,71,101,52,149,110,89,188,112,126,113,89,37,83,109,76,93,10,63,53,47,73,106,95,76,84,78,108,32,48,96,99,65,50,96,62,97,86,74,19,37,44,35,71,22,82,71,95,125,93,22,34,85,33,66,61,28,33,48,84,77,82,82,94,49,97,82,101,93,36,128,26,108,63,27,91,7,96,88,77,25,105,108,43,108,65,108,108,72,45,101,36,94,52,94,79,53,23,26,87,65,107,43,72,100,54,82,139,56,71,100,136,39,92,93,91,15,28,59,97,69,63,101,131,101,97,88,165,126,111,55,56,65,12,94,101,28,89,67,79,93,62,27,44,71,51,60,39,23,73,104,73,104,71,14,53,82,84,76,48,99,21,57,55,93,70,37,20,41,72,74,71,47,61,97,29,72,58,51,94,37,16,70,95,25,84,111,95,109,74,36,47,80,101,55,31,22,73,92,35,87,82,31,25,30,53,118,117,59,101,37,51,45,65,56,19,53,45,60,15,41,57,94,10,57,63,129,89,35,34,43,27,107,72,45,39,104,98,85,97,68,35,78,79,70,114,107,69,88,114,113,142,144,143,134,51,93,93,111,103,103,37,90,99,23,22,121,93,117,106,185,134,168,90,110,124,147,117,100,30,115,74,8,80,25,29,2,36,48,72,114,126,118,76,50,94,126,124,26,42,57,47,53,63,74,52,79,12,13,73,76,92,115,63,24,111,64,65,99,72,25,51,41,89,80,15,14,61,41,80,114,42,86,52,84,135,104,122,65,112,45,13,100,63,44,35,89,14,101,42,93,60,77,50,85,134,45,123,120,111,90,92,93,68,19,61,22,33,41,55,19,61,25,56,100,126,114,75,100,112,32,28,35,23,41,88,71,87,99,62,80,57,52,63,134,93,130,105,126,133,95,69,94,116,57,68,74,71,33,46,92,51,101,109,162,195,223,141,165,145,130,113,69,31,60,94,96,31,110,62,31,99,83,90,71,94,129,141,92,160,148,136,90,44,107,91,73,97,104,62,17,60,91,20,81,44,78,140,73,76,98,142,134,120,88,16,25,106,55,22,100,79,95,47,89,49,92,128,113,46,98,59,63,56,82,46,32,67,84,69,35,40,47,74,95,85,50,118,79,60,104,92,98,117,97,35,97,74,9,48,100,15,94,60,59,88,110,64,99,62,70,109,101,72,38,38,91,83,97,82,70,94,41,20,67,81,43,53,139,101,99,109,79,76,75,65,62,43,118,61,79,31,101,56,92,28,86,34,119,84,165,142,192,102,194,92,186,116,68,106,20,97,26,70,16,58,40,50,45,101,62,90,82,114,42,76,143,45,59,65,69,105,106,78,37,80,17,44,59,54,95,67,74,72,54,51,40,79,42,66,28,112,71,38,24,91,100,28,105,104,44,37,88,108,72,88,102,33,63,120,72,103,34,57,55,37,31,79,30,65,90,20,35,112,66,43,84,120,136,67,111,68,22,87,3,11,24,18,97,33,64,35,110,74,35,68,34,30,133,98,72,35,23,77,83,71,15,71,12,44,89,55,38,119,134,148,137,70,119,121,52,53,83,111,30,74,62,23,33,36,71,30,30,78,93,92,143,123,176,118,96,29,130,91,107,77,79,105,55,118,88,94,87,85,93,29,124,141,110,153,100,136,45,98,70,109,64,34,93,97,97,52,50,29,76,109,39,52,78,35,115,65,49,121,58,112,63,98,102,32,95,25,80,78,19,24,16,40,99,39,26,114,49,62,108,44,121,24,81,107,85,73,8,16,78,98,76,55,74,97,43,71,108,112,91,16,106,108,25,109,65,66,82,29,86,91,30,79,45,88,71,79,52,42,31,18,35,116,76,44,67,74,97,93,107,89,39,61,35,45,30,63,100,49,101,49,65,127,121,91,90,57,79,61,50,100,20,98,45,65,66,66,50,58,98,162,100,129,122,111,103,135,130,112,22,65,34,107,30,122,93,92,69,64,27,104,104,82,131,133,80,83,52,121,124,56,66,32,58,59,70,12,81,41,35,102,48,16,111,70,111,105,67,48,10,97,49,58,94,103,10,64,90,83,107,22,81,67,115,87,73,33,18,85,57,84,101,55,8,76,85,104,113,125,38,82,106,31,39,60,105,76,65,98,19,100,51,78,67,19,101,126,114,123,89,107,61,60,101,136,51,23,97,81,71,42,68,46,87,73,75,87,16,108,107,75,45,87,67,125,104,104,77,55,31,83,61,74,78,72,48,30,97,83,18,64,95,153,53,136,126,139,136,122,62,42,58,110,30,84,70,55,27,82,66,70,79,112,122,88,132,57,121,79,92,115,99,94,72,57,85,88,18,92,43,14,114,88,39,56,102,50,117,112,110,50,73,65,85,48,101,18,71,27,23,108,87,99,115,115,97,25,64,75,107,82,33,104,76,80,28,11,58,17,78,8,73,93,94,51,111,41,106,92,41,46,102,87,70,91,9,67,41,29,98,28,28,82,53,36,78,82,59,123,65,109,44,75,37,73,71,51,92,89,36,48,38,126,79,94,80,62,67,93,145,64,113,48,82,69,18,18,87,11,19,56,87,130,185,146,195,141,175,131,94,116,25,46,93,38,46,105,106,77,23,23,93,88,116,112,165,150,199,110,162,186,131,131,90,88,11,101,76,84,33,58,92,40,96,130,84,13,55,89,71,106,64,112,90,15,57,24,10,16,2,106,94,53,94,91,61,108,25,40,52,120,113,11,60,76,84,5,52,99,58,69,93,112,17,62,91,96,41,76,121,28,55,44,55,49,43,88,12,4,31,46,108,44,31,37,84,80,82,123,108,107,57,91,52,74,12,38,30,17,9,40,37,109,122,130,99,77,120,62,112,90,62,125,30,75,62,15,84,62,15,79,87,100,66,24,115,112,87,130,173,87,76,92,56,121,125,76,97,57,14,53,84,48,99,32,74,28,24,75,119,56,94,138,137,91,82,119,97,63,65,8,54,5,98,72,25,46,57,49,49,81,78,94,125,61,64,125,98,111,73,60,88,12,80,53,77,56,22,87,42,110,111,62,26,72,127,107,44,101,79,110,101,8,81,15,60,49,21,78,43,31,111,78,23,83,88,106,104,113,148,130,81,97,73,25,79,103,62,41,41,114,79,58,91,99,114,95,126,89,79,161,142,78,59,24,25,93,34,29,76,19,110,123,97,60,138,84,112,69,92,117,57,52,45,69,97,95,77,43,87,51,44,81,128,73,62,76,92,119,146,113,129,149,49,93,108,50,31,94,67,43,99,80,62,84,64,74,93,88,74,107,100,45,45,29,32,43,38,86,73,10,43,20,46,61,45,74,69,48,94,77,68,101,49,58,52,60,100,26,43,9,13,13,84,86,68,78,28,63,44,70,113,96,109,76,40,66,58,13,46,42,74,34,106,83,19,73,38,75,83,41,121,30,43,121,48,43,34,15,94,34,37,56,70,34,45,75,41,24,47,123,83,40,95,80,98,60,144,52,39,80,77,94,19,51,74,52,57,40,38,57,95,67,109,51,25,116,85,111,60,106,102,83,87,93,55,31,26,7,48,61,42,99,107,96,92,102,137,66,75,122,123,64,112,69,101,12,54,67,68,3,17,88,77,66,56,136,38,128,68,63,138,48,92,51,100,66,94,67,94,98,43,30,101,28,43,91,45,82,97,99,108,13,26,100,1,42,57,89,84,13,121,28,81,43,16,62,90,61,83,50,65,77,107,43,19,27,54,76,86,56,96,52,66,42,42,24,44,69,40,35,43,38,46,40,56,38,78,88,103,69,92,69,86,108,96,76,99,99,103,74,130,54,82,61,80,90,5,56,98,10,96,78,110,119,95,39,94,109,43,101,126,131,74,93,123,41,37,40,65,33,13,46,61,94,79,77,148,121,137,123,73,58,126,109,57,38,63,49,88,67,85,101,105,59,109,88,128,66,111,98,118,81,145,31,73,73,20,18,6,10,67,62,87,78,21,42,31,103,63,99,103,22,49,118,69,60,82,11,61,74,37,92,115,94,124,85,46,23,68,33,88,71,99,35,26,90,50,93,39,86,43,11,91,74,51,36,107,94,36,97,76,26,103,40,80,14,66,83,88,12,93,51,57,49,94,16,70,91,34,35,32,59,73,88,33,93,74,45,37,70,37,48,35,62,103,48,119,125,108,46,94,94,71,122,44,84,91,43,48,25,12,65,18,65,51,105,42,74,57,147,117,75,120,75,119,97,78,70,94,39,81,87,57,20,90,31,98,68,102,99,80,58,120,119,53,125,57,64,89,52,30,23,33,33,51,59,99,95,3,99,93,26,113,29,103,63,49,110,86,71,68,98,70,104,99,17,45,86,23,19,64,75,89,91,37,101,71,78,119,111,74,66,42,93,46,64,32,70,43,52,30,87,73,37,81,65,65,41,37,102,77,66,58,96,104,42,87,105,29,33,106,80,117,29,105,102,171,56,87,125,112,86,94,104,69,84,83,15,101,27,60,93,106,68,63,84,143,142,177,121,178,152,146,150,132,90,47,89,73,71,32,68,24,89,48,58,74,52,79,87,174,138,214,121,110,137,193,157,104,122,107,104,120,22,43,94,6,101,19,95,40,115,152,96,139,61,98,66,110,141,138,51,73,36,48,26,47,64,57,8,93,88,71,48,72,68,93,73,30,56,82,115,80,79,25,71,68,68,50,31,100,78,26,80,96,107,48,43,75,106,35,99,96,18,66,47,42,33,37,79,13,55,43,89,82,74,20,10,103,17,87,115,35,65,148,39,49,84,96,90,68,37,16,54,54,15,116,46,97,36,33,46,35,61,77,64,26,105,58,78,56,61,97,11,60,77,79,93,101,62,63,60,46,52,54,109,55,34,56,62,94,65,80,17,13,41,93,35,26,114,80,67,133,117,137,155,84,103,128,37,124,48,88,50,101,26,76,15,93,59,5,47,100,103,97,81,59,91,113,92,104,119,88,67,15,58,81,30,74,63,44,30,56,24,94,50,53,67,50,92,37,122,65,37,85,25,90,22,98,56,90,99,33,102,49,27,49,66,74,101,25,114,107,74,41,42,94,86,87,79,23,24,5,103,29,17,67,67,84,71,44,73,78,83,114,71,54,113,69,56,43,93,94,93,99,22,80,71,59,47,33,87,132,97,36,41,98,61,36,81,66,23,47,58,66,100,74,65,107,53,67,62,75,108,97,95,51,46,96,111,52,69,101,76,84,85,54,101,53,70,59,100,162,123,145,175,97,120,131,118,124,81,109,113,66,90,84,7,9,26,28,14,47,87,144,43,95,84,93,67,77,47,143,104,87,42,94,51,37,87,66,21,28,74,48,104,58,45,45,109,32,39,80,95,75,95,66,19,58,101,85,80,79,55,85,105,37,110,91,93,64,22,126,93,113,119,114,56,59,69,90,93,21,54,98,34,77,60,88,62,97,50,109,72,59,84,62,94,109,134,87,96,52,24,103,63,58,83,43,101,50,60,97,108,101,72,68,98,66,47,72,79,103,16,17,13,13,31,84,46,34,59,22,32,52,59,85,108,70,126,60,70,86,69,37,83,20,95,60,59,86,58,34,56,126,68,76,67,79,55,83,80,60,68,48,93,98,9,16,75,90,46,74,76,89,59,88,114,57,53,90,108,120,28,74,72,32,81,41,21,37,66,55,90,46,22,78,42,100,38,56,33,71,27,54,80,43,64,76,6,11,38,62,34,58,113,23,104,22,50,44,50,57,92,102,44,7,8,26,16,53,94,26,64,81,64,40,28,126,64,52,76,52,41,41,74,63,33,75,55,15,14,66,16,50,35,18,45,107,16,107,113,77,116,45,90,87,14,87,44,65,17,90,98,62,82,68,84,111,80,124,109,103,64,77,112,75,97,92,33,108,24,26,54,61,36,35,5,76,70,77,112,60,142,160,118,51,137,146,101,119,30,89,55,79,36,46,27,77,18,60,29,59,104,116,100,128,114,63,77,124,50,69,73,88,31,41,23,36,93,88,106,76,52,78,49,95,107,19,32,81,49,51,50,93,31,61,98,28,49,68,61,83,50,85,101,51,39,95,69,43,48,31,92,59,18,110,69,23,25,35,58,38,31,42,42,56,101,110,96,64,101,30,11,39,92,106,96,123,27,98,90,51,77,107,41,106,88,70,24,123,49,85,60,78,52,49,112,21,74,66,60,126,48,73,115,118,69,75,62,100,56,46,14,58,99,55,41,78,107,51,95,127,72,103,55,40,134,42,77,111,116,119,23,59,38,29,58,73,42,73,54,51,17,48,77,45,105,24,102,54,50,39,123,42,54,80,57,77,8,30,32,75,41,80,86,10,52,106,37,57,98,100,96,99,34,49,51,37,35,105,105,85,80,24,24,98,108,80,89,122,99,96,29,72,89,95,25,30,32,60,93,75,97,110,103,40,71,129,100,49,121,66,80,95,28,4,27,18,22,56,67,97,81,92,86,39,43,66,61,86,41,4,30,37,68,63,48,42,54,91,20,26,77,69,56,128,32,119,104,60,56,75,43,104,40,109,49,102,34,73,109,90,57,71,47,92,100,81,125,36,26,117,32,43,93,37,71,10,109,96,62,15,42,30,13,67,71,62,92,58,133,82,64,121,44,103,22,50,70,81,43,55,3,46,73,89,11,59,66,61,107,86,64,82,115,30,41,53,59,61,18,89,108,39,85,59,40,56,45,32,57,30,38,109,119,96,62,78,76,78,21,95,14,24,76,69,53,113,35,42,84,56,82,116,56,93,104,39,38,62,59,100,11,45,104,110,76,40,26,84,67,57,51,98,65,91,102,15,13,63,53,90,16,85,56,52,96,48,96,41,73,44,81,56,48,132,83,76,30,124,105,25,73,18,29,100,78,88,6,67,74,83,41,99,114,118,71,128,131,129,106,59,107,144,83,93,24,42,102,7,26,14,7,2,18,42,78,38,61,71,119,107,117,21,20,39,89,134,102,63,105,98,71,75,41,88,92,82,105,101,35,91,52,79,75,69,99,63,13,76,4,97,51,111,28,58,41,108,73,34,111,74,34,92,57,43,74,83,98,99,26,44,40,53,68,97,96,93,34,35,61,75,50,98,29,21,58,59,8,53,77,8,66,25,67,55,66,42,80,65,92,60,112,24,34,48,34,109,13,55,70,64,6,46,82,76,99,39,103,54,37,102,72,42,81,37,59,44,69,71,92,104,78,92,46,13,32,37,12,49,54,61,113,48,132,126,70,68,76,88,115,68,71,94,65,96,57,19,30,3,52,11,95,92,67,56,137,144,84,108,79,121,129,124,37,12,12,96,4,52,2,21,82,105,34,100,44,57,62,28,98,72,76,56,70,99,36,18,93,39,78,36,112,33,51,52,91,19,109,89,45,94,94,17,33,67,63,32,72,77,18,20,74,14,32,71,61,45,72,52,85,102,42,67,18,62,100,83,31,14,72,55,17,36,29,83,57,93,67,74,58,116,109,75,99,30,113,14,108,42,18,87,66,77,98,94,127,153,69,156,116,147,111,47,117,72,88,64,17,90,104,73,38,28,25,37,76,70,63,109,50,106,43,49,120,58,89,35,8,101,36,8,26,24,96,67,86,85,92,110,64,50,60,80,30,111,100,22,42,38,43,13,2,1,12,101,75,41,60,103,53,73,16,39,31,23,26,116,26,10,102,43,23,59,58,109,72,92,75,81,39,109,36,55,80,49,36,68,55,46,15,21,101,71,42,95,69,47,52,53,115,78,41,37,62,60,104,78,23,38,65,69,93,57,31,113,98,112,114,68,56,82,112,63,2,86,13,14,101,82,76,35,111,59,84,65,14,102,79,49,55,62,90,54,59,60,100,118,122,28,44,86,90,32,60,36,77,65,71,74,133,53,76,106,134,157,59,47,101,60,102,33,7,29,24,18,19,29,85,33,111,34,66,69,98,68,31,93,22,56,76,58,69,11,8,34,13,109,18,108,100,59,63,30,113,32,28,78,108,100,67,74,9,27,72,25,53,105,107,63,57,52,33,42,69,61,115,62,26,71,69,76,76,68,76,58,36,47,66,46,35,67,72,31,36,113,67,27,59,97,21,51,88,71,15,75,27,33,53,96,85,43,84,93,31,116,108,108,64,25,102,41,86,49,81,5,88,100,124,40,59,146,54,91,137,127,130,53,71,64,50,59,35,82,52,49,103,92,51,120,72,115,148,128,56,124,72,135,111,99,76,63,24,101,51,85,72,44,43,103,101,101,21,63,111,42,130,100,69,62,55,68,57,20,76,87,83,102,51,51,54,46,71,101,34,68,32,117,98,84,53,103,31,20,18,104,117,79,96,79,116,36,92,24,108,43,39,114,109,96,10,107,101,49,20,68,72,32,64,46,53,69,49,62,92,60,132,122,84,32,67,72,31,31,43,49,98,53,45,34,14,108,102,95,109,109,104,103,105,45,31,43,65,66,98,56,71,96,40,7,40,75,42,65,115,166,107,122,111,126,121,70,74,98,110,40,13,68,33,94,55,82,25,14,16,94,90,114,128,127,114,119,77,115,99,77,91,102,67,75,9,84,46,25,122,124,64,104,109,99,100,23,100,116,72,90,18,15,96,79,64,51,62,46,90,28,30,92,83,29,44,113,71,76,75,122,20,81,39,107,76,22,78,49,18,88,88,91,113,50,65,106,17,52,89,135,73,41,35,97,27,38,59,45,84,107,100,109,105,87,71,85,78,86,96,131,96,93,80,65,34,86,19,38,73,76,11,3,51,104,132,131,71,79,95,170,163,209,126,166,114,155,242,152,97,35,19,59,36,69,59,75,118,118,199,229,284,227,227,132,149,217,170,153,213,161,157,38,78,96,77,7,59,40,85,137,213,165,212,163,174,205,188,187,115,154,211,97,30,53,21,72,67,33,29,69,122,101,59,67,84,122,57,135,85,106,104,109,28,101,8,16,36,53,114,39,96,122,100,21,83,62,67,135,63,98,65,58,50,34,70,92,14,89,83,37,99,76,64,90,132,104,55,104,47,34,60,31,48,9,91,48,20,31,24,16,81,94,78,63,92,126,50,149,140,103,36,63,16,107,69,89,15,78,92,52,45,66,100,131,122,172,160,140,75,118,79,105,275,141,38,16,57,40,12,39,63,78,73,161,214,244,230,186,120,164,83,176,246,98,123,108,50,72,85,13,68,43,25,64,159,227,270,175,234,222,102,185,138,152,194,116,121,49,65,9,5,7,96,21,12,116,125,130,91,136,107,164,87,43,100,88,95,64,33,12,8,42,35,50,117,44,69,64,102,37,124,82,145,105,102,68,50,62,110,36,82,102,76,35,63,109,82,58,140,135,57,65,96,119,87,73,52,53,115,59,23,7,40,68,74,23,80,82,125,62,92,92,107,43,90,93,29,15,105,82,71,104,75,32,98,110,106,41,140,146,139,70,80,94,85,112,32,89,62,102,99,88,61,31,96,91,25,71,156,156,140,192,145,182,169,125,135,56,118,40,113,50,15,90,106,18,80,102,57,103,76,124,137,136,101,72,95,100,93,57,74,89,53,95,66,39,86,92,75,128,97,125,71,98,85,117,68,34,43,26,84,68,84,102,11,74,103,92,51,42,111,103,58,106,38,39,45,86,66,31,85,28,80,97,2,82,23,44,39,92,81,37,82,73,51,127,99,51,35,62,86,104,25,17,94,54,18,88,29,78,20,88,124,44,77,89,116,108,132,72,46,90,93,71,39,105,38,5,3,11,38,94,32,149,167,169,126,147,52,82,118,55,114,57,74,59,59,80,73,18,65,59,73,97,43,72,125,101,125,160,116,87,150,79,106,22,76,55,31,90,101,27,100,51,48,66,22,121,50,88,63,165,125,111,109,83,54,85,93,22,42,104,83,72,72,44,80,92,81,61,81,83,76,81,56,115,114,93,97,17,85,67,95,9,26,75,23,99,75,110,37,113,49,65,111,111,89,54,95,121,66,61,91,70,71,93,3,14,28,86,22,96,20,50,74,84,88,90,102,133,96,100,97,68,25,54,65,40,87,95,11,8,95,100,24,48,134,73,134,97,94,119,83,61,41,56,86,64,60,56,71,81,54,65,17,44,73,117,137,138,58,96,65,69,65,123,115,87,86,40,81,29,66,68,89,7,73,36,36,52,138,148,166,75,147,156,87,86,40,36,28,66,72,8,19,9,93,107,73,128,45,47,51,97,147,104,111,131,83,107,91,58,97,78,60,28,18,98,38,43,59,85,92,42,39,53,122,50,25,121,86,28,46,32,92,81,79,33,90,94,26,73,53,40,90,49,44,103,12,56,26,24,63,84,62,18,38,82,2,69,80,75,20,5,30,54,30,94,11,31,75,69,72,91,21,109,90,120,124,77,66,59,111,51,98,85,59,85,56,6,64,58,77,28,111,103,73,131,85,99,131,119,83,75,95,89,53,88,103,74,65,82,117,99,71,108,142,152,180,119,128,92,120,112,10,68,112,70,68,111,66,92,51,62,38,38,112,83,95,170,253,147,134,133,75,42,29,96,61,23,74,38,50,58,40,148,111,73,82,112,63,81,62,108,107,31,72,6,20,49,6,59,44,84,81,49,41,59,18,33,70,83,106,51,40,59,24,62,95,52,43,12,16,89,68,65,77,44,50,49,58,105,27,7,7,34,69,29,87,21,28,26,71,28,35,103,17,31,85,108,54,28,3,44,76,33,26,88,9,67,71,34,79,12,22,60,47,101,106,69,78,76,63,36,31,34,52,78,66,11,43,38,102,105,23,36,75,65,34,111,51,74,45,55,48,74,69,102,86,99,14,92,123,45,68,17,110,18,34,52,33,64,35,36,34,65,41,57,71,63,12,73,95,24,45,92,13,37,37,70,12,86,74,5,15,110,88,67,102,61,71,13,110,78,100,13,96,11,98,40,22,42,4,51,91,36,11,54,33,42,108,101,119,107,38,76,97,87,92,9,17,27,20,63,31,67,29,106,64,102,46,78,60,79,86,108,53,54,48,42,88,34,26,67,107,31,97,88,33,107,57,117,28,73,3,56,47,43,27,31,34,94,63,88,102,12,100,103,97,92,78,64,25,34,69,29,54,30,83,112,133,73,78,118,106,95,42,81,101,93,7,29,33,104,17,112,49,67,113,106,113,54,101,29,63,88,67,17,53,54,95,41,47,46,45,121,125,77,64,73,72,104,31,38,4,74,41,32,39,44,16,8,29,57,37,97,101,34,44,42,52,38,22,70,92,95,24,62,86,87,12,109,56,36,52,128,122,107,38,11,92,104,55,9,64,23,110,54,118,126,76,99,82,97,60,15,30,33,15,47,52,98,61,77,99,104,99,74,171,156,143,163,105,78,119,54,75,61,57,64,75,14,77,104,72,24,109,89,116,96,70,173,136,84,109,52,103,3,39,46,43,74,77,14,67,36,26,76,48,89,18,86,32,13,75,27,22,90,55,19,87,22,16,44,25,84,29,5,52,89,80,93,88,25,34,52,29,18,24,62,44,19,53,81,43,30,109,40,71,99,100,89,95,94,80,63,4,102,57,42,77,77,58,43,58,90,21,64,87,49,70,34,74,100,83,67,27,62,105,75,112,54,67,32,37,76,70,97,66,57,73,87,20,54,20,49,83,91,4,52,63,78,50,106,107,63,126,145,118,110,32,31,118,40,41,111,82,65,57,75,5,81,87,125,118,50,100,47,39,97,71,38,49,15,70,34,55,10,27,27,97,69,47,109,10,58,88,27,31,82,102,107,19,73,91,7,65,70,14,39,68,52,18,48,120,48,107,73,66,40,58,87,33,94,42,81,43,69,77,78,29,16,84,62,114,52,103,77,95,90,41,78,101,32,24,71,107,6,46,83,78,21,49,106,37,93,34,77,48,71,21,85,60,10,27,37,52,97,58,57,28,85,126,64,102,57,96,42,78,10,78,98,7,92,17,50,34,10,36,72,18,62,55,123,88,141,49,36,50,28,61,29,38,115,21,87,96,5,68,9,94,40,41,78,22,36,55,74,63,97,47,8,33,58,28,28,48,109,45,98,103,109,74,90,110,65,88,91,56,80,65,29,51,48,25,78,64,99,24,74,57,104,57,118,46,61,113,21,97,6,3,62,76,108,73,56,104,103,40,39,81,74,41,43,79,82,98,49,53,10,59,17,24,30,90,59,68,100,96,52,84,25,106,88,95,69,65,46,89,14,72,72,21,27,79,94,113,116,22,52,98,11,67,64,64,33,84,36,50,43,72,48,70,38,40,103,90,94,68,14,57,14,85,19,60,23,94,100,98,112,99,56,91,86,40,95,47,105,20,58,100,97,29,38,78,13,56,92,76,41,109,87,58,87,58,100,43,19,87,96,95,65,72,28,79,59,8,11,69,101,9,65,106,61,16,91,37,40,16,58,101,23,30,7,52,68,34,95,25,62,49,44,115,126,95,87,91,63,98,95,3,10,56,90,82,48,68,107,144,113,128,84,56,12,24,64,45,44,83,104,35,13,81,66,99,116,125,129,39,82,41,38,52,88,21,41,14,69,33,48,100,87,42,23,68,105,30,30,78,90,14,76,33,60,54,74,40,41,24,113,52,89,87,98,91,44,54,64,55,67,58,29,108,122,93,96,122,100,94,25,67,56,42,78,25,41,22,16,40,100,85,113,113,40,70,99,125,115,96,50,80,42,48,99,78,47,39,39,108,66,115,39,50,79,93,72,106,96,77,99,8,20,23,13,66,47,80,37,11,49,40,27,32,33,49,6,68,31,5,68,49,11,23,49,103,39,80,81,70,129,51,95,106,49,59,52,21,37,106,82,99,105,26,100,43,25,29,78,52,23,68,84,87,66,27,18,15,51,84,66,23,19,27,34,45,47,12,27,25,59,90,14,73,39,102,96,93,92,73,27,46,89,12,16,98,56,14,102,75,52,29,29,73,50,22,104,84,86,84,77,44,24,101,80,34,37,26,75,58,90,90,84,13,53,30,94,73,10,30,31,31,10,102,11,66,100,60,49,98,97,71,23,6,35,44,21,6,63,93,81,81,37,24,96,86,15,100,80,99,57,77,35,88,37,109,62,38,69,107,80,107,66,6,23,99,93,72,43,97,35,38,103,55,22,80,100,21,104,22,49,33,42,28,57,92,57,51,90,97,16,44,90,108,10,84,104,70,103,45,100,43,87,101,68,97,70,83,32,71,14,39,59,102,14,15,21,58,23,28,17,42,9,11,28,96,81,50,99,57,92,68,76,79,67,98,113,97,44,95,6,52,15,73,14,25,62,100,58,82,43,64,79,98,64,15,86,42,14,41,82,94,78,7,58,116,134,92,163,159,192,127,152,156,62,60,84,21,36,44,77,102,56,98,101,35,49,115,174,114,106,123,159,141,79,45,24,63,74,73,61,66,61,13,33,76,43,53,85,119,83,132,126,138,64,22,50,73,22,23,47,65,64,81,80,22,87,104,66,25,15,101,76,109,30,83,46,48,7,40,69,88,41,53,90,72,93,43,80,98,95,38,21,73,48,44,3,9,62,6,75,23,70,30,69,18,103,73,105,50,74,67,100,60,45,16,58,11,52,32,94,36,75,37,54,34,42,73,42,25,101,55,13,89,22,90,37,75,141,203,177,164,78,95,114,54,8,20,45,102,48,67,41,86,14,9,107,64,110,80,141,147,136,146,117,89,16,18,79,69,26,37,102,109,83,39,58,78,104,30,65,37,131,38,6,68,53,90,80,77,37,115,38,45,99,40,62,39,37,111,40,114,33,73,91,46,53,93,34,72,56,112,13,93,64,71,57,49,77,72,39,30,97,45,11,69,13,44,60,92,106,71,61,46,120,63,50,76,108,21,29,60,8,39,95,97,27,28,56,53,106,120,98,111,87,120,64,67,97,84,88,50,2,5,98,29,75,55,73,88,99,60,12,34,45,17,20,57,60,10,52,71,10,29,49,16,47,94,57,43,116,35,52,47,82,65,53,75,27,19,98,3,23,103,29,52,45,45,62,55,80,25,51,72,19,30,29,41,66,7,92,49,28,102,34,93,64,91,43,102,11,97,19,51,11,3,5,100,77,15,104,77,74,108,83,12,93,102,75,54,22,63,96,97,34,27,7,25,22,13,47,32,97,9,29,111,52,88,11,84,52,25,86,11,67,102,22,74,28,53,59,64,46,143,77,27,95,21,99,71,66,19,13,78,64,39,11,87,48,59,100,132,176,152,124,108,57,107,69,45,52,9,56,60,80,57,93,54,59,123,153,82,153,125,152,111,83,89,106,49,4,56,86,59,98,54,18,91,87,38,61,87,65,67,90,76,61,17,15,39,39,20,77,23,46,105,51,21,38,92,57,20,71,108,39,106,89,29,73,73,71,96,47,48,52,85,38,64,69,85,41,95,67,36,83,96,58,77,78,54,81,29,39,95,65,74,64,79,52,24,81,48,64,57,15,68,56,79,24,76,7,10,56,111,80,69,76,136,115,82,57,149,58,94,19,49,51,54,14,71,92,49,26,44,119,124,137,204,268,224,285,208,247,200,128,35,72,83,52,29,61,69,15,88,35,104,80,116,139,156,145,138,151,186,183,176,92,69,91,63,26,59,59,72,60,38,20,68,87,46,57,59,40,27,37,56,88,75,100,60,59,30,55,12,15,86,42,23,50,102,70,56,92,94,76,52,20,57,93,59,16,77,13,74,21,72,33,27,81,46,58,105,51,132,93,15,81,14,66,19,9,70,60,12,98,96,88,38,37,35,92,141,127,115,103,44,20,34,54,86,4,25,7,93,59,57,102,56,80,57,94,115,65,75,94,47,97,99,58,27,88,86,79,78,77,3,63,72,29,75,40,171,162,149,212,139,118,118,138,87,90,46,7,33,98,86,90,42,24,85,37,48,70,77,95,19,31,77,56,22,29,1,52,37,56,40,16,52,47,55,35,42,41,27,42,2,71,79,36,62,67,91,104,45,104,41,44,58,26,27,86,104,6,48,20,15,46,70,114,18,50,36,4,16,105,69,44,54,52,36,20,63,108,61,111,23,86,72,24,52,46,15,94,60,99,54,58,37,80,4,73,97,51,106,13,88,99,93,81,30,48,4,52,5,72,3,43,23,80,31,72,59,40,36,41,91,97,18,88,71,73,105,68,37,113,92,69,89,69,19,54,60,73,96,53,27,69,31,74,12,71,18,20,59,67,65,24,51,33,86,89,78,37,107,91,87,83,18,51,27,39,81,87,43,45,96,33,86,54,88,13,33,44,68,38,68,60,41,109,58,30,31,20,44,31,33,80,17,65,55,40,29,81,12,27,54,52,22,82,31,40,14,44,94,68,86,72,15,31,41,104,14,37,61,131,89,91,70,79,116,85,72,55,19,91,50,21,21,15,21,27,67,46,37,98,91,168,110,116,114,141,103,27,75,80,65,59,55,72,112,45,31,30,10,17,69,104,10,31,18,53,82,9,19,69,82,22,85,37,50,71,96,69,66,75,110,48,87,72,95,15,33,89,3,59,106,18,117,36,95,109,35,101,157,91,149,122,91,25,4,20,13,44,52,28,111,112,79,97,26,67,79,70,109,124,115,63,95,93,43,52,36,32,75,96,86,82,76,140,79,67,98,117,139,136,144,127,94,86,30,100,13,76,7,46,44,27,106,117,167,92,104,255,163,131,253,174,202,198,91,106,170,83,91,106,93,3,89,18,74,200,232,190,326,252,277,286,284,329,313,264,164,126,68,78,132,80,106,89,86,47,68,76,147,191,139,208,321,257,366,289,259,289,173,192,131,169,69,85,113,35,56,36,3,25,85,67,116,143,181,217,283,242,250,253,239,248,180,126,142,190,51,95,27,72,88,21,93,38,179,173,105,236,194,180,206,162,223,230,200,138,111,169,91,74,75,33,27,7,60,87,147,167,202,263,253,245,226,294,298,313,189,149,186,123,114,53,68,38,35,66,31,28,32,51,181,224,242,209,289,355,289,330,327,312,195,239,183,139,155,162,128,17,43,47,36,55,72,109,166,121,261,232,235,125,88,47,128,169,106,172,110,49,46,80,46,46,19,73,5,81,60,123,124,152,134,119,195,216,98,100,108,164,112,123,101,105,128,86,81,25,60,76,53,38,137,168,195,153,190,120,126,110,93,142,54,8,94,45,88,38,49,50,93,56,99,115,118,112,94,132,124,76,113,118,61,47,56,14,94,59,74,66,44,102,75,58,129,79,87,39,38,119,93,94,82,15,77,13,68,32,104,37,101,80,79,92,98,63,73,132,98,87,60,33,74,66,92,97,100,71,59,116,107,112,54,47,33,113,47,90,99,92,40,45,25,80,23,49,94,71,100,50,55,137,72,121,155,77,99,85,80,122,126,131,67,34,24,43,77,65,92,87,83,98,146,125,233,165,245,160,160,203,125,119,88,28,66,82,75,46,74,89,54,58,106,115,190,151,122,129,167,158,76,88,50,52,57,18,59,10,28,66,16,79,88,67,85,82,56,98,119,135,82,67,57,19,5,43,15,65,19,102,82,116,54,131,75,148,61,94,67,114,92,45,43,90,40,43,83,93,66,44,60,94,84,20,98,23,54,124,54,133,80,32,73,71,90,84,5,51,85,61,68,91,132,86,84,65,162,63,110,101,129,59,70,17,21,64,55,45,58,76,78,89,85,114,103,100,84,65,114,87,145,84,47,104,81,27,34,9,73,12,95,89,3,82,28,86,52,106,184,168,144,196,193,123,91,76,28,42,65,99,84,13,33,101,85,23,126,58,134,150,94,136,53,45,35,67,6,42,23,39,109,52,50,69,138,140,96,80,53,123,134,112,31,74,49,77,39,74,21,35,116,39,72,52,103,129,101,84,78,47,89,50,108,61,68,18,40,51,67,37,111,100,108,60,83,133,118,101,112,114,120,20,99,67,37,30,39,75,118,81,73,81,108,34,68,62,45,122,112,123,43,59,56,16,2,70,60,26,55,101,32,5,67,76,54,121,92,129,118,142,81,55,112,65,97,34,89,46,53,91,14,87,53,58,35,75,154,125,123,154,76,116,120,89,32,70,95,46,98,109,81,87,22,99,56,37,44,76,156,133,121,101,111,110,128,107,89,51,37,32,79,85,60,74,52,67,100,43,62,102,127,26,113,89,91,104,88,66,56,37,17,18,101,80,30,39,122,82,114,36,55,35,57,131,97,105,51,108,100,86,81,13,38,110,93,100,101,63,110,68,80,63,95,138,23,103,86,31,33,80,40,93,30,125,47,32,40,120,121,94,110,75,113,27,119,52,61,56,61,77,16,35,43,61,91,131,83,64,168,151,69,71,81,70,37,32,73,97,49,36,83,95,82,107,114,91,132,117,129,147,191,220,60,172,89,51,81,16,16,100,2,16,13,21,101,87,113,145,164,162,147,158,104,111,129,78,76,50,91,30,100,79,27,95,39,117,110,132,116,92,133,73,101,100,106,56,27,22,40,97,40,24,2,85,50,123,36,48,110,61,100,109,119,105,125,108,79,58,80,72,59,25,7,2,12,94,100,102,27,93,67,40,28,108,126,64,87,86,62,79,33,16,40,26,73,18,83,74,123,52,101,52,109,147,124,83,74,94,68,50,32,17,58,6,42,94,104,115,75,118,172,148,130,90,103,140,80,27,120,37,50,99,18,29,54,40,27,105,121,110,210,185,148,128,104,129,64,80,46,127,42,29,64,105,62,93,3,36,51,90,116,162,124,129,107,73,89,93,84,100,30,46,71,67,69,26,51,35,63,86,40,89,80,101,120,44,116,55,54,109,43,26,98,73,53,25,63,119,45,90,16,43,47,17,32,95,91,61,69,74,18,79,51,95,92,48,39,25,62,93,13,117,122,93,91,57,62,48,54,84,96,25,92,16,99,90,20,58,67,77,43,110,86,36,86,126,96,99,143,122,62,123,29,111,64,53,58,110,92,6,87,90,81,81,17,121,134,43,132,129,106,96,84,84,47,108,15,101,61,13,23,78,41,58,63,151,151,138,128,194,177,180,101,85,62,47,70,16,59,23,94,37,46,55,18,37,40,37,113,106,85,90,181,98,78,84,60,135,55,100,87,103,19,85,88,63,86,16,32,26,118,127,35,80,73,106,103,66,36,52,16,27,53,60,51,12,69,86,31,66,90,64,107,80,64,77,133,106,98,52,61,40,70,46,41,32,96,90,75,65,70,47,31,59,106,35,70,26,56,136,126,83,30,101,28,35,46,96,57,28,22,46,18,32,36,36,54,104,59,69,154,50,21,41,95,116,84,70,17,67,78,80,104,44,38,123,91,87,91,28,69,43,90,131,75,80,93,55,31,88,113,105,90,117,71,132,142,88,122,147,101,96,138,48,43,33,79,30,44,11,17,89,81,70,65,109,92,39,123,153,111,95,55,141,125,84,86,35,71,21,33,35,19,45,98,46,3,43,76,11,32,104,27,78,106,109,39,57,61,107,15,19,58,45,57,95,58,93,83,6,61,56,29,38,80,73,29,24,88,42,3,77,48,13,26,14,6,20,23,50,29,78,11,57,92,75,47,48,29,66,92,77,46,25,124,115,39,108,32,81,56,101,118,28,26,88,62,14,78,82,70,25,56,66,23,93,70,51,48,48,65,93,127,126,37,101,45,73,90,60,66,100,99,85,69,72,143,83,128,128,178,81,177,135,90,79,51,63,96,108,46,53,63,77,60,42,100,49,50,125,108,98,73,133,118,64,43,80,55,55,74,61,72,38,65,63,43,111,81,53,85,77,130,40,130,110,52,24,42,73,81,31,65,79,51,94,62,119,84,119,124,130,57,97,98,38,36,10,55,11,37,64,14,69,19,61,97,41,15,53,86,109,94,66,99,68,51,71,71,91,47,33,7,69,26,69,20,56,27,42,42,19,82,111,27,60,39,76,65,66,89,62,43,58,59,65,11,61,89,64,33,72,84,80,80,38,101,69,114,68,131,121,76,29,36,43,19,25,55,60,5,24,108,68,112,179,164,108,61,51,80,39,81,41,25,10,60,96,100,36,17,51,57,120,77,220,207,199,265,177,158,119,165,135,107,68,27,83,43,37,69,75,51,24,97,99,134,132,113,150,74,86,58,84,68,54,55,63,5,89,45,52,77,27,88,53,71,125,121,74,34,63,112,86,40,68,21,86,55,35,46,40,49,28,108,114,62,23,56,6,106,102,32,107,138,108,78,112,35,27,85,23,99,33,93,75,20,45,66,27,60,14,83,84,94,82,52,84,8,39,64,33,100,93,54,125,106,99,112,116,80,132,76,142,37,116,104,90,91,25,47,85,33,64,56,19,116,55,161,132,112,137,90,128,82,108,98,37,29,34,40,61,94,50,40,38,60,36,62,101,142,103,174,99,163,133,87,96,101,94,51,63,95,94,100,14,95,24,43,87,103,57,99,118,110,84,52,126,53,82,80,33,84,91,7,45,7,13,101,72,84,20,52,85,79,115,61,84,61,140,77,116,85,15,26,58,90,94,95,53,87,61,23,82,62,83,102,96,111,65,152,75,100,107,97,5,39,21,108,94,18,116,60,83,124,28,34,105,96,113,129,34,24,118,28,89,27,91,52,79,60,96,73,116,116,109,41,127,144,103,108,71,137,78,55,87,109,59,23,105,28,22,52,50,112,107,125,148,137,137,65,89,138,58,70,66,44,64,90,31,66,93,98,54,71,105,48,93,151,160,70,82,93,68,55,110,68,102,99,66,25,7,50,18,68,60,34,65,38,97,129,41,32,41,91,111,50,118,116,73,97,37,12,20,58,97,44,117,57,109,108,82,60,68,91,55,73,79,58,65,5,39,75,44,104,37,87,77,113,68,106,50,69,62,71,113,56,47,118,61,69,66,19,92,64,64,26,12,78,27,68,100,66,107,94,58,39,117,124,40,65,54,86,95,23,20,64,62,11,65,108,35,104,103,92,120,106,55,117,123,86,95,133,56,81,79,28,67,23,96,34,64,22,29,64,45,204,144,106,167,104,109,132,55,80,71,108,84,16,20,28,64,27,14,30,3,88,25,131,158,80,111,89,79,57,98,93,105,47,7,37,28,37,88,69,66,56,33,74,29,18,118,114,78,88,126,130,71,93,43,67,90,54,75,88,108,67,96,86,29,68,29,28,16,19,96,92,14,50,90,100,56,62,22,49,27,82,53,43,40,79,47,48,72,52,29,65,33,71,88,68,84,64,27,12,55,4,24,27,52,43,115,83,75,87,105,39,45,41,59,92,70,26,2,20,12,67,96,84,92,70,34,45,40,51,120,81,56,108,119,87,98,46,28,62,36,78,34,12,34,46,63,87,143,110,156,145,77,164,57,47,114,71,51,96,31,38,99,98,76,50,42,76,58,95,23,86,54,127,101,83,78,130,51,76,96,58,87,85,100,89,90,68,62,29,90,33,102,48,80,51,127,76,96,43,86,46,30,77,30,78,12,47,36,13,4,103,41,42,100,38,84,41,55,115,107,63,104,35,135,57,101,8,17,68,95,20,102,90,115,50,108,42,90,101,27,44,60,106,82,105,45,57,91,39,84,65,79,12,56,41,92,66,34,107,94,73,51,122,121,59,46,104,88,48,32,26,79,6,32,100,92,36,59,75,129,81,50,83,58,75,61,116,44,24,62,58,76,93,108,31,48,50,104,146,153,166,124,84,144,145,86,131,76,110,52,108,23,10,75,87,23,20,8,69,124,96,93,99,91,87,77,151,130,65,89,46,24,37,107,8,83,26,86,57,62,65,64,50,66,51,40,123,129,121,49,20,50,105,51,35,6,26,7,35,33,43,81,43,29,86,35,65,69,59,56,85,85,13,100,44,8,37,36,38,99,55,73,99,109,123,76,71,96,42,103,87,46,23,88,89,38,22,69,25,21,112,73,55,29,87,44,91,120,81,92,77,119,70,26,115,32,93,39,76,86,16,81,47,69,22,97,85,62,192,146,174,93,117,130,104,121,101,79,83,83,78,102,74,26,68,45,56,170,123,205,167,167,130,193,140,197,99,106,129,22,93,65,59,70,35,79,49,131,61,92,135,117,113,157,153,119,125,65,151,97,100,57,96,57,33,16,106,68,113,77,92,55,142,126,81,79,128,65,82,133,117,51,56,17,50,8,89,84,93,116,58,77,79,76,34,113,113,74,65,64,64,87,16,17,39,100,87,91,23,92,98,35,39,68,60,88,18,112,57,132,58,84,63,94,96,96,23,97,35,104,65,76,109,95,73,64,98,95,101,66,82,129,88,97,87,62,15,46,97,38,70,74,31,126,126,90,61,82,86,128,98,72,144,28,79,79,59,69,73,24,93,90,15,33,120,70,29,128,129,126,150,83,98,141,93,68,49,52,75,22,18,26,29,46,42,58,55,29,74,150,132,119,133,96,143,109,48,119,42,123,62,92,19,21,21,72,84,70,57,57,43,40,121,87,96,64,96,31,99,80,97,108,52,22,76,60,12,37,20,94,58,93,30,124,96,106,111,29,78,130,102,92,40,34,55,31,60,29,99,84,43,103,116,85,33,98,39,58,40,94,58,93,124,114,72,87,43,101,54,77,84,39,28,33,75,50,77,87,46,116,109,60,97,103,135,145,64,70,116,106,47,19,48,7,12,79,21,9,20,40,93,95,141,124,65,66,57,95,139,135,88,49,122,87,48,35,37,41,88,35,68,68,26,60,115,94,127,91,73,150,160,105,112,147,120,70,50,46,48,70,26,2,21,38,46,43,54,42,138,146,92,114,85,86,78,58,45,47,39,94,28,13,49,99,93,88,72,52,124,83,21,96,34,54,128,48,38,115,103,81,46,39,107,58,66,85,76,91,18,93,46,89,19,105,62,25,88,127,39,113,29,77,30,101,58,32,22,93,28,32,95,72,43,80,90,59,82,117,85,145,48,107,85,89,16,56,73,70,53,77,127,21,93,85,38,47,64,39,114,38,100,76,61,99,81,32,28,17,28,27,88,112,77,42,151,117,108,74,119,94,33,85,65,56,90,106,98,106,84,101,40,23,45,69,28,100,133,128,151,112,114,68,130,108,139,61,120,71,68,120,108,48,18,81,64,77,9,59,47,83,124,118,109,144,100,53,47,86,31,51,40,71,98,94,14,70,101,16,82,62,112,79,91,114,118,46,16,41,112,95,95,101,77,58,53,41,70,93,95,111,94,80,25,28,68,70,52,85,112,83,37,80,59,10,40,20,48,48,61,79,32,74,47,83,60,64,101,101,34,79,64,55,79,25,78,65,98,57,10,60,68,99,101,103,75,84,43,66,73,86,43,87,85,109,114,67,20,73,93,65,49,41,47,73,44,113,44,120,78,80,121,110,117,96,32,31,78,114,45,46,23,99,55,13,78,39,48,74,66,84,124,80,152,115,67,59,103,142,116,141,100,22,49,74,23,76,41,43,100,11,46,114,100,78,145,23,37,85,85,105,118,81,121,114,31,68,102,71,27,92,100,101,14,24,94,36,47,116,51,85,108,112,71,67,90,94,100,95,36,82,87,99,109,29,104,50,44,72,31,57,47,92,97,118,76,119,99,85,93,2,28,22,48,90,48,96,38,55,68,77,70,72,107,140,115,155,49,123,115,30,22,75,94,97,67,46,26,124,44,119,114,129,113,94,96,40,132,147,103,106,101,29,89,93,80,18,30,109,36,111,30,116,118,61,52,29,96,44,89,113,122,27,49,12,94,54,15,100,86,59,92,112,77,118,145,115,144,133,141,117,114,131,97,76,98,35,63,106,95,38,25,9,13,79,85,95,115,112,102,144,89,40,130,43,39,61,85,107,43,102,54,86,35,36,24,29,57,88,32,96,37,46,19,41,55,90,36,85,35,15,12,78,4,52,95,5,26,37,72,73,76,62,100,98,17,49,67,35,14,89,84,19,32,102,72,78,69,110,29,90,89,46,103,30,16,37,75,153,77,64,81,67,87,46,77,63,14,88,96,44,45,32,57,51,80,13,28,55,45,33,79,136,99,84,79,28,1,64,80,93,52,37,25,129,71,126,137,77,33,106,102,90,40,50,32,76,67,68,2,40,67,14,54,58,74,87,91,126,94,158,96,137,79,55,27,69,51,93,99,76,66,79,86,74,88,100,89,62,70,93,65,94,68,64,58,66,81,78,45,53,72,66,68,60,70,69,86,59,48,110,41,47,29,102,80,89,93,55,70,55,30,103,55,18,18,66,74,92,95,75,70,107,111,32,83,77,66,141,110,134,66,73,122,23,15,44,37,18,99,74,100,99,88,106,16,71,56,50,50,101,74,65,36,50,41,27,57,16,73,64,2,65,99,73,57,22,62,79,102,39,54,94,52,107,101,82,24,53,24,81,99,16,93,48,34,120,88,25,60,121,30,49,101,131,113,97,100,65,38,71,21,25,100,2,11,21,62,32,84,96,136,85,153,127,92,69,97,64,57,92,42,50,40,34,59,67,1,68,2,86,50,80,54,48,101,42,87,137,59,73,62,119,41,55,35,36,90,21,21,5,30,103,131,41,58,27,109,55,109,61,96,108,78,20,97,65,26,42,64,27,46,59,43,98,55,47,88,21,51,58,63,20,106,75,36,102,31,19,85,80,58,32,17,12,9,88,54,25,110,38,92,74,85,27,53,131,82,108,95,43,65,81,52,24,29,89,97,61,63,53,71,25,28,90,74,112,85,118,58,37,21,50,63,62,5,82,15,53,99,77,90,26,36,56,43,52,63,117,81,68,37,46,122,53,14,26,88,15,22,39,47,93,61,143,90,122,108,88,98,102,101,134,103,39,92,100,104,67,43,43,99,75,42,91,13,48,69,90,100,92,58,72,95,80,46,76,84,111,100,100,24,22,22,84,111,67,42,61,66,77,34,48,120,84,101,86,58,25,75,55,34,9,53,68,66,15,110,83,110,52,51,105,105,62,127,82,83,103,68,23,45,76,98,22,107,75,84,33,103,78,32,40,30,87,135,71,90,48,90,20,42,77,36,93,21,113,108,114,17,102,56,57,38,67,124,109,117,133,102,104,79,68,88,6,56,91,7,26,34,74,54,32,66,67,118,89,67,107,87,74,72,64,48,52,61,104,106,32,10,66,1,16,74,67,119,104,179,129,133,82,86,148,105,61,85,47,93,35,43,109,77,30,86,99,59,65,83,156,187,163,95,159,101,61,132,111,95,112,57,58,95,104,93,25,64,44,93,27,73,95,107,65,115,79,129,102,153,99,104,43,56,27,53,98,27,52,32,95,65,36,98,35,30,33,59,31,97,48,84,93,52,47,91,83,14,46,46,73,56,68,131,109,41,24,34,57,51,36,96,109,21,54,97,92,77,19,85,65,66,78,33,113,82,55,46,81,46,83,82,49,21,10,49,79,98,30,25,44,24,69,51,69,125,57,38,104,59,128,81,110,101,147,113,92,53,38,108,36,100,17,72,3,3,100,52,50,17,65,138,107,100,116,140,155,133,107,109,87,56,101,29,16,53,47,55,3,23,76,82,111,90,106,102,65,138,86,83,142,137,112,86,83,44,91,89,96,85,99,36,104,124,97,55,70,61,107,133,78,41,68,52,52,114,11,6,8,58,56,65,39,62,90,81,41,58,21,96,44,108,79,103,108,93,93,87,60,79,78,89,104,58,8,34,93,105,50,101,13,55,36,111,40,120,99,118,25,42,58,42,48,75,12,44,21,37,40,29,81,59,120,120,51,102,97,129,106,43,87,24,49,77,50,92,90,14,68,45,37,53,47,89,76,75,74,112,101,99,122,107,65,118,116,41,75,70,100,34,74,67,91,17,11,54,61,54,149,81,125,94,79,116,68,47,73,80,81,71,30,80,66,75,67,48,81,53,35,33,42,82,140,110,124,119,114,127,157,105,33,54,26,24,80,21,51,2,84,88,70,117,104,35,63,104,69,88,90,63,108,93,74,47,21,29,60,14,37,98,112,52,109,49,77,29,106,65,120,88,132,69,36,29,20,84,46,27,17,12,56,112,78,45,125,70,121,120,43,31,46,77,71,57,54,30,57,105,1,67,80,2,44,113,109,109,83,121,82,44,95,89,80,89,39,113,112,54,27,20,81,87,17,25,62,39,44,58,84,145,42,69,55,67,97,63,103,53,47,102,61,86,94,46,22,51,89,87,62,113,83,152,97,111,91,156,149,151,85,67,65,89,72,90,88,109,82,83,51,90,86,103,43,127,122,143,56,126,114,42,147,118,58,49,51,42,91,76,38,9,87,50,60,72,81,70,88,106,50,38,70,73,133,73,72,58,71,60,90,34,71,53,11,22,94,101,101,73,97,71,47,61,77,61,111,38,59,62,106,57,103,85,76,81,93,64,51,77,82,64,24,23,72,68,74,81,83,124,100,21,41,69,32,28,44,19,30,104,73,33,102,50,136,87,53,113,86,141,101,156,59,72,39,35,68,39,53,12,89,99,66,134,159,81,134,159,174,101,184,153,54,97,261,194,95,47,52,65,8,93,43,96,118,136,259,240,245,215,203,177,141,165,148,265,172,48,106,40,31,59,41,3,58,90,48,116,166,255,263,211,194,164,127,107,138,94,246,71,113,96,18,33,21,45,63,122,137,138,101,77,113,90,57,117,82,118,97,37,60,32,69,45,46,40,99,90,106,62,86,87,141,128,53,103,140,124,135,68,51,101,81,103,30,62,92,62,46,13,15,31,120,75,45,31,34,109,57,68,90,149,124,65,76,23,105,28,8,9,22,35,13,37,130,102,60,75,145,79,146,85,68,79,85,46,85,26,72,49,42,25,15,35,28,46,91,87,86,145,130,165,132,146,100,91,147,90,182,208,97,59,101,63,52,51,33,79,75,16,95,114,140,147,240,314,266,232,234,189,110,114,155,241,157,107,109,16,47,13,95,87,39,103,80,104,117,170,203,189,192,238,185,110,157,64,118,187,153,97,32,25,36,33,24,40,56,25,97,87,50,107,153,148,84,127,73,112,148,150,99,57,50,83,50,56,50,25,95,62,121,31,84,54,86,115,103,137,54,122,128,128,85,40,109,24,68,69,57,96,101,59,83,76,96,42,36,41,120,93,105,45,79,89,79,28,17,68,25,76,29,69,72,99,76,91,65,25,101,56,33,128,69,94,146,114,107,58,62,83,61,31,60,83,1,71,76,89,39,112,49,139,150,91,150,152,167,42,55,60,69,56,19,62,37,119,76,48,44,93,21,48,143,176,91,185,196,183,134,167,164,84,47,89,42,37,11,46,86,77,81,94,60,63,68,123,158,120,152,97,93,47,37,77,96,12,50,12,52,25,37,85,132,27,62,108,126,131,94,93,49,64,54,38,115,36,105,27,56,22,44,13,101,78,36,120,74,60,57,103,70,59,115,94,82,34,86,55,85,91,45,4,14,85,55,123,118,106,86,98,46,15,64,47,126,101,53,35,78,12,74,42,57,74,41,48,16,107,116,58,82,105,104,71,61,23,104,56,75,22,41,10,87,88,63,77,84,39,41,100,34,57,26,106,67,28,75,20,102,31,85,81,96,46,87,64,68,5,60,56,23,39,97,45,12,50,12,57,73,40,7,100,49,48,79,44,33,46,71,124,59,82,79,9,8,5,18,85,73,74,12,13,50,82,108,115,51,128,82,38,107,108,89,71,85,91,47,61,14,57,87,47,28,61,29,33,103,71,25,47,52,113,92,69,85,45,77,108,94,89,36,25,89,38,95,71,93,121,30,113,145,117,106,132,84,123,106,118,33,109,93,35,67,82,15,16,61,130,118,68,115,137,151,89,143,126,133,154,113,88,37,33,31,60,88,41,69,80,68,55,22,40,55,89,56,20,61,77,103,105,37,68,105,77,97,82,58,41,72,41,76,48,127,130,128,159,168,102,119,124,26,89,14,57,103,29,107,101,8,11,59,26,86,80,87,85,126,111,85,166,118,90,46,38,50,55,89,89,25,70,126,68,92,105,139,135,54,94,68,102,54,98,42,61,79,101,62,33,87,100,51,39,37,117,48,32,104,106,92,35,86,104,60,37,30,72,81,12,27,85,97,58,68,43,120,111,48,88,44,108,94,74,89,104,30,58,100,99,9,12,48,51,71,64,48,68,80,118,48,103,129,83,119,73,21,41,21,77,26,71,96,22,40,78,33,70,56,87,56,152,78,65,87,101,62,80,44,118,66,97,77,19,32,79,60,38,19,15,44,58,128,96,80,142,90,83,100,90,110,78,101,55,76,60,35,66,74,84,165,122,81,158,135,161,132,48,26,77,94,47,14,20,44,99,110,107,93,34,89,130,79,138,79,67,132,99,52,72,24,69,16,67,112,35,101,64,64,69,123,43,20,42,91,125,76,17,73,8,54,68,17,86,65,23,103,70,96,106,92,49,84,95,26,51,132,119,82,101,41,79,89,46,22,51,16,90,49,106,65,37,125,47,69,135,47,79,56,45,69,14,86,33,65,82,98,96,62,71,79,70,112,108,73,49,91,138,124,108,70,96,71,50,43,96,5,52,21,76,94,77,6,26,73,49,47,88,51,91,118,93,127,131,15,61,83,55,32,58,42,76,40,89,49,87,78,115,109,123,73,79,97,132,70,66,95,11,22,80,13,11,99,16,47,53,107,66,28,92,96,42,42,120,39,35,76,43,90,66,97,21,46,64,49,38,57,22,50,104,87,35,89,96,109,115,90,97,82,37,4,8,21,63,48,99,71,36,38,39,51,108,103,98,59,75,112,109,105,94,14,8,79,20,73,72,49,119,65,98,106,136,92,120,85,33,105,42,69,99,59,94,90,97,36,29,109,60,48,56,36,101,84,82,179,151,124,129,24,80,54,71,102,48,92,69,86,33,22,30,15,72,57,42,140,81,103,54,72,99,91,73,110,92,80,17,22,12,76,20,60,42,57,100,50,109,148,107,98,96,95,111,38,42,78,98,27,92,11,70,31,31,37,76,39,90,75,120,103,46,117,81,96,121,29,101,73,100,17,21,12,17,21,78,30,37,51,115,24,43,122,109,61,71,85,84,89,73,74,54,48,58,89,27,84,66,31,35,19,17,19,23,74,51,93,47,21,128,137,88,19,29,40,58,94,56,71,102,54,8,18,12,99,44,46,43,56,75,23,48,70,39,67,83,78,92,48,59,96,5,60,34,84,62,27,44,42,71,93,15,6,18,72,61,22,27,81,30,12,77,3,33,86,32,64,96,45,89,34,26,54,22,73,45,91,13,45,36,87,27,82,54,49,51,58,66,39,85,37,88,105,71,57,65,31,97,59,79,17,101,3,60,49,62,102,52,49,52,52,49,88,82,109,64,18,43,86,29,104,8,38,101,49,95,22,85,112,71,85,71,27,111,119,103,70,16,61,48,70,27,45,75,76,25,45,92,76,110,101,60,58,100,78,102,8,63,16,26,30,13,19,87,34,11,13,23,52,62,67,25,78,115,81,48,115,62,100,16,54,100,94,2,15,44,78,56,74,18,29,83,97,110,147,113,140,84,138,96,115,44,115,51,43,8,34,79,6,85,101,36,34,54,68,63,94,115,142,66,131,93,40,73,73,42,63,10,2,22,58,63,41,75,62,126,68,36,75,56,127,81,52,40,36,31,72,41,27,99,58,72,82,113,61,62,82,36,22,45,68,68,78,71,85,76,99,42,24,45,73,52,90,89,34,66,72,75,66,115,99,123,140,34,58,68,34,89,81,56,100,73,64,10,55,27,25,102,72,67,83,119,74,60,76,83,90,80,73,74,65,57,97,23,67,15,52,85,50,80,49,62,100,37,93,35,71,73,91,83,32,47,74,90,76,70,23,86,44,85,54,52,35,83,116,38,106,79,65,71,107,98,76,69,76,35,82,45,26,46,15,65,10,49,92,102,115,97,100,31,36,85,18,38,22,26,25,83,40,21,63,75,109,53,104,121,114,112,70,26,61,51,49,112,21,14,66,12,78,12,67,60,81,54,46,63,27,79,44,80,37,105,19,60,110,66,57,71,100,21,21,16,39,22,75,49,6,52,90,34,76,46,114,69,93,79,67,91,67,98,84,111,21,93,54,74,99,74,10,56,74,43,85,92,59,51,36,58,33,59,37,51,107,17,58,12,53,21,40,34,25,19,56,98,34,65,54,97,80,108,102,17,14,40,62,84,71,50,4,72,96,78,90,53,105,141,77,124,115,102,28,60,98,56,84,68,60,85,47,59,116,87,88,63,82,119,58,36,88,52,12,47,43,14,39,19,70,41,105,56,37,81,102,102,50,37,93,78,124,75,76,102,110,50,48,36,35,2,12,44,19,109,22,98,121,125,88,87,56,109,132,82,100,15,31,67,88,56,17,82,57,113,23,104,47,113,130,71,99,125,62,66,94,95,14,47,29,37,66,85,15,105,68,60,75,33,122,86,119,50,9,59,15,35,60,15,41,76,23,80,93,72,73,105,92,96,158,163,112,34,35,50,49,8,64,26,35,21,12,100,9,19,43,94,65,69,108,77,53,128,63,13,53,41,74,30,92,7,20,33,35,53,65,19,44,44,89,28,78,45,3,68,14,21,75,55,38,38,97,18,41,95,37,19,11,25,3,16,33,19,91,11,90,64,38,40,103,117,72,61,47,110,27,84,57,92,23,97,14,2,104,13,91,92,105,150,129,93,136,150,96,47,77,81,105,31,14,38,57,44,30,5,78,91,74,56,119,60,156,82,111,115,80,117,65,94,61,16,47,101,101,124,39,10,20,15,43,39,153,101,182,180,114,105,60,110,10,59,70,66,77,2,57,73,66,102,105,74,140,63,89,102,157,126,28,86,4,99,68,76,99,67,64,137,181,140,196,93,106,22,83,48,24,51,81,103,55,16,14,43,85,108,90,86,53,79,77,140,139,119,130,76,53,89,75,95,76,83,78,137,44,82,118,38,117,173,135,130,165,107,78,17,47,108,35,61,75,40,50,24,66,95,100,47,27,56,88,49,31,77,49,66,49,55,42,13,77,65,40,122,84,149,129,91,93,156,189,185,130,72,107,40,49,87,22,72,84,67,113,88,41,95,103,84,165,90,90,118,200,131,72,74,78,54,15,79,85,90,57,42,52,37,72,89,114,124,159,195,67,31,110,113,88,37,17,20,3,14,45,39,41,106,142,87,99,157,127,90,25,72,102,78,101,71,103,131,84,145,97,150,63,124,199,80,108,84,21,18,61,25,59,79,87,75,104,83,69,120,139,145,96,168,83,94,41,52,90,74,4,7,21,44,38,45,125,97,121,104,126,147,90,132,87,121,79,56,94,20,64,18,18,102,113,112,57,91,48,34,113,84,106,110,109,132,63,60,46,44,55,48,47,55,116,124,107,119,107,127,102,82,109,122,147,88,99,14,74,56,16,100,23,26,72,27,92,57,46,64,126,148,221,115,112,108,34,68,34,46,83,71,31,65,21,35,45,156,124,167,181,117,191,87,43,74,31,63,35,40,7,10,15,77,68,135,105,90,189,158,112,108,95,78,33,22,77,38,24,6,28,22,43,5,34,115,84,67,144,107,173,83,50,64,132,158,27,90,57,57,31,88,72,39,64,15,17,67,140,99,76,102,98,35,50,55,88,127,30,44,45,15,22,81,22,8,77,18,116,83,81,57,80,61,46,81,115,132,109,95,23,87,95,54,13,6,75,45,97,108,77,72,140,84,63,116,136,128,139,49,82,99,16,55,4,63,60,76,78,77,18,110,58,124,84,168,203,227,193,188,116,38,34,100,57,12,24,101,44,92,111,155,161,144,189,160,133,115,27,24,79,40,104,50,4,62,73,62,120,100,40,152,77,84,117,100,57,138,61,59,36,64,13,31,99,9,26,40,41,105,121,22,50,43,36,14,26,61,41,49,102,96,50,22,54,71,38,59,37,13,125,31,40,53,32,109,120,33,68,73,159,114,119,16,43,7,81,12,56,62,29,53,78,35,90,130,34,83,83,76,158,182,95,115,52,31,14,37,45,36,27,45,38,34,120,29,93,139,79,119,168,113,207,139,85,90,67,43,39,88,48,19,90,18,100,65,175,91,171,151,296,154,230,224,167,51,48,49,18,19,41,102,48,22,64,5,73,101,183,153,179,196,283,242,206,195,114,72,30,77,46,32,85,59,48,100,69,43,61,90,51,60,43,136,66,84,106,67,78,126,75,30,46,51,100,38,63,18,7,99,50,67,14,111,99,105,113,38,125,106,101,113,42,98,60,64,37,1,73,85,72,98,79,93,27,120,78,37,46,101,42,48,103,83,18,3,18,39,21,54,40,76,105,94,58,39,92,91,12,45,45,35,25,39,90,18,13,101,40,76,74,15,91,11,90,15,47,97,127,82,74,70,30,60,46,48,69,60,60,81,83,6,55,67,42,91,42,42,128,71,146,100,152,148,67,104,17,77,25,49,97,44,62,86,77,82,49,85,103,121,69,121,152,63,133,59,86,57,69,33,99,62,33,23,57,74,107,59,108,88,52,66,79,33,112,32,90,61,98,63,63,32,75,77,74,67,106,55,128,28,81,49,93,71,113,32,47,87,12,18,68,88,33,10,71,81,77,71,100,91,43,81,87,75,55,60,65,106,35,19,70,54,9,80,14,71,48,90,17,66,56,121,109,73,123,78,91,56,28,63,9,78,10,78,57,70,65,70,72,44,94,23,58,119,55,73,77,154,170,109,121,66,57,25,85,77,48,53,102,86,81,14,87,105,44,136,152,189,225,244,196,187,100,153,98,14,43,64,59,72,13,36,47,76,44,123,117,56,170,138,156,169,147,177,138,79,23,97,71,79,94,74,35,74,9,25,89,98,79,127,130,106,151,108,118,94,41,90,19,46,109,31,72,27,15,81,24,60,114,17,109,45,109,46,127,78,85,63,79,59,37,64,6,43,83,20,58,88,22,25,103,73,53,102,62,36,94,60,124,87,79,24,50,64,43,21,41,67,61,54,36,48,33,41,83,26,101,77,84,131,83,64,48,106,48,41,2,76,44,22,2,65,72,64,27,95,65,79,129,60,79,131,134,67,27,10,63,92,25,23,68,25,41,55,34,82,50,79,135,60,191,139,105,219,85,71,122,66,106,103,71,104,31,37,14,15,86,29,74,134,96,81,86,94,58,79,119,82,34,105,60,79,14,103,27,53,13,77,49,49,99,107,107,61,55,104,130,114,102,124,31,17,61,39,51,36,100,64,35,70,35,111,55,112,96,17,66,98,19,22,54,64,19,99,40,2,37,12,85,69,24,108,48,88,115,83,43,51,40,89,34,59,75,15,38,58,89,33,33,30,18,103,114,70,108,119,70,103,36,31,33,41,88,56,71,46,9,10,87,57,29,94,76,100,135,139,66,73,118,109,106,16,85,69,67,53,27,37,50,79,19,110,57,94,151,192,158,127,232,173,163,80,32,98,108,15,60,54,68,42,78,2,46,82,27,77,128,130,88,153,104,126,114,70,45,47,39,45,91,82,22,38,60,116,59,70,36,113,112,65,54,106,109,115,49,51,81,90,98,67,83,61,30,72,25,62,99,117,85,110,54,78,93,85,90,81,60,6,20,101,70,59,82,30,63,110,46,57,120,96,57,51,40,140,73,20,77,92,15,54,101,70,25,56,116,26,98,32,71,118,50,33,115,68,55,68,48,77,50,49,82,12,43,13,31,31,16,34,122,92,71,121,144,76,45,172,63,160,121,108,106,75,87,71,94,29,100,84,75,55,102,106,78,155,242,214,132,121,144,164,110,29,59,100,72,71,95,30,51,94,89,100,84,65,169,232,215,158,156,141,214,82,114,19,113,6,50,8,81,59,102,42,28,66,43,56,74,129,45,92,125,109,100,94,37,74,56,34,59,67,38,55,27,75,58,16,55,109,94,99,60,144,122,119,28,84,91,40,81,61,41,96,49,45,29,92,13,30,82,90,28,104,121,96,51,52,76,94,35,43,89,86,36,77,48,71,82,107,107,83,48,16,34,28,73,79,72,72,23,3,95,77,71,35,44,123,76,146,82,184,115,93,147,66,131,93,120,35,110,52,26,84,104,77,27,91,142,115,163,194,225,172,320,307,253,237,197,121,125,56,135,91,72,90,63,26,68,30,28,23,123,157,100,228,224,203,196,266,207,239,196,97,157,140,33,87,68,44,49,14,83,48,86,131,117,84,152,185,143,167,190,189,221,164,121,96,84,135,81,108,89,79,74,92,133,99,75,81,184,161,167,212,208,189,188,224,131,103,134,118,71,111,34,50,21,39,41,88,50,62,170,164,191,165,238,267,243,194,251,194,195,183,105,159,156,88,61,90,69,88,1,41,83,49,72,115,87,148,245,201,195,297,317,209,214,173,176,155,157,121,119,30,93,98,63,22,47,105,140,106,208,235,202,198,229,251,230,194,127,72,98,88,91,134,68,19,107,68,25,61,49,112,100,172,205,188,269,242,256,282,184,194,52,103,125,87,92,69,94,56,22,71,102,48,45,91,106,136,90,165,92,126,105,142,61,56,101,81,72,26,54,82,88,78,80,55,114,77,91,133,105,64,108,128,69,134,63,122,33,9,35,50,66,18,41,56,46,33,133,73,30,142,98,116,18,26,85,65,91,43,84,39,32,61,76,114,76,75,75,131,90,41,96,166,87,62,87,53,80,26,74,81,35,56,17,92,62,104,60,33,106,110,77,87,133,119,97,70,66,108,52,16,72,103,71,38,70,75,41,15,30,23,90,53,44,103,192,191,193,123,154,160,106,67,66,32,97,76,79,10,28,10,9,90,19,46,119,119,104,217,121,246,263,173,137,167,124,113,106,101,63,37,42,18,77,87,61,45,45,88,136,129,110,118,153,179,53,151,122,90,86,43,40,61,41,88,96,24,39,63,90,70,102,96,59,152,123,118,118,50,103,100,79,99,18,88,24,75,80,41,16,87,91,120,105,104,113,130,121,56,68,115,102,86,2,43,77,58,37,49,28,29,112,50,101,130,79,43,116,122,63,52,103,82,92,37,58,91,21,82,14,39,81,55,134,57,119,115,134,80,93,129,106,80,94,77,35,15,18,71,59,75,106,10,52,26,77,75,128,90,103,155,122,89,132,91,137,36,47,32,23,72,88,93,93,34,66,87,103,61,50,110,127,37,56,96,43,105,112,82,33,94,57,73,22,34,32,54,39,97,73,117,58,27,102,92,58,49,61,55,139,66,107,33,101,55,38,57,49,29,11,46,17,38,84,88,32,82,79,93,78,48,112,112,49,47,58,58,78,60,10,102,89,32,62,9,77,34,31,105,99,113,101,103,80,42,83,68,127,42,104,24,79,56,92,30,82,22,65,116,40,56,111,105,139,164,191,49,97,138,52,110,54,76,60,40,64,90,33,88,18,69,148,80,133,145,140,113,127,111,124,90,71,27,96,23,85,67,51,64,44,70,60,42,128,85,24,63,29,47,128,103,71,97,113,37,20,21,12,51,76,56,96,45,74,75,60,139,123,71,31,96,72,147,100,44,74,31,17,58,27,104,56,74,9,73,34,74,63,78,129,126,49,42,61,61,46,74,102,38,33,59,47,26,74,99,9,51,32,70,71,51,126,64,126,87,133,86,151,60,83,55,38,27,76,65,70,51,90,103,107,61,117,88,85,96,105,104,99,71,79,112,37,86,31,54,5,106,86,88,66,32,66,103,125,75,152,123,79,73,133,82,149,92,122,92,121,48,47,71,84,30,27,23,5,31,57,92,124,159,121,175,82,71,72,96,66,43,83,32,14,56,40,88,104,64,77,96,53,88,86,60,90,89,153,219,182,104,201,139,92,56,78,92,82,74,61,22,65,49,60,55,44,120,87,102,65,95,47,156,46,54,107,58,87,35,19,90,83,3,76,50,67,64,55,44,113,79,55,28,108,45,97,150,122,81,97,67,107,56,8,97,28,91,63,97,52,106,80,149,34,68,106,101,133,123,31,84,101,71,94,22,26,78,5,7,63,8,23,95,122,43,89,87,124,120,15,104,81,87,67,79,33,19,91,51,101,117,168,120,144,151,135,116,150,121,89,43,91,54,111,12,93,82,64,76,65,24,48,42,63,75,148,141,134,177,190,138,82,75,74,118,124,52,59,38,91,40,91,44,61,31,72,110,97,89,103,130,95,134,130,107,119,104,66,98,14,35,89,35,85,37,46,25,93,117,87,55,118,65,94,61,118,61,117,64,24,53,33,43,86,22,15,11,96,80,47,83,67,37,106,52,110,19,115,79,55,52,92,85,78,96,69,97,55,77,85,7,94,55,35,87,43,53,89,93,52,90,52,115,63,79,51,48,111,89,63,91,10,12,46,87,103,25,93,49,74,45,104,125,39,53,124,45,62,121,12,92,72,2,88,19,114,74,87,116,115,72,122,118,89,130,124,88,120,100,82,73,65,33,80,18,70,98,30,17,51,49,166,133,164,202,100,183,102,168,173,170,80,110,30,76,59,51,38,91,84,53,79,177,204,283,233,253,225,134,159,183,110,68,95,37,83,80,63,46,37,58,64,53,108,125,92,106,164,163,176,135,132,127,34,65,83,51,96,68,90,21,41,99,58,38,17,63,27,91,27,100,57,60,35,16,21,31,19,27,25,32,14,36,53,43,101,42,121,40,29,52,125,119,79,52,95,76,88,62,52,89,22,50,74,59,61,30,105,34,100,78,75,35,55,64,117,112,72,94,58,37,99,40,33,15,80,1,89,99,51,86,56,74,119,52,124,91,121,130,132,90,96,110,91,100,70,103,10,40,53,21,24,68,96,139,151,134,167,120,162,127,120,85,52,45,98,22,37,90,93,93,95,45,164,136,140,168,120,138,154,166,95,144,113,52,75,34,100,59,46,57,44,39,6,59,81,49,83,57,42,122,129,124,65,45,120,97,82,49,75,20,69,66,74,58,38,86,55,80,61,38,110,113,59,107,80,64,120,89,31,35,26,52,100,79,54,25,102,62,43,94,103,45,92,31,69,124,80,75,85,115,36,31,17,79,100,19,38,98,84,83,122,43,56,73,52,95,123,136,49,66,118,99,50,22,62,66,62,62,95,104,100,49,47,93,117,64,105,144,100,61,112,117,72,72,62,52,28,92,71,96,108,68,58,80,34,28,144,166,202,135,83,103,145,88,64,100,109,41,97,56,46,10,92,87,66,15,54,51,108,141,88,85,132,131,102,82,98,53,130,42,119,105,44,62,24,84,24,16,52,110,82,92,42,55,50,57,91,97,138,124,92,104,33,33,47,61,79,40,56,70,60,83,14,67,107,77,22,46,52,125,82,83,94,75,81,64,59,39,65,96,21,103,92,2,62,76,57,31,77,26,30,82,55,61,103,44,49,69,33,24,83,51,88,97,67,105,110,112,80,38,39,99,76,76,88,62,96,32,119,13,96,67,91,93,54,17,26,78,129,127,44,79,114,101,68,98,52,74,109,48,20,100,82,100,9,13,20,104,100,72,72,64,76,156,101,152,106,57,69,127,133,83,61,56,103,71,116,97,49,85,107,69,63,105,94,111,53,112,59,116,85,99,40,96,20,55,74,11,16,5,29,95,113,67,43,115,127,95,45,112,105,55,31,79,93,43,43,37,56,101,76,17,9,87,51,59,87,39,36,73,96,77,55,21,68,56,63,64,108,76,40,37,86,33,107,54,81,29,96,75,24,113,37,97,100,110,23,72,71,118,95,82,97,44,63,40,64,75,30,62,58,88,105,71,67,118,65,123,100,52,57,105,100,105,74,46,93,51,52,22,74,18,90,57,127,116,68,112,65,54,89,46,98,134,121,33,63,15,46,21,100,64,29,93,97,94,42,76,161,184,78,148,158,80,25,35,26,80,59,54,80,50,79,75,10,102,53,51,16,52,130,101,68,156,117,76,54,116,118,94,53,71,99,53,85,26,11,37,108,101,30,39,97,108,69,103,64,32,34,83,107,105,112,27,45,13,29,91,33,75,95,100,25,63,101,123,59,76,10,26,107,75,21,60,33,58,66,89,17,27,34,123,84,38,73,51,81,48,111,116,114,124,116,49,95,98,105,51,56,67,89,39,111,50,80,89,123,79,49,29,93,86,69,116,41,41,29,30,51,43,92,76,63,49,30,88,19,78,86,140,124,54,52,92,104,95,99,103,77,29,84,84,22,24,121,16,64,66,67,91,64,109,156,88,160,120,125,109,73,116,142,58,139,112,57,66,108,41,109,56,66,61,81,89,72,116,79,79,119,144,101,87,168,98,122,95,88,39,104,85],\"xaxis\":\"x\",\"yaxis\":\"y\",\"type\":\"histogram\"},{\"alignmentgroup\":\"True\",\"hovertemplate\":\"demand=%{x}<extra></extra>\",\"legendgroup\":\"\",\"marker\":{\"color\":\"#636efa\"},\"name\":\"\",\"notched\":true,\"offsetgroup\":\"\",\"showlegend\":false,\"x\":[91,21,23,104,81,37,27,66,80,52,6,23,21,38,48,93,21,89,114,68,65,121,25,64,91,92,15,96,81,15,95,84,92,112,41,14,22,94,23,39,50,73,96,79,19,94,48,104,25,42,71,81,61,100,24,8,80,41,82,13,60,86,97,56,56,13,106,31,44,59,94,27,79,5,88,95,71,51,93,57,101,83,47,2,52,78,84,77,41,59,34,68,83,19,114,81,105,47,30,88,15,102,43,66,84,25,7,58,61,126,38,80,42,67,36,31,52,100,68,74,37,80,12,84,41,43,100,91,61,121,17,40,61,82,25,39,9,95,40,48,56,63,101,27,102,23,32,86,40,7,35,19,23,83,63,36,114,69,125,111,113,13,69,12,21,87,70,34,78,42,76,69,36,43,46,128,102,49,60,48,85,60,39,15,30,95,11,13,97,49,82,73,109,43,53,47,80,62,101,14,92,45,42,67,10,38,14,10,57,99,25,68,9,44,22,89,49,20,73,37,21,30,88,56,45,72,44,83,11,66,94,59,94,100,29,37,26,17,40,97,68,27,43,73,60,85,40,98,34,14,92,40,35,45,61,16,92,53,105,96,43,98,9,73,57,63,21,60,56,66,6,104,55,90,11,27,55,54,40,57,46,72,19,70,51,13,61,103,13,19,96,5,56,47,61,12,19,68,81,54,33,87,37,11,87,70,34,24,30,86,37,25,31,13,107,103,38,47,102,95,107,44,31,35,83,64,78,18,56,65,62,46,112,87,19,65,40,91,93,20,27,63,79,18,83,61,19,47,56,26,64,63,62,73,96,49,66,90,11,94,61,98,29,65,59,70,79,33,45,38,74,104,53,61,38,93,54,48,59,33,66,12,64,12,68,79,63,87,77,51,4,99,3,34,71,70,16,71,87,108,20,12,91,39,33,54,72,22,85,94,53,35,60,69,89,65,66,53,88,73,24,91,104,100,35,8,66,101,98,82,61,34,58,98,57,81,40,53,70,83,23,53,32,24,52,14,33,19,111,32,26,34,103,116,25,21,97,68,42,20,86,41,72,27,43,109,70,97,42,19,94,53,77,20,11,78,92,68,89,77,52,41,69,23,72,27,37,12,58,71,20,24,18,47,30,36,54,24,65,9,79,90,46,53,64,18,99,5,84,27,94,81,43,76,79,86,30,89,91,65,64,100,54,95,6,89,45,18,26,90,77,1,55,84,34,58,45,32,45,77,130,65,29,41,89,85,77,41,21,33,26,69,64,61,114,92,98,20,62,92,35,26,109,41,19,61,23,93,18,81,73,43,82,45,62,16,19,89,23,87,90,74,25,2,37,8,23,65,66,72,24,46,51,33,10,76,60,61,45,53,82,6,40,22,67,87,82,23,18,62,65,15,73,99,34,59,24,68,60,21,9,41,90,42,21,33,58,86,47,20,67,20,55,75,16,66,86,18,61,67,78,98,31,95,87,109,103,107,106,37,91,52,22,73,63,27,21,88,8,97,67,46,91,22,48,65,15,64,19,44,90,35,57,46,78,56,50,29,47,96,49,71,83,17,37,87,15,9,41,49,72,50,57,45,78,21,102,67,103,60,76,99,85,81,74,60,78,53,49,100,13,26,62,77,94,67,79,62,68,13,13,41,68,27,57,21,63,88,93,15,16,32,92,73,75,62,77,87,104,60,34,95,13,4,61,102,18,60,94,52,66,73,118,113,132,100,112,62,82,45,76,81,43,47,67,22,105,74,109,109,127,90,86,84,38,83,16,89,55,61,55,72,6,55,22,68,33,14,22,71,12,19,35,93,72,13,25,2,69,85,90,2,96,37,94,39,23,100,22,56,23,37,78,80,45,51,44,59,17,16,94,105,56,24,21,76,79,74,58,78,18,8,61,57,62,116,109,112,63,37,46,13,22,43,94,16,18,11,24,63,42,25,16,98,109,43,53,71,45,81,24,97,10,97,20,71,52,87,90,34,76,56,87,35,139,116,165,161,116,136,123,59,39,84,62,88,54,71,57,50,98,8,98,46,78,139,94,40,102,44,120,74,103,70,126,107,94,70,104,92,21,84,79,60,63,27,87,123,121,145,133,59,103,97,38,108,105,15,84,21,42,3,14,87,102,15,53,96,43,105,99,32,6,17,37,46,34,54,92,82,81,2,100,78,72,62,55,39,68,83,38,47,107,53,84,91,87,65,34,23,66,77,26,27,103,83,110,27,70,23,67,58,102,101,61,22,89,55,21,86,99,90,33,85,51,114,33,58,123,53,19,87,22,73,54,98,49,35,26,76,67,97,74,43,90,158,128,122,14,32,42,14,59,29,36,74,49,70,73,27,104,101,68,129,71,134,98,75,77,46,70,56,80,12,64,47,38,55,16,29,94,84,28,116,46,55,44,33,14,73,23,50,64,55,92,19,60,29,32,30,49,71,98,33,20,104,41,42,25,20,24,80,29,52,62,77,92,56,55,31,18,88,32,20,12,79,39,45,66,70,76,51,35,10,71,73,50,89,105,111,41,43,34,10,80,83,23,19,8,24,9,26,28,56,97,107,87,82,80,80,82,48,20,85,93,49,58,34,20,41,38,28,102,111,117,111,101,142,120,135,112,80,30,52,67,51,19,28,29,58,86,70,49,88,42,25,16,81,92,28,86,28,8,41,57,46,86,96,13,47,17,62,25,109,15,47,87,55,95,95,52,17,92,6,58,99,55,70,76,33,92,38,68,107,39,21,68,45,53,62,73,11,42,75,57,82,31,73,95,39,65,90,86,93,21,35,84,92,11,63,20,40,100,25,87,72,49,76,43,48,55,96,62,125,34,80,38,59,104,46,91,32,81,42,69,106,44,164,135,127,125,183,154,176,160,134,155,52,82,54,89,35,44,122,31,72,24,37,26,25,36,56,64,67,144,94,72,93,72,89,109,50,45,62,58,70,84,106,83,40,87,18,116,93,74,82,121,152,152,172,182,176,186,79,150,101,91,118,67,17,64,69,28,98,61,120,139,80,77,141,195,232,183,207,275,156,174,129,136,104,81,123,35,114,11,45,2,35,58,66,117,107,238,157,207,174,279,261,254,214,210,176,145,135,77,74,24,81,78,53,58,48,100,135,113,115,212,232,204,190,217,234,249,111,148,76,97,113,96,99,47,46,53,61,141,141,201,251,219,289,214,250,249,233,199,170,96,125,158,87,82,38,97,69,7,23,122,161,190,225,289,266,245,307,346,324,251,151,233,259,131,187,131,134,59,57,51,57,75,64,32,85,86,141,139,229,244,276,379,284,322,207,191,160,180,179,77,125,67,39,11,103,51,26,82,126,136,128,146,180,163,103,23,49,57,95,28,96,89,44,76,83,34,23,55,63,122,39,91,105,89,119,81,41,19,36,40,72,93,29,59,56,32,36,111,43,104,93,78,43,102,102,79,103,92,46,30,17,16,42,10,7,95,26,60,36,97,43,112,68,91,53,39,55,36,10,89,66,65,92,33,85,112,21,78,123,56,79,107,128,56,62,70,117,61,68,55,109,42,72,18,50,58,8,57,92,29,156,105,70,76,100,75,132,68,59,97,91,29,78,24,80,61,66,17,29,116,51,95,154,155,102,164,141,62,67,118,81,96,84,79,99,93,102,36,82,74,49,74,82,72,105,107,75,66,91,78,6,63,52,56,85,87,15,21,110,82,76,49,85,83,88,43,45,75,119,80,15,74,52,46,98,73,9,51,82,87,47,95,60,40,93,106,57,55,54,66,73,51,77,104,96,14,54,56,78,19,72,104,30,64,59,28,118,60,16,42,100,98,62,12,49,101,3,55,33,34,60,50,32,40,41,50,96,109,108,102,82,88,47,49,91,17,100,39,97,62,39,59,71,113,140,87,98,66,61,103,90,30,78,24,57,86,42,76,31,57,61,23,62,97,94,132,217,174,172,97,100,83,131,56,63,58,82,106,24,90,57,81,11,71,101,52,149,110,89,188,112,126,113,89,37,83,109,76,93,10,63,53,47,73,106,95,76,84,78,108,32,48,96,99,65,50,96,62,97,86,74,19,37,44,35,71,22,82,71,95,125,93,22,34,85,33,66,61,28,33,48,84,77,82,82,94,49,97,82,101,93,36,128,26,108,63,27,91,7,96,88,77,25,105,108,43,108,65,108,108,72,45,101,36,94,52,94,79,53,23,26,87,65,107,43,72,100,54,82,139,56,71,100,136,39,92,93,91,15,28,59,97,69,63,101,131,101,97,88,165,126,111,55,56,65,12,94,101,28,89,67,79,93,62,27,44,71,51,60,39,23,73,104,73,104,71,14,53,82,84,76,48,99,21,57,55,93,70,37,20,41,72,74,71,47,61,97,29,72,58,51,94,37,16,70,95,25,84,111,95,109,74,36,47,80,101,55,31,22,73,92,35,87,82,31,25,30,53,118,117,59,101,37,51,45,65,56,19,53,45,60,15,41,57,94,10,57,63,129,89,35,34,43,27,107,72,45,39,104,98,85,97,68,35,78,79,70,114,107,69,88,114,113,142,144,143,134,51,93,93,111,103,103,37,90,99,23,22,121,93,117,106,185,134,168,90,110,124,147,117,100,30,115,74,8,80,25,29,2,36,48,72,114,126,118,76,50,94,126,124,26,42,57,47,53,63,74,52,79,12,13,73,76,92,115,63,24,111,64,65,99,72,25,51,41,89,80,15,14,61,41,80,114,42,86,52,84,135,104,122,65,112,45,13,100,63,44,35,89,14,101,42,93,60,77,50,85,134,45,123,120,111,90,92,93,68,19,61,22,33,41,55,19,61,25,56,100,126,114,75,100,112,32,28,35,23,41,88,71,87,99,62,80,57,52,63,134,93,130,105,126,133,95,69,94,116,57,68,74,71,33,46,92,51,101,109,162,195,223,141,165,145,130,113,69,31,60,94,96,31,110,62,31,99,83,90,71,94,129,141,92,160,148,136,90,44,107,91,73,97,104,62,17,60,91,20,81,44,78,140,73,76,98,142,134,120,88,16,25,106,55,22,100,79,95,47,89,49,92,128,113,46,98,59,63,56,82,46,32,67,84,69,35,40,47,74,95,85,50,118,79,60,104,92,98,117,97,35,97,74,9,48,100,15,94,60,59,88,110,64,99,62,70,109,101,72,38,38,91,83,97,82,70,94,41,20,67,81,43,53,139,101,99,109,79,76,75,65,62,43,118,61,79,31,101,56,92,28,86,34,119,84,165,142,192,102,194,92,186,116,68,106,20,97,26,70,16,58,40,50,45,101,62,90,82,114,42,76,143,45,59,65,69,105,106,78,37,80,17,44,59,54,95,67,74,72,54,51,40,79,42,66,28,112,71,38,24,91,100,28,105,104,44,37,88,108,72,88,102,33,63,120,72,103,34,57,55,37,31,79,30,65,90,20,35,112,66,43,84,120,136,67,111,68,22,87,3,11,24,18,97,33,64,35,110,74,35,68,34,30,133,98,72,35,23,77,83,71,15,71,12,44,89,55,38,119,134,148,137,70,119,121,52,53,83,111,30,74,62,23,33,36,71,30,30,78,93,92,143,123,176,118,96,29,130,91,107,77,79,105,55,118,88,94,87,85,93,29,124,141,110,153,100,136,45,98,70,109,64,34,93,97,97,52,50,29,76,109,39,52,78,35,115,65,49,121,58,112,63,98,102,32,95,25,80,78,19,24,16,40,99,39,26,114,49,62,108,44,121,24,81,107,85,73,8,16,78,98,76,55,74,97,43,71,108,112,91,16,106,108,25,109,65,66,82,29,86,91,30,79,45,88,71,79,52,42,31,18,35,116,76,44,67,74,97,93,107,89,39,61,35,45,30,63,100,49,101,49,65,127,121,91,90,57,79,61,50,100,20,98,45,65,66,66,50,58,98,162,100,129,122,111,103,135,130,112,22,65,34,107,30,122,93,92,69,64,27,104,104,82,131,133,80,83,52,121,124,56,66,32,58,59,70,12,81,41,35,102,48,16,111,70,111,105,67,48,10,97,49,58,94,103,10,64,90,83,107,22,81,67,115,87,73,33,18,85,57,84,101,55,8,76,85,104,113,125,38,82,106,31,39,60,105,76,65,98,19,100,51,78,67,19,101,126,114,123,89,107,61,60,101,136,51,23,97,81,71,42,68,46,87,73,75,87,16,108,107,75,45,87,67,125,104,104,77,55,31,83,61,74,78,72,48,30,97,83,18,64,95,153,53,136,126,139,136,122,62,42,58,110,30,84,70,55,27,82,66,70,79,112,122,88,132,57,121,79,92,115,99,94,72,57,85,88,18,92,43,14,114,88,39,56,102,50,117,112,110,50,73,65,85,48,101,18,71,27,23,108,87,99,115,115,97,25,64,75,107,82,33,104,76,80,28,11,58,17,78,8,73,93,94,51,111,41,106,92,41,46,102,87,70,91,9,67,41,29,98,28,28,82,53,36,78,82,59,123,65,109,44,75,37,73,71,51,92,89,36,48,38,126,79,94,80,62,67,93,145,64,113,48,82,69,18,18,87,11,19,56,87,130,185,146,195,141,175,131,94,116,25,46,93,38,46,105,106,77,23,23,93,88,116,112,165,150,199,110,162,186,131,131,90,88,11,101,76,84,33,58,92,40,96,130,84,13,55,89,71,106,64,112,90,15,57,24,10,16,2,106,94,53,94,91,61,108,25,40,52,120,113,11,60,76,84,5,52,99,58,69,93,112,17,62,91,96,41,76,121,28,55,44,55,49,43,88,12,4,31,46,108,44,31,37,84,80,82,123,108,107,57,91,52,74,12,38,30,17,9,40,37,109,122,130,99,77,120,62,112,90,62,125,30,75,62,15,84,62,15,79,87,100,66,24,115,112,87,130,173,87,76,92,56,121,125,76,97,57,14,53,84,48,99,32,74,28,24,75,119,56,94,138,137,91,82,119,97,63,65,8,54,5,98,72,25,46,57,49,49,81,78,94,125,61,64,125,98,111,73,60,88,12,80,53,77,56,22,87,42,110,111,62,26,72,127,107,44,101,79,110,101,8,81,15,60,49,21,78,43,31,111,78,23,83,88,106,104,113,148,130,81,97,73,25,79,103,62,41,41,114,79,58,91,99,114,95,126,89,79,161,142,78,59,24,25,93,34,29,76,19,110,123,97,60,138,84,112,69,92,117,57,52,45,69,97,95,77,43,87,51,44,81,128,73,62,76,92,119,146,113,129,149,49,93,108,50,31,94,67,43,99,80,62,84,64,74,93,88,74,107,100,45,45,29,32,43,38,86,73,10,43,20,46,61,45,74,69,48,94,77,68,101,49,58,52,60,100,26,43,9,13,13,84,86,68,78,28,63,44,70,113,96,109,76,40,66,58,13,46,42,74,34,106,83,19,73,38,75,83,41,121,30,43,121,48,43,34,15,94,34,37,56,70,34,45,75,41,24,47,123,83,40,95,80,98,60,144,52,39,80,77,94,19,51,74,52,57,40,38,57,95,67,109,51,25,116,85,111,60,106,102,83,87,93,55,31,26,7,48,61,42,99,107,96,92,102,137,66,75,122,123,64,112,69,101,12,54,67,68,3,17,88,77,66,56,136,38,128,68,63,138,48,92,51,100,66,94,67,94,98,43,30,101,28,43,91,45,82,97,99,108,13,26,100,1,42,57,89,84,13,121,28,81,43,16,62,90,61,83,50,65,77,107,43,19,27,54,76,86,56,96,52,66,42,42,24,44,69,40,35,43,38,46,40,56,38,78,88,103,69,92,69,86,108,96,76,99,99,103,74,130,54,82,61,80,90,5,56,98,10,96,78,110,119,95,39,94,109,43,101,126,131,74,93,123,41,37,40,65,33,13,46,61,94,79,77,148,121,137,123,73,58,126,109,57,38,63,49,88,67,85,101,105,59,109,88,128,66,111,98,118,81,145,31,73,73,20,18,6,10,67,62,87,78,21,42,31,103,63,99,103,22,49,118,69,60,82,11,61,74,37,92,115,94,124,85,46,23,68,33,88,71,99,35,26,90,50,93,39,86,43,11,91,74,51,36,107,94,36,97,76,26,103,40,80,14,66,83,88,12,93,51,57,49,94,16,70,91,34,35,32,59,73,88,33,93,74,45,37,70,37,48,35,62,103,48,119,125,108,46,94,94,71,122,44,84,91,43,48,25,12,65,18,65,51,105,42,74,57,147,117,75,120,75,119,97,78,70,94,39,81,87,57,20,90,31,98,68,102,99,80,58,120,119,53,125,57,64,89,52,30,23,33,33,51,59,99,95,3,99,93,26,113,29,103,63,49,110,86,71,68,98,70,104,99,17,45,86,23,19,64,75,89,91,37,101,71,78,119,111,74,66,42,93,46,64,32,70,43,52,30,87,73,37,81,65,65,41,37,102,77,66,58,96,104,42,87,105,29,33,106,80,117,29,105,102,171,56,87,125,112,86,94,104,69,84,83,15,101,27,60,93,106,68,63,84,143,142,177,121,178,152,146,150,132,90,47,89,73,71,32,68,24,89,48,58,74,52,79,87,174,138,214,121,110,137,193,157,104,122,107,104,120,22,43,94,6,101,19,95,40,115,152,96,139,61,98,66,110,141,138,51,73,36,48,26,47,64,57,8,93,88,71,48,72,68,93,73,30,56,82,115,80,79,25,71,68,68,50,31,100,78,26,80,96,107,48,43,75,106,35,99,96,18,66,47,42,33,37,79,13,55,43,89,82,74,20,10,103,17,87,115,35,65,148,39,49,84,96,90,68,37,16,54,54,15,116,46,97,36,33,46,35,61,77,64,26,105,58,78,56,61,97,11,60,77,79,93,101,62,63,60,46,52,54,109,55,34,56,62,94,65,80,17,13,41,93,35,26,114,80,67,133,117,137,155,84,103,128,37,124,48,88,50,101,26,76,15,93,59,5,47,100,103,97,81,59,91,113,92,104,119,88,67,15,58,81,30,74,63,44,30,56,24,94,50,53,67,50,92,37,122,65,37,85,25,90,22,98,56,90,99,33,102,49,27,49,66,74,101,25,114,107,74,41,42,94,86,87,79,23,24,5,103,29,17,67,67,84,71,44,73,78,83,114,71,54,113,69,56,43,93,94,93,99,22,80,71,59,47,33,87,132,97,36,41,98,61,36,81,66,23,47,58,66,100,74,65,107,53,67,62,75,108,97,95,51,46,96,111,52,69,101,76,84,85,54,101,53,70,59,100,162,123,145,175,97,120,131,118,124,81,109,113,66,90,84,7,9,26,28,14,47,87,144,43,95,84,93,67,77,47,143,104,87,42,94,51,37,87,66,21,28,74,48,104,58,45,45,109,32,39,80,95,75,95,66,19,58,101,85,80,79,55,85,105,37,110,91,93,64,22,126,93,113,119,114,56,59,69,90,93,21,54,98,34,77,60,88,62,97,50,109,72,59,84,62,94,109,134,87,96,52,24,103,63,58,83,43,101,50,60,97,108,101,72,68,98,66,47,72,79,103,16,17,13,13,31,84,46,34,59,22,32,52,59,85,108,70,126,60,70,86,69,37,83,20,95,60,59,86,58,34,56,126,68,76,67,79,55,83,80,60,68,48,93,98,9,16,75,90,46,74,76,89,59,88,114,57,53,90,108,120,28,74,72,32,81,41,21,37,66,55,90,46,22,78,42,100,38,56,33,71,27,54,80,43,64,76,6,11,38,62,34,58,113,23,104,22,50,44,50,57,92,102,44,7,8,26,16,53,94,26,64,81,64,40,28,126,64,52,76,52,41,41,74,63,33,75,55,15,14,66,16,50,35,18,45,107,16,107,113,77,116,45,90,87,14,87,44,65,17,90,98,62,82,68,84,111,80,124,109,103,64,77,112,75,97,92,33,108,24,26,54,61,36,35,5,76,70,77,112,60,142,160,118,51,137,146,101,119,30,89,55,79,36,46,27,77,18,60,29,59,104,116,100,128,114,63,77,124,50,69,73,88,31,41,23,36,93,88,106,76,52,78,49,95,107,19,32,81,49,51,50,93,31,61,98,28,49,68,61,83,50,85,101,51,39,95,69,43,48,31,92,59,18,110,69,23,25,35,58,38,31,42,42,56,101,110,96,64,101,30,11,39,92,106,96,123,27,98,90,51,77,107,41,106,88,70,24,123,49,85,60,78,52,49,112,21,74,66,60,126,48,73,115,118,69,75,62,100,56,46,14,58,99,55,41,78,107,51,95,127,72,103,55,40,134,42,77,111,116,119,23,59,38,29,58,73,42,73,54,51,17,48,77,45,105,24,102,54,50,39,123,42,54,80,57,77,8,30,32,75,41,80,86,10,52,106,37,57,98,100,96,99,34,49,51,37,35,105,105,85,80,24,24,98,108,80,89,122,99,96,29,72,89,95,25,30,32,60,93,75,97,110,103,40,71,129,100,49,121,66,80,95,28,4,27,18,22,56,67,97,81,92,86,39,43,66,61,86,41,4,30,37,68,63,48,42,54,91,20,26,77,69,56,128,32,119,104,60,56,75,43,104,40,109,49,102,34,73,109,90,57,71,47,92,100,81,125,36,26,117,32,43,93,37,71,10,109,96,62,15,42,30,13,67,71,62,92,58,133,82,64,121,44,103,22,50,70,81,43,55,3,46,73,89,11,59,66,61,107,86,64,82,115,30,41,53,59,61,18,89,108,39,85,59,40,56,45,32,57,30,38,109,119,96,62,78,76,78,21,95,14,24,76,69,53,113,35,42,84,56,82,116,56,93,104,39,38,62,59,100,11,45,104,110,76,40,26,84,67,57,51,98,65,91,102,15,13,63,53,90,16,85,56,52,96,48,96,41,73,44,81,56,48,132,83,76,30,124,105,25,73,18,29,100,78,88,6,67,74,83,41,99,114,118,71,128,131,129,106,59,107,144,83,93,24,42,102,7,26,14,7,2,18,42,78,38,61,71,119,107,117,21,20,39,89,134,102,63,105,98,71,75,41,88,92,82,105,101,35,91,52,79,75,69,99,63,13,76,4,97,51,111,28,58,41,108,73,34,111,74,34,92,57,43,74,83,98,99,26,44,40,53,68,97,96,93,34,35,61,75,50,98,29,21,58,59,8,53,77,8,66,25,67,55,66,42,80,65,92,60,112,24,34,48,34,109,13,55,70,64,6,46,82,76,99,39,103,54,37,102,72,42,81,37,59,44,69,71,92,104,78,92,46,13,32,37,12,49,54,61,113,48,132,126,70,68,76,88,115,68,71,94,65,96,57,19,30,3,52,11,95,92,67,56,137,144,84,108,79,121,129,124,37,12,12,96,4,52,2,21,82,105,34,100,44,57,62,28,98,72,76,56,70,99,36,18,93,39,78,36,112,33,51,52,91,19,109,89,45,94,94,17,33,67,63,32,72,77,18,20,74,14,32,71,61,45,72,52,85,102,42,67,18,62,100,83,31,14,72,55,17,36,29,83,57,93,67,74,58,116,109,75,99,30,113,14,108,42,18,87,66,77,98,94,127,153,69,156,116,147,111,47,117,72,88,64,17,90,104,73,38,28,25,37,76,70,63,109,50,106,43,49,120,58,89,35,8,101,36,8,26,24,96,67,86,85,92,110,64,50,60,80,30,111,100,22,42,38,43,13,2,1,12,101,75,41,60,103,53,73,16,39,31,23,26,116,26,10,102,43,23,59,58,109,72,92,75,81,39,109,36,55,80,49,36,68,55,46,15,21,101,71,42,95,69,47,52,53,115,78,41,37,62,60,104,78,23,38,65,69,93,57,31,113,98,112,114,68,56,82,112,63,2,86,13,14,101,82,76,35,111,59,84,65,14,102,79,49,55,62,90,54,59,60,100,118,122,28,44,86,90,32,60,36,77,65,71,74,133,53,76,106,134,157,59,47,101,60,102,33,7,29,24,18,19,29,85,33,111,34,66,69,98,68,31,93,22,56,76,58,69,11,8,34,13,109,18,108,100,59,63,30,113,32,28,78,108,100,67,74,9,27,72,25,53,105,107,63,57,52,33,42,69,61,115,62,26,71,69,76,76,68,76,58,36,47,66,46,35,67,72,31,36,113,67,27,59,97,21,51,88,71,15,75,27,33,53,96,85,43,84,93,31,116,108,108,64,25,102,41,86,49,81,5,88,100,124,40,59,146,54,91,137,127,130,53,71,64,50,59,35,82,52,49,103,92,51,120,72,115,148,128,56,124,72,135,111,99,76,63,24,101,51,85,72,44,43,103,101,101,21,63,111,42,130,100,69,62,55,68,57,20,76,87,83,102,51,51,54,46,71,101,34,68,32,117,98,84,53,103,31,20,18,104,117,79,96,79,116,36,92,24,108,43,39,114,109,96,10,107,101,49,20,68,72,32,64,46,53,69,49,62,92,60,132,122,84,32,67,72,31,31,43,49,98,53,45,34,14,108,102,95,109,109,104,103,105,45,31,43,65,66,98,56,71,96,40,7,40,75,42,65,115,166,107,122,111,126,121,70,74,98,110,40,13,68,33,94,55,82,25,14,16,94,90,114,128,127,114,119,77,115,99,77,91,102,67,75,9,84,46,25,122,124,64,104,109,99,100,23,100,116,72,90,18,15,96,79,64,51,62,46,90,28,30,92,83,29,44,113,71,76,75,122,20,81,39,107,76,22,78,49,18,88,88,91,113,50,65,106,17,52,89,135,73,41,35,97,27,38,59,45,84,107,100,109,105,87,71,85,78,86,96,131,96,93,80,65,34,86,19,38,73,76,11,3,51,104,132,131,71,79,95,170,163,209,126,166,114,155,242,152,97,35,19,59,36,69,59,75,118,118,199,229,284,227,227,132,149,217,170,153,213,161,157,38,78,96,77,7,59,40,85,137,213,165,212,163,174,205,188,187,115,154,211,97,30,53,21,72,67,33,29,69,122,101,59,67,84,122,57,135,85,106,104,109,28,101,8,16,36,53,114,39,96,122,100,21,83,62,67,135,63,98,65,58,50,34,70,92,14,89,83,37,99,76,64,90,132,104,55,104,47,34,60,31,48,9,91,48,20,31,24,16,81,94,78,63,92,126,50,149,140,103,36,63,16,107,69,89,15,78,92,52,45,66,100,131,122,172,160,140,75,118,79,105,275,141,38,16,57,40,12,39,63,78,73,161,214,244,230,186,120,164,83,176,246,98,123,108,50,72,85,13,68,43,25,64,159,227,270,175,234,222,102,185,138,152,194,116,121,49,65,9,5,7,96,21,12,116,125,130,91,136,107,164,87,43,100,88,95,64,33,12,8,42,35,50,117,44,69,64,102,37,124,82,145,105,102,68,50,62,110,36,82,102,76,35,63,109,82,58,140,135,57,65,96,119,87,73,52,53,115,59,23,7,40,68,74,23,80,82,125,62,92,92,107,43,90,93,29,15,105,82,71,104,75,32,98,110,106,41,140,146,139,70,80,94,85,112,32,89,62,102,99,88,61,31,96,91,25,71,156,156,140,192,145,182,169,125,135,56,118,40,113,50,15,90,106,18,80,102,57,103,76,124,137,136,101,72,95,100,93,57,74,89,53,95,66,39,86,92,75,128,97,125,71,98,85,117,68,34,43,26,84,68,84,102,11,74,103,92,51,42,111,103,58,106,38,39,45,86,66,31,85,28,80,97,2,82,23,44,39,92,81,37,82,73,51,127,99,51,35,62,86,104,25,17,94,54,18,88,29,78,20,88,124,44,77,89,116,108,132,72,46,90,93,71,39,105,38,5,3,11,38,94,32,149,167,169,126,147,52,82,118,55,114,57,74,59,59,80,73,18,65,59,73,97,43,72,125,101,125,160,116,87,150,79,106,22,76,55,31,90,101,27,100,51,48,66,22,121,50,88,63,165,125,111,109,83,54,85,93,22,42,104,83,72,72,44,80,92,81,61,81,83,76,81,56,115,114,93,97,17,85,67,95,9,26,75,23,99,75,110,37,113,49,65,111,111,89,54,95,121,66,61,91,70,71,93,3,14,28,86,22,96,20,50,74,84,88,90,102,133,96,100,97,68,25,54,65,40,87,95,11,8,95,100,24,48,134,73,134,97,94,119,83,61,41,56,86,64,60,56,71,81,54,65,17,44,73,117,137,138,58,96,65,69,65,123,115,87,86,40,81,29,66,68,89,7,73,36,36,52,138,148,166,75,147,156,87,86,40,36,28,66,72,8,19,9,93,107,73,128,45,47,51,97,147,104,111,131,83,107,91,58,97,78,60,28,18,98,38,43,59,85,92,42,39,53,122,50,25,121,86,28,46,32,92,81,79,33,90,94,26,73,53,40,90,49,44,103,12,56,26,24,63,84,62,18,38,82,2,69,80,75,20,5,30,54,30,94,11,31,75,69,72,91,21,109,90,120,124,77,66,59,111,51,98,85,59,85,56,6,64,58,77,28,111,103,73,131,85,99,131,119,83,75,95,89,53,88,103,74,65,82,117,99,71,108,142,152,180,119,128,92,120,112,10,68,112,70,68,111,66,92,51,62,38,38,112,83,95,170,253,147,134,133,75,42,29,96,61,23,74,38,50,58,40,148,111,73,82,112,63,81,62,108,107,31,72,6,20,49,6,59,44,84,81,49,41,59,18,33,70,83,106,51,40,59,24,62,95,52,43,12,16,89,68,65,77,44,50,49,58,105,27,7,7,34,69,29,87,21,28,26,71,28,35,103,17,31,85,108,54,28,3,44,76,33,26,88,9,67,71,34,79,12,22,60,47,101,106,69,78,76,63,36,31,34,52,78,66,11,43,38,102,105,23,36,75,65,34,111,51,74,45,55,48,74,69,102,86,99,14,92,123,45,68,17,110,18,34,52,33,64,35,36,34,65,41,57,71,63,12,73,95,24,45,92,13,37,37,70,12,86,74,5,15,110,88,67,102,61,71,13,110,78,100,13,96,11,98,40,22,42,4,51,91,36,11,54,33,42,108,101,119,107,38,76,97,87,92,9,17,27,20,63,31,67,29,106,64,102,46,78,60,79,86,108,53,54,48,42,88,34,26,67,107,31,97,88,33,107,57,117,28,73,3,56,47,43,27,31,34,94,63,88,102,12,100,103,97,92,78,64,25,34,69,29,54,30,83,112,133,73,78,118,106,95,42,81,101,93,7,29,33,104,17,112,49,67,113,106,113,54,101,29,63,88,67,17,53,54,95,41,47,46,45,121,125,77,64,73,72,104,31,38,4,74,41,32,39,44,16,8,29,57,37,97,101,34,44,42,52,38,22,70,92,95,24,62,86,87,12,109,56,36,52,128,122,107,38,11,92,104,55,9,64,23,110,54,118,126,76,99,82,97,60,15,30,33,15,47,52,98,61,77,99,104,99,74,171,156,143,163,105,78,119,54,75,61,57,64,75,14,77,104,72,24,109,89,116,96,70,173,136,84,109,52,103,3,39,46,43,74,77,14,67,36,26,76,48,89,18,86,32,13,75,27,22,90,55,19,87,22,16,44,25,84,29,5,52,89,80,93,88,25,34,52,29,18,24,62,44,19,53,81,43,30,109,40,71,99,100,89,95,94,80,63,4,102,57,42,77,77,58,43,58,90,21,64,87,49,70,34,74,100,83,67,27,62,105,75,112,54,67,32,37,76,70,97,66,57,73,87,20,54,20,49,83,91,4,52,63,78,50,106,107,63,126,145,118,110,32,31,118,40,41,111,82,65,57,75,5,81,87,125,118,50,100,47,39,97,71,38,49,15,70,34,55,10,27,27,97,69,47,109,10,58,88,27,31,82,102,107,19,73,91,7,65,70,14,39,68,52,18,48,120,48,107,73,66,40,58,87,33,94,42,81,43,69,77,78,29,16,84,62,114,52,103,77,95,90,41,78,101,32,24,71,107,6,46,83,78,21,49,106,37,93,34,77,48,71,21,85,60,10,27,37,52,97,58,57,28,85,126,64,102,57,96,42,78,10,78,98,7,92,17,50,34,10,36,72,18,62,55,123,88,141,49,36,50,28,61,29,38,115,21,87,96,5,68,9,94,40,41,78,22,36,55,74,63,97,47,8,33,58,28,28,48,109,45,98,103,109,74,90,110,65,88,91,56,80,65,29,51,48,25,78,64,99,24,74,57,104,57,118,46,61,113,21,97,6,3,62,76,108,73,56,104,103,40,39,81,74,41,43,79,82,98,49,53,10,59,17,24,30,90,59,68,100,96,52,84,25,106,88,95,69,65,46,89,14,72,72,21,27,79,94,113,116,22,52,98,11,67,64,64,33,84,36,50,43,72,48,70,38,40,103,90,94,68,14,57,14,85,19,60,23,94,100,98,112,99,56,91,86,40,95,47,105,20,58,100,97,29,38,78,13,56,92,76,41,109,87,58,87,58,100,43,19,87,96,95,65,72,28,79,59,8,11,69,101,9,65,106,61,16,91,37,40,16,58,101,23,30,7,52,68,34,95,25,62,49,44,115,126,95,87,91,63,98,95,3,10,56,90,82,48,68,107,144,113,128,84,56,12,24,64,45,44,83,104,35,13,81,66,99,116,125,129,39,82,41,38,52,88,21,41,14,69,33,48,100,87,42,23,68,105,30,30,78,90,14,76,33,60,54,74,40,41,24,113,52,89,87,98,91,44,54,64,55,67,58,29,108,122,93,96,122,100,94,25,67,56,42,78,25,41,22,16,40,100,85,113,113,40,70,99,125,115,96,50,80,42,48,99,78,47,39,39,108,66,115,39,50,79,93,72,106,96,77,99,8,20,23,13,66,47,80,37,11,49,40,27,32,33,49,6,68,31,5,68,49,11,23,49,103,39,80,81,70,129,51,95,106,49,59,52,21,37,106,82,99,105,26,100,43,25,29,78,52,23,68,84,87,66,27,18,15,51,84,66,23,19,27,34,45,47,12,27,25,59,90,14,73,39,102,96,93,92,73,27,46,89,12,16,98,56,14,102,75,52,29,29,73,50,22,104,84,86,84,77,44,24,101,80,34,37,26,75,58,90,90,84,13,53,30,94,73,10,30,31,31,10,102,11,66,100,60,49,98,97,71,23,6,35,44,21,6,63,93,81,81,37,24,96,86,15,100,80,99,57,77,35,88,37,109,62,38,69,107,80,107,66,6,23,99,93,72,43,97,35,38,103,55,22,80,100,21,104,22,49,33,42,28,57,92,57,51,90,97,16,44,90,108,10,84,104,70,103,45,100,43,87,101,68,97,70,83,32,71,14,39,59,102,14,15,21,58,23,28,17,42,9,11,28,96,81,50,99,57,92,68,76,79,67,98,113,97,44,95,6,52,15,73,14,25,62,100,58,82,43,64,79,98,64,15,86,42,14,41,82,94,78,7,58,116,134,92,163,159,192,127,152,156,62,60,84,21,36,44,77,102,56,98,101,35,49,115,174,114,106,123,159,141,79,45,24,63,74,73,61,66,61,13,33,76,43,53,85,119,83,132,126,138,64,22,50,73,22,23,47,65,64,81,80,22,87,104,66,25,15,101,76,109,30,83,46,48,7,40,69,88,41,53,90,72,93,43,80,98,95,38,21,73,48,44,3,9,62,6,75,23,70,30,69,18,103,73,105,50,74,67,100,60,45,16,58,11,52,32,94,36,75,37,54,34,42,73,42,25,101,55,13,89,22,90,37,75,141,203,177,164,78,95,114,54,8,20,45,102,48,67,41,86,14,9,107,64,110,80,141,147,136,146,117,89,16,18,79,69,26,37,102,109,83,39,58,78,104,30,65,37,131,38,6,68,53,90,80,77,37,115,38,45,99,40,62,39,37,111,40,114,33,73,91,46,53,93,34,72,56,112,13,93,64,71,57,49,77,72,39,30,97,45,11,69,13,44,60,92,106,71,61,46,120,63,50,76,108,21,29,60,8,39,95,97,27,28,56,53,106,120,98,111,87,120,64,67,97,84,88,50,2,5,98,29,75,55,73,88,99,60,12,34,45,17,20,57,60,10,52,71,10,29,49,16,47,94,57,43,116,35,52,47,82,65,53,75,27,19,98,3,23,103,29,52,45,45,62,55,80,25,51,72,19,30,29,41,66,7,92,49,28,102,34,93,64,91,43,102,11,97,19,51,11,3,5,100,77,15,104,77,74,108,83,12,93,102,75,54,22,63,96,97,34,27,7,25,22,13,47,32,97,9,29,111,52,88,11,84,52,25,86,11,67,102,22,74,28,53,59,64,46,143,77,27,95,21,99,71,66,19,13,78,64,39,11,87,48,59,100,132,176,152,124,108,57,107,69,45,52,9,56,60,80,57,93,54,59,123,153,82,153,125,152,111,83,89,106,49,4,56,86,59,98,54,18,91,87,38,61,87,65,67,90,76,61,17,15,39,39,20,77,23,46,105,51,21,38,92,57,20,71,108,39,106,89,29,73,73,71,96,47,48,52,85,38,64,69,85,41,95,67,36,83,96,58,77,78,54,81,29,39,95,65,74,64,79,52,24,81,48,64,57,15,68,56,79,24,76,7,10,56,111,80,69,76,136,115,82,57,149,58,94,19,49,51,54,14,71,92,49,26,44,119,124,137,204,268,224,285,208,247,200,128,35,72,83,52,29,61,69,15,88,35,104,80,116,139,156,145,138,151,186,183,176,92,69,91,63,26,59,59,72,60,38,20,68,87,46,57,59,40,27,37,56,88,75,100,60,59,30,55,12,15,86,42,23,50,102,70,56,92,94,76,52,20,57,93,59,16,77,13,74,21,72,33,27,81,46,58,105,51,132,93,15,81,14,66,19,9,70,60,12,98,96,88,38,37,35,92,141,127,115,103,44,20,34,54,86,4,25,7,93,59,57,102,56,80,57,94,115,65,75,94,47,97,99,58,27,88,86,79,78,77,3,63,72,29,75,40,171,162,149,212,139,118,118,138,87,90,46,7,33,98,86,90,42,24,85,37,48,70,77,95,19,31,77,56,22,29,1,52,37,56,40,16,52,47,55,35,42,41,27,42,2,71,79,36,62,67,91,104,45,104,41,44,58,26,27,86,104,6,48,20,15,46,70,114,18,50,36,4,16,105,69,44,54,52,36,20,63,108,61,111,23,86,72,24,52,46,15,94,60,99,54,58,37,80,4,73,97,51,106,13,88,99,93,81,30,48,4,52,5,72,3,43,23,80,31,72,59,40,36,41,91,97,18,88,71,73,105,68,37,113,92,69,89,69,19,54,60,73,96,53,27,69,31,74,12,71,18,20,59,67,65,24,51,33,86,89,78,37,107,91,87,83,18,51,27,39,81,87,43,45,96,33,86,54,88,13,33,44,68,38,68,60,41,109,58,30,31,20,44,31,33,80,17,65,55,40,29,81,12,27,54,52,22,82,31,40,14,44,94,68,86,72,15,31,41,104,14,37,61,131,89,91,70,79,116,85,72,55,19,91,50,21,21,15,21,27,67,46,37,98,91,168,110,116,114,141,103,27,75,80,65,59,55,72,112,45,31,30,10,17,69,104,10,31,18,53,82,9,19,69,82,22,85,37,50,71,96,69,66,75,110,48,87,72,95,15,33,89,3,59,106,18,117,36,95,109,35,101,157,91,149,122,91,25,4,20,13,44,52,28,111,112,79,97,26,67,79,70,109,124,115,63,95,93,43,52,36,32,75,96,86,82,76,140,79,67,98,117,139,136,144,127,94,86,30,100,13,76,7,46,44,27,106,117,167,92,104,255,163,131,253,174,202,198,91,106,170,83,91,106,93,3,89,18,74,200,232,190,326,252,277,286,284,329,313,264,164,126,68,78,132,80,106,89,86,47,68,76,147,191,139,208,321,257,366,289,259,289,173,192,131,169,69,85,113,35,56,36,3,25,85,67,116,143,181,217,283,242,250,253,239,248,180,126,142,190,51,95,27,72,88,21,93,38,179,173,105,236,194,180,206,162,223,230,200,138,111,169,91,74,75,33,27,7,60,87,147,167,202,263,253,245,226,294,298,313,189,149,186,123,114,53,68,38,35,66,31,28,32,51,181,224,242,209,289,355,289,330,327,312,195,239,183,139,155,162,128,17,43,47,36,55,72,109,166,121,261,232,235,125,88,47,128,169,106,172,110,49,46,80,46,46,19,73,5,81,60,123,124,152,134,119,195,216,98,100,108,164,112,123,101,105,128,86,81,25,60,76,53,38,137,168,195,153,190,120,126,110,93,142,54,8,94,45,88,38,49,50,93,56,99,115,118,112,94,132,124,76,113,118,61,47,56,14,94,59,74,66,44,102,75,58,129,79,87,39,38,119,93,94,82,15,77,13,68,32,104,37,101,80,79,92,98,63,73,132,98,87,60,33,74,66,92,97,100,71,59,116,107,112,54,47,33,113,47,90,99,92,40,45,25,80,23,49,94,71,100,50,55,137,72,121,155,77,99,85,80,122,126,131,67,34,24,43,77,65,92,87,83,98,146,125,233,165,245,160,160,203,125,119,88,28,66,82,75,46,74,89,54,58,106,115,190,151,122,129,167,158,76,88,50,52,57,18,59,10,28,66,16,79,88,67,85,82,56,98,119,135,82,67,57,19,5,43,15,65,19,102,82,116,54,131,75,148,61,94,67,114,92,45,43,90,40,43,83,93,66,44,60,94,84,20,98,23,54,124,54,133,80,32,73,71,90,84,5,51,85,61,68,91,132,86,84,65,162,63,110,101,129,59,70,17,21,64,55,45,58,76,78,89,85,114,103,100,84,65,114,87,145,84,47,104,81,27,34,9,73,12,95,89,3,82,28,86,52,106,184,168,144,196,193,123,91,76,28,42,65,99,84,13,33,101,85,23,126,58,134,150,94,136,53,45,35,67,6,42,23,39,109,52,50,69,138,140,96,80,53,123,134,112,31,74,49,77,39,74,21,35,116,39,72,52,103,129,101,84,78,47,89,50,108,61,68,18,40,51,67,37,111,100,108,60,83,133,118,101,112,114,120,20,99,67,37,30,39,75,118,81,73,81,108,34,68,62,45,122,112,123,43,59,56,16,2,70,60,26,55,101,32,5,67,76,54,121,92,129,118,142,81,55,112,65,97,34,89,46,53,91,14,87,53,58,35,75,154,125,123,154,76,116,120,89,32,70,95,46,98,109,81,87,22,99,56,37,44,76,156,133,121,101,111,110,128,107,89,51,37,32,79,85,60,74,52,67,100,43,62,102,127,26,113,89,91,104,88,66,56,37,17,18,101,80,30,39,122,82,114,36,55,35,57,131,97,105,51,108,100,86,81,13,38,110,93,100,101,63,110,68,80,63,95,138,23,103,86,31,33,80,40,93,30,125,47,32,40,120,121,94,110,75,113,27,119,52,61,56,61,77,16,35,43,61,91,131,83,64,168,151,69,71,81,70,37,32,73,97,49,36,83,95,82,107,114,91,132,117,129,147,191,220,60,172,89,51,81,16,16,100,2,16,13,21,101,87,113,145,164,162,147,158,104,111,129,78,76,50,91,30,100,79,27,95,39,117,110,132,116,92,133,73,101,100,106,56,27,22,40,97,40,24,2,85,50,123,36,48,110,61,100,109,119,105,125,108,79,58,80,72,59,25,7,2,12,94,100,102,27,93,67,40,28,108,126,64,87,86,62,79,33,16,40,26,73,18,83,74,123,52,101,52,109,147,124,83,74,94,68,50,32,17,58,6,42,94,104,115,75,118,172,148,130,90,103,140,80,27,120,37,50,99,18,29,54,40,27,105,121,110,210,185,148,128,104,129,64,80,46,127,42,29,64,105,62,93,3,36,51,90,116,162,124,129,107,73,89,93,84,100,30,46,71,67,69,26,51,35,63,86,40,89,80,101,120,44,116,55,54,109,43,26,98,73,53,25,63,119,45,90,16,43,47,17,32,95,91,61,69,74,18,79,51,95,92,48,39,25,62,93,13,117,122,93,91,57,62,48,54,84,96,25,92,16,99,90,20,58,67,77,43,110,86,36,86,126,96,99,143,122,62,123,29,111,64,53,58,110,92,6,87,90,81,81,17,121,134,43,132,129,106,96,84,84,47,108,15,101,61,13,23,78,41,58,63,151,151,138,128,194,177,180,101,85,62,47,70,16,59,23,94,37,46,55,18,37,40,37,113,106,85,90,181,98,78,84,60,135,55,100,87,103,19,85,88,63,86,16,32,26,118,127,35,80,73,106,103,66,36,52,16,27,53,60,51,12,69,86,31,66,90,64,107,80,64,77,133,106,98,52,61,40,70,46,41,32,96,90,75,65,70,47,31,59,106,35,70,26,56,136,126,83,30,101,28,35,46,96,57,28,22,46,18,32,36,36,54,104,59,69,154,50,21,41,95,116,84,70,17,67,78,80,104,44,38,123,91,87,91,28,69,43,90,131,75,80,93,55,31,88,113,105,90,117,71,132,142,88,122,147,101,96,138,48,43,33,79,30,44,11,17,89,81,70,65,109,92,39,123,153,111,95,55,141,125,84,86,35,71,21,33,35,19,45,98,46,3,43,76,11,32,104,27,78,106,109,39,57,61,107,15,19,58,45,57,95,58,93,83,6,61,56,29,38,80,73,29,24,88,42,3,77,48,13,26,14,6,20,23,50,29,78,11,57,92,75,47,48,29,66,92,77,46,25,124,115,39,108,32,81,56,101,118,28,26,88,62,14,78,82,70,25,56,66,23,93,70,51,48,48,65,93,127,126,37,101,45,73,90,60,66,100,99,85,69,72,143,83,128,128,178,81,177,135,90,79,51,63,96,108,46,53,63,77,60,42,100,49,50,125,108,98,73,133,118,64,43,80,55,55,74,61,72,38,65,63,43,111,81,53,85,77,130,40,130,110,52,24,42,73,81,31,65,79,51,94,62,119,84,119,124,130,57,97,98,38,36,10,55,11,37,64,14,69,19,61,97,41,15,53,86,109,94,66,99,68,51,71,71,91,47,33,7,69,26,69,20,56,27,42,42,19,82,111,27,60,39,76,65,66,89,62,43,58,59,65,11,61,89,64,33,72,84,80,80,38,101,69,114,68,131,121,76,29,36,43,19,25,55,60,5,24,108,68,112,179,164,108,61,51,80,39,81,41,25,10,60,96,100,36,17,51,57,120,77,220,207,199,265,177,158,119,165,135,107,68,27,83,43,37,69,75,51,24,97,99,134,132,113,150,74,86,58,84,68,54,55,63,5,89,45,52,77,27,88,53,71,125,121,74,34,63,112,86,40,68,21,86,55,35,46,40,49,28,108,114,62,23,56,6,106,102,32,107,138,108,78,112,35,27,85,23,99,33,93,75,20,45,66,27,60,14,83,84,94,82,52,84,8,39,64,33,100,93,54,125,106,99,112,116,80,132,76,142,37,116,104,90,91,25,47,85,33,64,56,19,116,55,161,132,112,137,90,128,82,108,98,37,29,34,40,61,94,50,40,38,60,36,62,101,142,103,174,99,163,133,87,96,101,94,51,63,95,94,100,14,95,24,43,87,103,57,99,118,110,84,52,126,53,82,80,33,84,91,7,45,7,13,101,72,84,20,52,85,79,115,61,84,61,140,77,116,85,15,26,58,90,94,95,53,87,61,23,82,62,83,102,96,111,65,152,75,100,107,97,5,39,21,108,94,18,116,60,83,124,28,34,105,96,113,129,34,24,118,28,89,27,91,52,79,60,96,73,116,116,109,41,127,144,103,108,71,137,78,55,87,109,59,23,105,28,22,52,50,112,107,125,148,137,137,65,89,138,58,70,66,44,64,90,31,66,93,98,54,71,105,48,93,151,160,70,82,93,68,55,110,68,102,99,66,25,7,50,18,68,60,34,65,38,97,129,41,32,41,91,111,50,118,116,73,97,37,12,20,58,97,44,117,57,109,108,82,60,68,91,55,73,79,58,65,5,39,75,44,104,37,87,77,113,68,106,50,69,62,71,113,56,47,118,61,69,66,19,92,64,64,26,12,78,27,68,100,66,107,94,58,39,117,124,40,65,54,86,95,23,20,64,62,11,65,108,35,104,103,92,120,106,55,117,123,86,95,133,56,81,79,28,67,23,96,34,64,22,29,64,45,204,144,106,167,104,109,132,55,80,71,108,84,16,20,28,64,27,14,30,3,88,25,131,158,80,111,89,79,57,98,93,105,47,7,37,28,37,88,69,66,56,33,74,29,18,118,114,78,88,126,130,71,93,43,67,90,54,75,88,108,67,96,86,29,68,29,28,16,19,96,92,14,50,90,100,56,62,22,49,27,82,53,43,40,79,47,48,72,52,29,65,33,71,88,68,84,64,27,12,55,4,24,27,52,43,115,83,75,87,105,39,45,41,59,92,70,26,2,20,12,67,96,84,92,70,34,45,40,51,120,81,56,108,119,87,98,46,28,62,36,78,34,12,34,46,63,87,143,110,156,145,77,164,57,47,114,71,51,96,31,38,99,98,76,50,42,76,58,95,23,86,54,127,101,83,78,130,51,76,96,58,87,85,100,89,90,68,62,29,90,33,102,48,80,51,127,76,96,43,86,46,30,77,30,78,12,47,36,13,4,103,41,42,100,38,84,41,55,115,107,63,104,35,135,57,101,8,17,68,95,20,102,90,115,50,108,42,90,101,27,44,60,106,82,105,45,57,91,39,84,65,79,12,56,41,92,66,34,107,94,73,51,122,121,59,46,104,88,48,32,26,79,6,32,100,92,36,59,75,129,81,50,83,58,75,61,116,44,24,62,58,76,93,108,31,48,50,104,146,153,166,124,84,144,145,86,131,76,110,52,108,23,10,75,87,23,20,8,69,124,96,93,99,91,87,77,151,130,65,89,46,24,37,107,8,83,26,86,57,62,65,64,50,66,51,40,123,129,121,49,20,50,105,51,35,6,26,7,35,33,43,81,43,29,86,35,65,69,59,56,85,85,13,100,44,8,37,36,38,99,55,73,99,109,123,76,71,96,42,103,87,46,23,88,89,38,22,69,25,21,112,73,55,29,87,44,91,120,81,92,77,119,70,26,115,32,93,39,76,86,16,81,47,69,22,97,85,62,192,146,174,93,117,130,104,121,101,79,83,83,78,102,74,26,68,45,56,170,123,205,167,167,130,193,140,197,99,106,129,22,93,65,59,70,35,79,49,131,61,92,135,117,113,157,153,119,125,65,151,97,100,57,96,57,33,16,106,68,113,77,92,55,142,126,81,79,128,65,82,133,117,51,56,17,50,8,89,84,93,116,58,77,79,76,34,113,113,74,65,64,64,87,16,17,39,100,87,91,23,92,98,35,39,68,60,88,18,112,57,132,58,84,63,94,96,96,23,97,35,104,65,76,109,95,73,64,98,95,101,66,82,129,88,97,87,62,15,46,97,38,70,74,31,126,126,90,61,82,86,128,98,72,144,28,79,79,59,69,73,24,93,90,15,33,120,70,29,128,129,126,150,83,98,141,93,68,49,52,75,22,18,26,29,46,42,58,55,29,74,150,132,119,133,96,143,109,48,119,42,123,62,92,19,21,21,72,84,70,57,57,43,40,121,87,96,64,96,31,99,80,97,108,52,22,76,60,12,37,20,94,58,93,30,124,96,106,111,29,78,130,102,92,40,34,55,31,60,29,99,84,43,103,116,85,33,98,39,58,40,94,58,93,124,114,72,87,43,101,54,77,84,39,28,33,75,50,77,87,46,116,109,60,97,103,135,145,64,70,116,106,47,19,48,7,12,79,21,9,20,40,93,95,141,124,65,66,57,95,139,135,88,49,122,87,48,35,37,41,88,35,68,68,26,60,115,94,127,91,73,150,160,105,112,147,120,70,50,46,48,70,26,2,21,38,46,43,54,42,138,146,92,114,85,86,78,58,45,47,39,94,28,13,49,99,93,88,72,52,124,83,21,96,34,54,128,48,38,115,103,81,46,39,107,58,66,85,76,91,18,93,46,89,19,105,62,25,88,127,39,113,29,77,30,101,58,32,22,93,28,32,95,72,43,80,90,59,82,117,85,145,48,107,85,89,16,56,73,70,53,77,127,21,93,85,38,47,64,39,114,38,100,76,61,99,81,32,28,17,28,27,88,112,77,42,151,117,108,74,119,94,33,85,65,56,90,106,98,106,84,101,40,23,45,69,28,100,133,128,151,112,114,68,130,108,139,61,120,71,68,120,108,48,18,81,64,77,9,59,47,83,124,118,109,144,100,53,47,86,31,51,40,71,98,94,14,70,101,16,82,62,112,79,91,114,118,46,16,41,112,95,95,101,77,58,53,41,70,93,95,111,94,80,25,28,68,70,52,85,112,83,37,80,59,10,40,20,48,48,61,79,32,74,47,83,60,64,101,101,34,79,64,55,79,25,78,65,98,57,10,60,68,99,101,103,75,84,43,66,73,86,43,87,85,109,114,67,20,73,93,65,49,41,47,73,44,113,44,120,78,80,121,110,117,96,32,31,78,114,45,46,23,99,55,13,78,39,48,74,66,84,124,80,152,115,67,59,103,142,116,141,100,22,49,74,23,76,41,43,100,11,46,114,100,78,145,23,37,85,85,105,118,81,121,114,31,68,102,71,27,92,100,101,14,24,94,36,47,116,51,85,108,112,71,67,90,94,100,95,36,82,87,99,109,29,104,50,44,72,31,57,47,92,97,118,76,119,99,85,93,2,28,22,48,90,48,96,38,55,68,77,70,72,107,140,115,155,49,123,115,30,22,75,94,97,67,46,26,124,44,119,114,129,113,94,96,40,132,147,103,106,101,29,89,93,80,18,30,109,36,111,30,116,118,61,52,29,96,44,89,113,122,27,49,12,94,54,15,100,86,59,92,112,77,118,145,115,144,133,141,117,114,131,97,76,98,35,63,106,95,38,25,9,13,79,85,95,115,112,102,144,89,40,130,43,39,61,85,107,43,102,54,86,35,36,24,29,57,88,32,96,37,46,19,41,55,90,36,85,35,15,12,78,4,52,95,5,26,37,72,73,76,62,100,98,17,49,67,35,14,89,84,19,32,102,72,78,69,110,29,90,89,46,103,30,16,37,75,153,77,64,81,67,87,46,77,63,14,88,96,44,45,32,57,51,80,13,28,55,45,33,79,136,99,84,79,28,1,64,80,93,52,37,25,129,71,126,137,77,33,106,102,90,40,50,32,76,67,68,2,40,67,14,54,58,74,87,91,126,94,158,96,137,79,55,27,69,51,93,99,76,66,79,86,74,88,100,89,62,70,93,65,94,68,64,58,66,81,78,45,53,72,66,68,60,70,69,86,59,48,110,41,47,29,102,80,89,93,55,70,55,30,103,55,18,18,66,74,92,95,75,70,107,111,32,83,77,66,141,110,134,66,73,122,23,15,44,37,18,99,74,100,99,88,106,16,71,56,50,50,101,74,65,36,50,41,27,57,16,73,64,2,65,99,73,57,22,62,79,102,39,54,94,52,107,101,82,24,53,24,81,99,16,93,48,34,120,88,25,60,121,30,49,101,131,113,97,100,65,38,71,21,25,100,2,11,21,62,32,84,96,136,85,153,127,92,69,97,64,57,92,42,50,40,34,59,67,1,68,2,86,50,80,54,48,101,42,87,137,59,73,62,119,41,55,35,36,90,21,21,5,30,103,131,41,58,27,109,55,109,61,96,108,78,20,97,65,26,42,64,27,46,59,43,98,55,47,88,21,51,58,63,20,106,75,36,102,31,19,85,80,58,32,17,12,9,88,54,25,110,38,92,74,85,27,53,131,82,108,95,43,65,81,52,24,29,89,97,61,63,53,71,25,28,90,74,112,85,118,58,37,21,50,63,62,5,82,15,53,99,77,90,26,36,56,43,52,63,117,81,68,37,46,122,53,14,26,88,15,22,39,47,93,61,143,90,122,108,88,98,102,101,134,103,39,92,100,104,67,43,43,99,75,42,91,13,48,69,90,100,92,58,72,95,80,46,76,84,111,100,100,24,22,22,84,111,67,42,61,66,77,34,48,120,84,101,86,58,25,75,55,34,9,53,68,66,15,110,83,110,52,51,105,105,62,127,82,83,103,68,23,45,76,98,22,107,75,84,33,103,78,32,40,30,87,135,71,90,48,90,20,42,77,36,93,21,113,108,114,17,102,56,57,38,67,124,109,117,133,102,104,79,68,88,6,56,91,7,26,34,74,54,32,66,67,118,89,67,107,87,74,72,64,48,52,61,104,106,32,10,66,1,16,74,67,119,104,179,129,133,82,86,148,105,61,85,47,93,35,43,109,77,30,86,99,59,65,83,156,187,163,95,159,101,61,132,111,95,112,57,58,95,104,93,25,64,44,93,27,73,95,107,65,115,79,129,102,153,99,104,43,56,27,53,98,27,52,32,95,65,36,98,35,30,33,59,31,97,48,84,93,52,47,91,83,14,46,46,73,56,68,131,109,41,24,34,57,51,36,96,109,21,54,97,92,77,19,85,65,66,78,33,113,82,55,46,81,46,83,82,49,21,10,49,79,98,30,25,44,24,69,51,69,125,57,38,104,59,128,81,110,101,147,113,92,53,38,108,36,100,17,72,3,3,100,52,50,17,65,138,107,100,116,140,155,133,107,109,87,56,101,29,16,53,47,55,3,23,76,82,111,90,106,102,65,138,86,83,142,137,112,86,83,44,91,89,96,85,99,36,104,124,97,55,70,61,107,133,78,41,68,52,52,114,11,6,8,58,56,65,39,62,90,81,41,58,21,96,44,108,79,103,108,93,93,87,60,79,78,89,104,58,8,34,93,105,50,101,13,55,36,111,40,120,99,118,25,42,58,42,48,75,12,44,21,37,40,29,81,59,120,120,51,102,97,129,106,43,87,24,49,77,50,92,90,14,68,45,37,53,47,89,76,75,74,112,101,99,122,107,65,118,116,41,75,70,100,34,74,67,91,17,11,54,61,54,149,81,125,94,79,116,68,47,73,80,81,71,30,80,66,75,67,48,81,53,35,33,42,82,140,110,124,119,114,127,157,105,33,54,26,24,80,21,51,2,84,88,70,117,104,35,63,104,69,88,90,63,108,93,74,47,21,29,60,14,37,98,112,52,109,49,77,29,106,65,120,88,132,69,36,29,20,84,46,27,17,12,56,112,78,45,125,70,121,120,43,31,46,77,71,57,54,30,57,105,1,67,80,2,44,113,109,109,83,121,82,44,95,89,80,89,39,113,112,54,27,20,81,87,17,25,62,39,44,58,84,145,42,69,55,67,97,63,103,53,47,102,61,86,94,46,22,51,89,87,62,113,83,152,97,111,91,156,149,151,85,67,65,89,72,90,88,109,82,83,51,90,86,103,43,127,122,143,56,126,114,42,147,118,58,49,51,42,91,76,38,9,87,50,60,72,81,70,88,106,50,38,70,73,133,73,72,58,71,60,90,34,71,53,11,22,94,101,101,73,97,71,47,61,77,61,111,38,59,62,106,57,103,85,76,81,93,64,51,77,82,64,24,23,72,68,74,81,83,124,100,21,41,69,32,28,44,19,30,104,73,33,102,50,136,87,53,113,86,141,101,156,59,72,39,35,68,39,53,12,89,99,66,134,159,81,134,159,174,101,184,153,54,97,261,194,95,47,52,65,8,93,43,96,118,136,259,240,245,215,203,177,141,165,148,265,172,48,106,40,31,59,41,3,58,90,48,116,166,255,263,211,194,164,127,107,138,94,246,71,113,96,18,33,21,45,63,122,137,138,101,77,113,90,57,117,82,118,97,37,60,32,69,45,46,40,99,90,106,62,86,87,141,128,53,103,140,124,135,68,51,101,81,103,30,62,92,62,46,13,15,31,120,75,45,31,34,109,57,68,90,149,124,65,76,23,105,28,8,9,22,35,13,37,130,102,60,75,145,79,146,85,68,79,85,46,85,26,72,49,42,25,15,35,28,46,91,87,86,145,130,165,132,146,100,91,147,90,182,208,97,59,101,63,52,51,33,79,75,16,95,114,140,147,240,314,266,232,234,189,110,114,155,241,157,107,109,16,47,13,95,87,39,103,80,104,117,170,203,189,192,238,185,110,157,64,118,187,153,97,32,25,36,33,24,40,56,25,97,87,50,107,153,148,84,127,73,112,148,150,99,57,50,83,50,56,50,25,95,62,121,31,84,54,86,115,103,137,54,122,128,128,85,40,109,24,68,69,57,96,101,59,83,76,96,42,36,41,120,93,105,45,79,89,79,28,17,68,25,76,29,69,72,99,76,91,65,25,101,56,33,128,69,94,146,114,107,58,62,83,61,31,60,83,1,71,76,89,39,112,49,139,150,91,150,152,167,42,55,60,69,56,19,62,37,119,76,48,44,93,21,48,143,176,91,185,196,183,134,167,164,84,47,89,42,37,11,46,86,77,81,94,60,63,68,123,158,120,152,97,93,47,37,77,96,12,50,12,52,25,37,85,132,27,62,108,126,131,94,93,49,64,54,38,115,36,105,27,56,22,44,13,101,78,36,120,74,60,57,103,70,59,115,94,82,34,86,55,85,91,45,4,14,85,55,123,118,106,86,98,46,15,64,47,126,101,53,35,78,12,74,42,57,74,41,48,16,107,116,58,82,105,104,71,61,23,104,56,75,22,41,10,87,88,63,77,84,39,41,100,34,57,26,106,67,28,75,20,102,31,85,81,96,46,87,64,68,5,60,56,23,39,97,45,12,50,12,57,73,40,7,100,49,48,79,44,33,46,71,124,59,82,79,9,8,5,18,85,73,74,12,13,50,82,108,115,51,128,82,38,107,108,89,71,85,91,47,61,14,57,87,47,28,61,29,33,103,71,25,47,52,113,92,69,85,45,77,108,94,89,36,25,89,38,95,71,93,121,30,113,145,117,106,132,84,123,106,118,33,109,93,35,67,82,15,16,61,130,118,68,115,137,151,89,143,126,133,154,113,88,37,33,31,60,88,41,69,80,68,55,22,40,55,89,56,20,61,77,103,105,37,68,105,77,97,82,58,41,72,41,76,48,127,130,128,159,168,102,119,124,26,89,14,57,103,29,107,101,8,11,59,26,86,80,87,85,126,111,85,166,118,90,46,38,50,55,89,89,25,70,126,68,92,105,139,135,54,94,68,102,54,98,42,61,79,101,62,33,87,100,51,39,37,117,48,32,104,106,92,35,86,104,60,37,30,72,81,12,27,85,97,58,68,43,120,111,48,88,44,108,94,74,89,104,30,58,100,99,9,12,48,51,71,64,48,68,80,118,48,103,129,83,119,73,21,41,21,77,26,71,96,22,40,78,33,70,56,87,56,152,78,65,87,101,62,80,44,118,66,97,77,19,32,79,60,38,19,15,44,58,128,96,80,142,90,83,100,90,110,78,101,55,76,60,35,66,74,84,165,122,81,158,135,161,132,48,26,77,94,47,14,20,44,99,110,107,93,34,89,130,79,138,79,67,132,99,52,72,24,69,16,67,112,35,101,64,64,69,123,43,20,42,91,125,76,17,73,8,54,68,17,86,65,23,103,70,96,106,92,49,84,95,26,51,132,119,82,101,41,79,89,46,22,51,16,90,49,106,65,37,125,47,69,135,47,79,56,45,69,14,86,33,65,82,98,96,62,71,79,70,112,108,73,49,91,138,124,108,70,96,71,50,43,96,5,52,21,76,94,77,6,26,73,49,47,88,51,91,118,93,127,131,15,61,83,55,32,58,42,76,40,89,49,87,78,115,109,123,73,79,97,132,70,66,95,11,22,80,13,11,99,16,47,53,107,66,28,92,96,42,42,120,39,35,76,43,90,66,97,21,46,64,49,38,57,22,50,104,87,35,89,96,109,115,90,97,82,37,4,8,21,63,48,99,71,36,38,39,51,108,103,98,59,75,112,109,105,94,14,8,79,20,73,72,49,119,65,98,106,136,92,120,85,33,105,42,69,99,59,94,90,97,36,29,109,60,48,56,36,101,84,82,179,151,124,129,24,80,54,71,102,48,92,69,86,33,22,30,15,72,57,42,140,81,103,54,72,99,91,73,110,92,80,17,22,12,76,20,60,42,57,100,50,109,148,107,98,96,95,111,38,42,78,98,27,92,11,70,31,31,37,76,39,90,75,120,103,46,117,81,96,121,29,101,73,100,17,21,12,17,21,78,30,37,51,115,24,43,122,109,61,71,85,84,89,73,74,54,48,58,89,27,84,66,31,35,19,17,19,23,74,51,93,47,21,128,137,88,19,29,40,58,94,56,71,102,54,8,18,12,99,44,46,43,56,75,23,48,70,39,67,83,78,92,48,59,96,5,60,34,84,62,27,44,42,71,93,15,6,18,72,61,22,27,81,30,12,77,3,33,86,32,64,96,45,89,34,26,54,22,73,45,91,13,45,36,87,27,82,54,49,51,58,66,39,85,37,88,105,71,57,65,31,97,59,79,17,101,3,60,49,62,102,52,49,52,52,49,88,82,109,64,18,43,86,29,104,8,38,101,49,95,22,85,112,71,85,71,27,111,119,103,70,16,61,48,70,27,45,75,76,25,45,92,76,110,101,60,58,100,78,102,8,63,16,26,30,13,19,87,34,11,13,23,52,62,67,25,78,115,81,48,115,62,100,16,54,100,94,2,15,44,78,56,74,18,29,83,97,110,147,113,140,84,138,96,115,44,115,51,43,8,34,79,6,85,101,36,34,54,68,63,94,115,142,66,131,93,40,73,73,42,63,10,2,22,58,63,41,75,62,126,68,36,75,56,127,81,52,40,36,31,72,41,27,99,58,72,82,113,61,62,82,36,22,45,68,68,78,71,85,76,99,42,24,45,73,52,90,89,34,66,72,75,66,115,99,123,140,34,58,68,34,89,81,56,100,73,64,10,55,27,25,102,72,67,83,119,74,60,76,83,90,80,73,74,65,57,97,23,67,15,52,85,50,80,49,62,100,37,93,35,71,73,91,83,32,47,74,90,76,70,23,86,44,85,54,52,35,83,116,38,106,79,65,71,107,98,76,69,76,35,82,45,26,46,15,65,10,49,92,102,115,97,100,31,36,85,18,38,22,26,25,83,40,21,63,75,109,53,104,121,114,112,70,26,61,51,49,112,21,14,66,12,78,12,67,60,81,54,46,63,27,79,44,80,37,105,19,60,110,66,57,71,100,21,21,16,39,22,75,49,6,52,90,34,76,46,114,69,93,79,67,91,67,98,84,111,21,93,54,74,99,74,10,56,74,43,85,92,59,51,36,58,33,59,37,51,107,17,58,12,53,21,40,34,25,19,56,98,34,65,54,97,80,108,102,17,14,40,62,84,71,50,4,72,96,78,90,53,105,141,77,124,115,102,28,60,98,56,84,68,60,85,47,59,116,87,88,63,82,119,58,36,88,52,12,47,43,14,39,19,70,41,105,56,37,81,102,102,50,37,93,78,124,75,76,102,110,50,48,36,35,2,12,44,19,109,22,98,121,125,88,87,56,109,132,82,100,15,31,67,88,56,17,82,57,113,23,104,47,113,130,71,99,125,62,66,94,95,14,47,29,37,66,85,15,105,68,60,75,33,122,86,119,50,9,59,15,35,60,15,41,76,23,80,93,72,73,105,92,96,158,163,112,34,35,50,49,8,64,26,35,21,12,100,9,19,43,94,65,69,108,77,53,128,63,13,53,41,74,30,92,7,20,33,35,53,65,19,44,44,89,28,78,45,3,68,14,21,75,55,38,38,97,18,41,95,37,19,11,25,3,16,33,19,91,11,90,64,38,40,103,117,72,61,47,110,27,84,57,92,23,97,14,2,104,13,91,92,105,150,129,93,136,150,96,47,77,81,105,31,14,38,57,44,30,5,78,91,74,56,119,60,156,82,111,115,80,117,65,94,61,16,47,101,101,124,39,10,20,15,43,39,153,101,182,180,114,105,60,110,10,59,70,66,77,2,57,73,66,102,105,74,140,63,89,102,157,126,28,86,4,99,68,76,99,67,64,137,181,140,196,93,106,22,83,48,24,51,81,103,55,16,14,43,85,108,90,86,53,79,77,140,139,119,130,76,53,89,75,95,76,83,78,137,44,82,118,38,117,173,135,130,165,107,78,17,47,108,35,61,75,40,50,24,66,95,100,47,27,56,88,49,31,77,49,66,49,55,42,13,77,65,40,122,84,149,129,91,93,156,189,185,130,72,107,40,49,87,22,72,84,67,113,88,41,95,103,84,165,90,90,118,200,131,72,74,78,54,15,79,85,90,57,42,52,37,72,89,114,124,159,195,67,31,110,113,88,37,17,20,3,14,45,39,41,106,142,87,99,157,127,90,25,72,102,78,101,71,103,131,84,145,97,150,63,124,199,80,108,84,21,18,61,25,59,79,87,75,104,83,69,120,139,145,96,168,83,94,41,52,90,74,4,7,21,44,38,45,125,97,121,104,126,147,90,132,87,121,79,56,94,20,64,18,18,102,113,112,57,91,48,34,113,84,106,110,109,132,63,60,46,44,55,48,47,55,116,124,107,119,107,127,102,82,109,122,147,88,99,14,74,56,16,100,23,26,72,27,92,57,46,64,126,148,221,115,112,108,34,68,34,46,83,71,31,65,21,35,45,156,124,167,181,117,191,87,43,74,31,63,35,40,7,10,15,77,68,135,105,90,189,158,112,108,95,78,33,22,77,38,24,6,28,22,43,5,34,115,84,67,144,107,173,83,50,64,132,158,27,90,57,57,31,88,72,39,64,15,17,67,140,99,76,102,98,35,50,55,88,127,30,44,45,15,22,81,22,8,77,18,116,83,81,57,80,61,46,81,115,132,109,95,23,87,95,54,13,6,75,45,97,108,77,72,140,84,63,116,136,128,139,49,82,99,16,55,4,63,60,76,78,77,18,110,58,124,84,168,203,227,193,188,116,38,34,100,57,12,24,101,44,92,111,155,161,144,189,160,133,115,27,24,79,40,104,50,4,62,73,62,120,100,40,152,77,84,117,100,57,138,61,59,36,64,13,31,99,9,26,40,41,105,121,22,50,43,36,14,26,61,41,49,102,96,50,22,54,71,38,59,37,13,125,31,40,53,32,109,120,33,68,73,159,114,119,16,43,7,81,12,56,62,29,53,78,35,90,130,34,83,83,76,158,182,95,115,52,31,14,37,45,36,27,45,38,34,120,29,93,139,79,119,168,113,207,139,85,90,67,43,39,88,48,19,90,18,100,65,175,91,171,151,296,154,230,224,167,51,48,49,18,19,41,102,48,22,64,5,73,101,183,153,179,196,283,242,206,195,114,72,30,77,46,32,85,59,48,100,69,43,61,90,51,60,43,136,66,84,106,67,78,126,75,30,46,51,100,38,63,18,7,99,50,67,14,111,99,105,113,38,125,106,101,113,42,98,60,64,37,1,73,85,72,98,79,93,27,120,78,37,46,101,42,48,103,83,18,3,18,39,21,54,40,76,105,94,58,39,92,91,12,45,45,35,25,39,90,18,13,101,40,76,74,15,91,11,90,15,47,97,127,82,74,70,30,60,46,48,69,60,60,81,83,6,55,67,42,91,42,42,128,71,146,100,152,148,67,104,17,77,25,49,97,44,62,86,77,82,49,85,103,121,69,121,152,63,133,59,86,57,69,33,99,62,33,23,57,74,107,59,108,88,52,66,79,33,112,32,90,61,98,63,63,32,75,77,74,67,106,55,128,28,81,49,93,71,113,32,47,87,12,18,68,88,33,10,71,81,77,71,100,91,43,81,87,75,55,60,65,106,35,19,70,54,9,80,14,71,48,90,17,66,56,121,109,73,123,78,91,56,28,63,9,78,10,78,57,70,65,70,72,44,94,23,58,119,55,73,77,154,170,109,121,66,57,25,85,77,48,53,102,86,81,14,87,105,44,136,152,189,225,244,196,187,100,153,98,14,43,64,59,72,13,36,47,76,44,123,117,56,170,138,156,169,147,177,138,79,23,97,71,79,94,74,35,74,9,25,89,98,79,127,130,106,151,108,118,94,41,90,19,46,109,31,72,27,15,81,24,60,114,17,109,45,109,46,127,78,85,63,79,59,37,64,6,43,83,20,58,88,22,25,103,73,53,102,62,36,94,60,124,87,79,24,50,64,43,21,41,67,61,54,36,48,33,41,83,26,101,77,84,131,83,64,48,106,48,41,2,76,44,22,2,65,72,64,27,95,65,79,129,60,79,131,134,67,27,10,63,92,25,23,68,25,41,55,34,82,50,79,135,60,191,139,105,219,85,71,122,66,106,103,71,104,31,37,14,15,86,29,74,134,96,81,86,94,58,79,119,82,34,105,60,79,14,103,27,53,13,77,49,49,99,107,107,61,55,104,130,114,102,124,31,17,61,39,51,36,100,64,35,70,35,111,55,112,96,17,66,98,19,22,54,64,19,99,40,2,37,12,85,69,24,108,48,88,115,83,43,51,40,89,34,59,75,15,38,58,89,33,33,30,18,103,114,70,108,119,70,103,36,31,33,41,88,56,71,46,9,10,87,57,29,94,76,100,135,139,66,73,118,109,106,16,85,69,67,53,27,37,50,79,19,110,57,94,151,192,158,127,232,173,163,80,32,98,108,15,60,54,68,42,78,2,46,82,27,77,128,130,88,153,104,126,114,70,45,47,39,45,91,82,22,38,60,116,59,70,36,113,112,65,54,106,109,115,49,51,81,90,98,67,83,61,30,72,25,62,99,117,85,110,54,78,93,85,90,81,60,6,20,101,70,59,82,30,63,110,46,57,120,96,57,51,40,140,73,20,77,92,15,54,101,70,25,56,116,26,98,32,71,118,50,33,115,68,55,68,48,77,50,49,82,12,43,13,31,31,16,34,122,92,71,121,144,76,45,172,63,160,121,108,106,75,87,71,94,29,100,84,75,55,102,106,78,155,242,214,132,121,144,164,110,29,59,100,72,71,95,30,51,94,89,100,84,65,169,232,215,158,156,141,214,82,114,19,113,6,50,8,81,59,102,42,28,66,43,56,74,129,45,92,125,109,100,94,37,74,56,34,59,67,38,55,27,75,58,16,55,109,94,99,60,144,122,119,28,84,91,40,81,61,41,96,49,45,29,92,13,30,82,90,28,104,121,96,51,52,76,94,35,43,89,86,36,77,48,71,82,107,107,83,48,16,34,28,73,79,72,72,23,3,95,77,71,35,44,123,76,146,82,184,115,93,147,66,131,93,120,35,110,52,26,84,104,77,27,91,142,115,163,194,225,172,320,307,253,237,197,121,125,56,135,91,72,90,63,26,68,30,28,23,123,157,100,228,224,203,196,266,207,239,196,97,157,140,33,87,68,44,49,14,83,48,86,131,117,84,152,185,143,167,190,189,221,164,121,96,84,135,81,108,89,79,74,92,133,99,75,81,184,161,167,212,208,189,188,224,131,103,134,118,71,111,34,50,21,39,41,88,50,62,170,164,191,165,238,267,243,194,251,194,195,183,105,159,156,88,61,90,69,88,1,41,83,49,72,115,87,148,245,201,195,297,317,209,214,173,176,155,157,121,119,30,93,98,63,22,47,105,140,106,208,235,202,198,229,251,230,194,127,72,98,88,91,134,68,19,107,68,25,61,49,112,100,172,205,188,269,242,256,282,184,194,52,103,125,87,92,69,94,56,22,71,102,48,45,91,106,136,90,165,92,126,105,142,61,56,101,81,72,26,54,82,88,78,80,55,114,77,91,133,105,64,108,128,69,134,63,122,33,9,35,50,66,18,41,56,46,33,133,73,30,142,98,116,18,26,85,65,91,43,84,39,32,61,76,114,76,75,75,131,90,41,96,166,87,62,87,53,80,26,74,81,35,56,17,92,62,104,60,33,106,110,77,87,133,119,97,70,66,108,52,16,72,103,71,38,70,75,41,15,30,23,90,53,44,103,192,191,193,123,154,160,106,67,66,32,97,76,79,10,28,10,9,90,19,46,119,119,104,217,121,246,263,173,137,167,124,113,106,101,63,37,42,18,77,87,61,45,45,88,136,129,110,118,153,179,53,151,122,90,86,43,40,61,41,88,96,24,39,63,90,70,102,96,59,152,123,118,118,50,103,100,79,99,18,88,24,75,80,41,16,87,91,120,105,104,113,130,121,56,68,115,102,86,2,43,77,58,37,49,28,29,112,50,101,130,79,43,116,122,63,52,103,82,92,37,58,91,21,82,14,39,81,55,134,57,119,115,134,80,93,129,106,80,94,77,35,15,18,71,59,75,106,10,52,26,77,75,128,90,103,155,122,89,132,91,137,36,47,32,23,72,88,93,93,34,66,87,103,61,50,110,127,37,56,96,43,105,112,82,33,94,57,73,22,34,32,54,39,97,73,117,58,27,102,92,58,49,61,55,139,66,107,33,101,55,38,57,49,29,11,46,17,38,84,88,32,82,79,93,78,48,112,112,49,47,58,58,78,60,10,102,89,32,62,9,77,34,31,105,99,113,101,103,80,42,83,68,127,42,104,24,79,56,92,30,82,22,65,116,40,56,111,105,139,164,191,49,97,138,52,110,54,76,60,40,64,90,33,88,18,69,148,80,133,145,140,113,127,111,124,90,71,27,96,23,85,67,51,64,44,70,60,42,128,85,24,63,29,47,128,103,71,97,113,37,20,21,12,51,76,56,96,45,74,75,60,139,123,71,31,96,72,147,100,44,74,31,17,58,27,104,56,74,9,73,34,74,63,78,129,126,49,42,61,61,46,74,102,38,33,59,47,26,74,99,9,51,32,70,71,51,126,64,126,87,133,86,151,60,83,55,38,27,76,65,70,51,90,103,107,61,117,88,85,96,105,104,99,71,79,112,37,86,31,54,5,106,86,88,66,32,66,103,125,75,152,123,79,73,133,82,149,92,122,92,121,48,47,71,84,30,27,23,5,31,57,92,124,159,121,175,82,71,72,96,66,43,83,32,14,56,40,88,104,64,77,96,53,88,86,60,90,89,153,219,182,104,201,139,92,56,78,92,82,74,61,22,65,49,60,55,44,120,87,102,65,95,47,156,46,54,107,58,87,35,19,90,83,3,76,50,67,64,55,44,113,79,55,28,108,45,97,150,122,81,97,67,107,56,8,97,28,91,63,97,52,106,80,149,34,68,106,101,133,123,31,84,101,71,94,22,26,78,5,7,63,8,23,95,122,43,89,87,124,120,15,104,81,87,67,79,33,19,91,51,101,117,168,120,144,151,135,116,150,121,89,43,91,54,111,12,93,82,64,76,65,24,48,42,63,75,148,141,134,177,190,138,82,75,74,118,124,52,59,38,91,40,91,44,61,31,72,110,97,89,103,130,95,134,130,107,119,104,66,98,14,35,89,35,85,37,46,25,93,117,87,55,118,65,94,61,118,61,117,64,24,53,33,43,86,22,15,11,96,80,47,83,67,37,106,52,110,19,115,79,55,52,92,85,78,96,69,97,55,77,85,7,94,55,35,87,43,53,89,93,52,90,52,115,63,79,51,48,111,89,63,91,10,12,46,87,103,25,93,49,74,45,104,125,39,53,124,45,62,121,12,92,72,2,88,19,114,74,87,116,115,72,122,118,89,130,124,88,120,100,82,73,65,33,80,18,70,98,30,17,51,49,166,133,164,202,100,183,102,168,173,170,80,110,30,76,59,51,38,91,84,53,79,177,204,283,233,253,225,134,159,183,110,68,95,37,83,80,63,46,37,58,64,53,108,125,92,106,164,163,176,135,132,127,34,65,83,51,96,68,90,21,41,99,58,38,17,63,27,91,27,100,57,60,35,16,21,31,19,27,25,32,14,36,53,43,101,42,121,40,29,52,125,119,79,52,95,76,88,62,52,89,22,50,74,59,61,30,105,34,100,78,75,35,55,64,117,112,72,94,58,37,99,40,33,15,80,1,89,99,51,86,56,74,119,52,124,91,121,130,132,90,96,110,91,100,70,103,10,40,53,21,24,68,96,139,151,134,167,120,162,127,120,85,52,45,98,22,37,90,93,93,95,45,164,136,140,168,120,138,154,166,95,144,113,52,75,34,100,59,46,57,44,39,6,59,81,49,83,57,42,122,129,124,65,45,120,97,82,49,75,20,69,66,74,58,38,86,55,80,61,38,110,113,59,107,80,64,120,89,31,35,26,52,100,79,54,25,102,62,43,94,103,45,92,31,69,124,80,75,85,115,36,31,17,79,100,19,38,98,84,83,122,43,56,73,52,95,123,136,49,66,118,99,50,22,62,66,62,62,95,104,100,49,47,93,117,64,105,144,100,61,112,117,72,72,62,52,28,92,71,96,108,68,58,80,34,28,144,166,202,135,83,103,145,88,64,100,109,41,97,56,46,10,92,87,66,15,54,51,108,141,88,85,132,131,102,82,98,53,130,42,119,105,44,62,24,84,24,16,52,110,82,92,42,55,50,57,91,97,138,124,92,104,33,33,47,61,79,40,56,70,60,83,14,67,107,77,22,46,52,125,82,83,94,75,81,64,59,39,65,96,21,103,92,2,62,76,57,31,77,26,30,82,55,61,103,44,49,69,33,24,83,51,88,97,67,105,110,112,80,38,39,99,76,76,88,62,96,32,119,13,96,67,91,93,54,17,26,78,129,127,44,79,114,101,68,98,52,74,109,48,20,100,82,100,9,13,20,104,100,72,72,64,76,156,101,152,106,57,69,127,133,83,61,56,103,71,116,97,49,85,107,69,63,105,94,111,53,112,59,116,85,99,40,96,20,55,74,11,16,5,29,95,113,67,43,115,127,95,45,112,105,55,31,79,93,43,43,37,56,101,76,17,9,87,51,59,87,39,36,73,96,77,55,21,68,56,63,64,108,76,40,37,86,33,107,54,81,29,96,75,24,113,37,97,100,110,23,72,71,118,95,82,97,44,63,40,64,75,30,62,58,88,105,71,67,118,65,123,100,52,57,105,100,105,74,46,93,51,52,22,74,18,90,57,127,116,68,112,65,54,89,46,98,134,121,33,63,15,46,21,100,64,29,93,97,94,42,76,161,184,78,148,158,80,25,35,26,80,59,54,80,50,79,75,10,102,53,51,16,52,130,101,68,156,117,76,54,116,118,94,53,71,99,53,85,26,11,37,108,101,30,39,97,108,69,103,64,32,34,83,107,105,112,27,45,13,29,91,33,75,95,100,25,63,101,123,59,76,10,26,107,75,21,60,33,58,66,89,17,27,34,123,84,38,73,51,81,48,111,116,114,124,116,49,95,98,105,51,56,67,89,39,111,50,80,89,123,79,49,29,93,86,69,116,41,41,29,30,51,43,92,76,63,49,30,88,19,78,86,140,124,54,52,92,104,95,99,103,77,29,84,84,22,24,121,16,64,66,67,91,64,109,156,88,160,120,125,109,73,116,142,58,139,112,57,66,108,41,109,56,66,61,81,89,72,116,79,79,119,144,101,87,168,98,122,95,88,39,104,85],\"xaxis\":\"x2\",\"yaxis\":\"y2\",\"type\":\"box\"}],                        {\"template\":{\"data\":{\"bar\":[{\"error_x\":{\"color\":\"#2a3f5f\"},\"error_y\":{\"color\":\"#2a3f5f\"},\"marker\":{\"line\":{\"color\":\"#E5ECF6\",\"width\":0.5},\"pattern\":{\"fillmode\":\"overlay\",\"size\":10,\"solidity\":0.2}},\"type\":\"bar\"}],\"barpolar\":[{\"marker\":{\"line\":{\"color\":\"#E5ECF6\",\"width\":0.5},\"pattern\":{\"fillmode\":\"overlay\",\"size\":10,\"solidity\":0.2}},\"type\":\"barpolar\"}],\"carpet\":[{\"aaxis\":{\"endlinecolor\":\"#2a3f5f\",\"gridcolor\":\"white\",\"linecolor\":\"white\",\"minorgridcolor\":\"white\",\"startlinecolor\":\"#2a3f5f\"},\"baxis\":{\"endlinecolor\":\"#2a3f5f\",\"gridcolor\":\"white\",\"linecolor\":\"white\",\"minorgridcolor\":\"white\",\"startlinecolor\":\"#2a3f5f\"},\"type\":\"carpet\"}],\"choropleth\":[{\"colorbar\":{\"outlinewidth\":0,\"ticks\":\"\"},\"type\":\"choropleth\"}],\"contour\":[{\"colorbar\":{\"outlinewidth\":0,\"ticks\":\"\"},\"colorscale\":[[0.0,\"#0d0887\"],[0.1111111111111111,\"#46039f\"],[0.2222222222222222,\"#7201a8\"],[0.3333333333333333,\"#9c179e\"],[0.4444444444444444,\"#bd3786\"],[0.5555555555555556,\"#d8576b\"],[0.6666666666666666,\"#ed7953\"],[0.7777777777777778,\"#fb9f3a\"],[0.8888888888888888,\"#fdca26\"],[1.0,\"#f0f921\"]],\"type\":\"contour\"}],\"contourcarpet\":[{\"colorbar\":{\"outlinewidth\":0,\"ticks\":\"\"},\"type\":\"contourcarpet\"}],\"heatmap\":[{\"colorbar\":{\"outlinewidth\":0,\"ticks\":\"\"},\"colorscale\":[[0.0,\"#0d0887\"],[0.1111111111111111,\"#46039f\"],[0.2222222222222222,\"#7201a8\"],[0.3333333333333333,\"#9c179e\"],[0.4444444444444444,\"#bd3786\"],[0.5555555555555556,\"#d8576b\"],[0.6666666666666666,\"#ed7953\"],[0.7777777777777778,\"#fb9f3a\"],[0.8888888888888888,\"#fdca26\"],[1.0,\"#f0f921\"]],\"type\":\"heatmap\"}],\"heatmapgl\":[{\"colorbar\":{\"outlinewidth\":0,\"ticks\":\"\"},\"colorscale\":[[0.0,\"#0d0887\"],[0.1111111111111111,\"#46039f\"],[0.2222222222222222,\"#7201a8\"],[0.3333333333333333,\"#9c179e\"],[0.4444444444444444,\"#bd3786\"],[0.5555555555555556,\"#d8576b\"],[0.6666666666666666,\"#ed7953\"],[0.7777777777777778,\"#fb9f3a\"],[0.8888888888888888,\"#fdca26\"],[1.0,\"#f0f921\"]],\"type\":\"heatmapgl\"}],\"histogram\":[{\"marker\":{\"pattern\":{\"fillmode\":\"overlay\",\"size\":10,\"solidity\":0.2}},\"type\":\"histogram\"}],\"histogram2d\":[{\"colorbar\":{\"outlinewidth\":0,\"ticks\":\"\"},\"colorscale\":[[0.0,\"#0d0887\"],[0.1111111111111111,\"#46039f\"],[0.2222222222222222,\"#7201a8\"],[0.3333333333333333,\"#9c179e\"],[0.4444444444444444,\"#bd3786\"],[0.5555555555555556,\"#d8576b\"],[0.6666666666666666,\"#ed7953\"],[0.7777777777777778,\"#fb9f3a\"],[0.8888888888888888,\"#fdca26\"],[1.0,\"#f0f921\"]],\"type\":\"histogram2d\"}],\"histogram2dcontour\":[{\"colorbar\":{\"outlinewidth\":0,\"ticks\":\"\"},\"colorscale\":[[0.0,\"#0d0887\"],[0.1111111111111111,\"#46039f\"],[0.2222222222222222,\"#7201a8\"],[0.3333333333333333,\"#9c179e\"],[0.4444444444444444,\"#bd3786\"],[0.5555555555555556,\"#d8576b\"],[0.6666666666666666,\"#ed7953\"],[0.7777777777777778,\"#fb9f3a\"],[0.8888888888888888,\"#fdca26\"],[1.0,\"#f0f921\"]],\"type\":\"histogram2dcontour\"}],\"mesh3d\":[{\"colorbar\":{\"outlinewidth\":0,\"ticks\":\"\"},\"type\":\"mesh3d\"}],\"parcoords\":[{\"line\":{\"colorbar\":{\"outlinewidth\":0,\"ticks\":\"\"}},\"type\":\"parcoords\"}],\"pie\":[{\"automargin\":true,\"type\":\"pie\"}],\"scatter\":[{\"marker\":{\"colorbar\":{\"outlinewidth\":0,\"ticks\":\"\"}},\"type\":\"scatter\"}],\"scatter3d\":[{\"line\":{\"colorbar\":{\"outlinewidth\":0,\"ticks\":\"\"}},\"marker\":{\"colorbar\":{\"outlinewidth\":0,\"ticks\":\"\"}},\"type\":\"scatter3d\"}],\"scattercarpet\":[{\"marker\":{\"colorbar\":{\"outlinewidth\":0,\"ticks\":\"\"}},\"type\":\"scattercarpet\"}],\"scattergeo\":[{\"marker\":{\"colorbar\":{\"outlinewidth\":0,\"ticks\":\"\"}},\"type\":\"scattergeo\"}],\"scattergl\":[{\"marker\":{\"colorbar\":{\"outlinewidth\":0,\"ticks\":\"\"}},\"type\":\"scattergl\"}],\"scattermapbox\":[{\"marker\":{\"colorbar\":{\"outlinewidth\":0,\"ticks\":\"\"}},\"type\":\"scattermapbox\"}],\"scatterpolar\":[{\"marker\":{\"colorbar\":{\"outlinewidth\":0,\"ticks\":\"\"}},\"type\":\"scatterpolar\"}],\"scatterpolargl\":[{\"marker\":{\"colorbar\":{\"outlinewidth\":0,\"ticks\":\"\"}},\"type\":\"scatterpolargl\"}],\"scatterternary\":[{\"marker\":{\"colorbar\":{\"outlinewidth\":0,\"ticks\":\"\"}},\"type\":\"scatterternary\"}],\"surface\":[{\"colorbar\":{\"outlinewidth\":0,\"ticks\":\"\"},\"colorscale\":[[0.0,\"#0d0887\"],[0.1111111111111111,\"#46039f\"],[0.2222222222222222,\"#7201a8\"],[0.3333333333333333,\"#9c179e\"],[0.4444444444444444,\"#bd3786\"],[0.5555555555555556,\"#d8576b\"],[0.6666666666666666,\"#ed7953\"],[0.7777777777777778,\"#fb9f3a\"],[0.8888888888888888,\"#fdca26\"],[1.0,\"#f0f921\"]],\"type\":\"surface\"}],\"table\":[{\"cells\":{\"fill\":{\"color\":\"#EBF0F8\"},\"line\":{\"color\":\"white\"}},\"header\":{\"fill\":{\"color\":\"#C8D4E3\"},\"line\":{\"color\":\"white\"}},\"type\":\"table\"}]},\"layout\":{\"annotationdefaults\":{\"arrowcolor\":\"#2a3f5f\",\"arrowhead\":0,\"arrowwidth\":1},\"autotypenumbers\":\"strict\",\"coloraxis\":{\"colorbar\":{\"outlinewidth\":0,\"ticks\":\"\"}},\"colorscale\":{\"diverging\":[[0,\"#8e0152\"],[0.1,\"#c51b7d\"],[0.2,\"#de77ae\"],[0.3,\"#f1b6da\"],[0.4,\"#fde0ef\"],[0.5,\"#f7f7f7\"],[0.6,\"#e6f5d0\"],[0.7,\"#b8e186\"],[0.8,\"#7fbc41\"],[0.9,\"#4d9221\"],[1,\"#276419\"]],\"sequential\":[[0.0,\"#0d0887\"],[0.1111111111111111,\"#46039f\"],[0.2222222222222222,\"#7201a8\"],[0.3333333333333333,\"#9c179e\"],[0.4444444444444444,\"#bd3786\"],[0.5555555555555556,\"#d8576b\"],[0.6666666666666666,\"#ed7953\"],[0.7777777777777778,\"#fb9f3a\"],[0.8888888888888888,\"#fdca26\"],[1.0,\"#f0f921\"]],\"sequentialminus\":[[0.0,\"#0d0887\"],[0.1111111111111111,\"#46039f\"],[0.2222222222222222,\"#7201a8\"],[0.3333333333333333,\"#9c179e\"],[0.4444444444444444,\"#bd3786\"],[0.5555555555555556,\"#d8576b\"],[0.6666666666666666,\"#ed7953\"],[0.7777777777777778,\"#fb9f3a\"],[0.8888888888888888,\"#fdca26\"],[1.0,\"#f0f921\"]]},\"colorway\":[\"#636efa\",\"#EF553B\",\"#00cc96\",\"#ab63fa\",\"#FFA15A\",\"#19d3f3\",\"#FF6692\",\"#B6E880\",\"#FF97FF\",\"#FECB52\"],\"font\":{\"color\":\"#2a3f5f\"},\"geo\":{\"bgcolor\":\"white\",\"lakecolor\":\"white\",\"landcolor\":\"#E5ECF6\",\"showlakes\":true,\"showland\":true,\"subunitcolor\":\"white\"},\"hoverlabel\":{\"align\":\"left\"},\"hovermode\":\"closest\",\"mapbox\":{\"style\":\"light\"},\"paper_bgcolor\":\"white\",\"plot_bgcolor\":\"#E5ECF6\",\"polar\":{\"angularaxis\":{\"gridcolor\":\"white\",\"linecolor\":\"white\",\"ticks\":\"\"},\"bgcolor\":\"#E5ECF6\",\"radialaxis\":{\"gridcolor\":\"white\",\"linecolor\":\"white\",\"ticks\":\"\"}},\"scene\":{\"xaxis\":{\"backgroundcolor\":\"#E5ECF6\",\"gridcolor\":\"white\",\"gridwidth\":2,\"linecolor\":\"white\",\"showbackground\":true,\"ticks\":\"\",\"zerolinecolor\":\"white\"},\"yaxis\":{\"backgroundcolor\":\"#E5ECF6\",\"gridcolor\":\"white\",\"gridwidth\":2,\"linecolor\":\"white\",\"showbackground\":true,\"ticks\":\"\",\"zerolinecolor\":\"white\"},\"zaxis\":{\"backgroundcolor\":\"#E5ECF6\",\"gridcolor\":\"white\",\"gridwidth\":2,\"linecolor\":\"white\",\"showbackground\":true,\"ticks\":\"\",\"zerolinecolor\":\"white\"}},\"shapedefaults\":{\"line\":{\"color\":\"#2a3f5f\"}},\"ternary\":{\"aaxis\":{\"gridcolor\":\"white\",\"linecolor\":\"white\",\"ticks\":\"\"},\"baxis\":{\"gridcolor\":\"white\",\"linecolor\":\"white\",\"ticks\":\"\"},\"bgcolor\":\"#E5ECF6\",\"caxis\":{\"gridcolor\":\"white\",\"linecolor\":\"white\",\"ticks\":\"\"}},\"title\":{\"x\":0.05},\"xaxis\":{\"automargin\":true,\"gridcolor\":\"white\",\"linecolor\":\"white\",\"ticks\":\"\",\"title\":{\"standoff\":15},\"zerolinecolor\":\"white\",\"zerolinewidth\":2},\"yaxis\":{\"automargin\":true,\"gridcolor\":\"white\",\"linecolor\":\"white\",\"ticks\":\"\",\"title\":{\"standoff\":15},\"zerolinecolor\":\"white\",\"zerolinewidth\":2}}},\"xaxis\":{\"anchor\":\"y\",\"domain\":[0.0,1.0],\"title\":{\"text\":\"demand\"}},\"yaxis\":{\"anchor\":\"x\",\"domain\":[0.0,0.8316],\"title\":{\"text\":\"count\"}},\"xaxis2\":{\"anchor\":\"y2\",\"domain\":[0.0,1.0],\"matches\":\"x\",\"showticklabels\":false,\"showgrid\":true},\"yaxis2\":{\"anchor\":\"x2\",\"domain\":[0.8416,1.0],\"matches\":\"y2\",\"showticklabels\":false,\"showline\":false,\"ticks\":\"\",\"showgrid\":false},\"legend\":{\"tracegroupgap\":0},\"title\":{\"text\":\"Distribution of car rentals demand\"},\"barmode\":\"relative\",\"bargap\":0.1},                        {\"responsive\": true}                    ).then(function(){\n",
              "                            \n",
              "var gd = document.getElementById('c8e31389-7e65-425d-9f03-f9464d19d362');\n",
              "var x = new MutationObserver(function (mutations, observer) {{\n",
              "        var display = window.getComputedStyle(gd).display;\n",
              "        if (!display || display === 'none') {{\n",
              "            console.log([gd, 'removed!']);\n",
              "            Plotly.purge(gd);\n",
              "            observer.disconnect();\n",
              "        }}\n",
              "}});\n",
              "\n",
              "// Listen for the removal of the full notebook cells\n",
              "var notebookContainer = gd.closest('#notebook-container');\n",
              "if (notebookContainer) {{\n",
              "    x.observe(notebookContainer, {childList: true});\n",
              "}}\n",
              "\n",
              "// Listen for the clearing of the current output cell\n",
              "var outputEl = gd.closest('.output');\n",
              "if (outputEl) {{\n",
              "    x.observe(outputEl, {childList: true});\n",
              "}}\n",
              "\n",
              "                        })                };                            </script>        </div>\n",
              "</body>\n",
              "</html>"
            ]
          },
          "metadata": {}
        }
      ],
      "source": [
        "fig = px.histogram(train_df, \n",
        "                   x='demand', \n",
        "                   marginal='box', \n",
        "                   nbins=80, \n",
        "                   title='Distribution of car rentals demand')\n",
        "fig.update_layout(bargap=0.1)\n",
        "fig.show()"
      ],
      "id": "bccdfa67"
    },
    {
      "cell_type": "markdown",
      "metadata": {
        "id": "t_rRvZeXFPPW"
      },
      "source": [
        "In this histogram showing demand most of the data are falling on the left side of the histogram and hence it is skewed to right."
      ],
      "id": "t_rRvZeXFPPW"
    },
    {
      "cell_type": "code",
      "execution_count": 22,
      "metadata": {
        "colab": {
          "base_uri": "https://localhost:8080/",
          "height": 433
        },
        "id": "f0b7ff65",
        "outputId": "17939cfc-b9d5-4813-d9d8-0913b3ba4037"
      },
      "outputs": [
        {
          "output_type": "execute_result",
          "data": {
            "text/plain": [
              "[Text(0.5, 1.0, 'Avg. Car demand per hour in a day')]"
            ]
          },
          "metadata": {},
          "execution_count": 22
        },
        {
          "output_type": "display_data",
          "data": {
            "text/plain": [
              "<Figure size 1080x432 with 1 Axes>"
            ],
            "image/png": "[encoded data removed]"
          },
          "metadata": {}
        }
      ],
      "source": [
        "sns.barplot(x= 'hour',y='demand', data = train_df, color = 'green',alpha = 0.7).set(title='Avg. Car demand per hour in a day')"
      ],
      "id": "f0b7ff65"
    },
    {
      "cell_type": "markdown",
      "metadata": {
        "id": "3LgljmiWFen-"
      },
      "source": [
        "The average demand of cars high in between 12 pm to 5 pm and showing very less compared to other time in early morning  in between 5-6"
      ],
      "id": "3LgljmiWFen-"
    },
    {
      "cell_type": "code",
      "execution_count": 23,
      "metadata": {
        "colab": {
          "base_uri": "https://localhost:8080/",
          "height": 433
        },
        "id": "af744510",
        "outputId": "fd00dc8e-43a9-4e90-d986-1e201c0f11fe"
      },
      "outputs": [
        {
          "output_type": "execute_result",
          "data": {
            "text/plain": [
              "[Text(0.5, 1.0, 'Avg. Car demand per hour in Month')]"
            ]
          },
          "metadata": {},
          "execution_count": 23
        },
        {
          "output_type": "display_data",
          "data": {
            "text/plain": [
              "<Figure size 1080x432 with 1 Axes>"
            ],
            "image/png": "[encoded data removed]"
          },
          "metadata": {}
        }
      ],
      "source": [
        "sns.barplot(x= 'month',y='demand', data = train_df, color = 'red',alpha = 0.7).set(title='Avg. Car demand per hour in Month')"
      ],
      "id": "af744510"
    },
    {
      "cell_type": "markdown",
      "metadata": {
        "id": "syOOd5QTG6ud"
      },
      "source": [
        "The avg. car demand is higher in November and June."
      ],
      "id": "syOOd5QTG6ud"
    },
    {
      "cell_type": "code",
      "execution_count": 53,
      "metadata": {
        "colab": {
          "base_uri": "https://localhost:8080/",
          "height": 433
        },
        "id": "82b2ae8c",
        "outputId": "b68d435b-3a2f-4fd0-82ae-74a80f12f77a"
      },
      "outputs": [
        {
          "output_type": "execute_result",
          "data": {
            "text/plain": [
              "[Text(0.5, 1.0, 'Avg. hourly Car demand per days')]"
            ]
          },
          "metadata": {},
          "execution_count": 53
        },
        {
          "output_type": "display_data",
          "data": {
            "text/plain": [
              "<Figure size 1080x432 with 1 Axes>"
            ],
            "image/png": "[encoded data removed]"
          },
          "metadata": {}
        }
      ],
      "source": [
        "sns.barplot(x= 'day',y='demand', data = train_df, color = 'blue',alpha = 0.7).set(title='Avg. hourly Car demand per days')"
      ],
      "id": "82b2ae8c"
    },
    {
      "cell_type": "code",
      "execution_count": 54,
      "metadata": {
        "colab": {
          "base_uri": "https://localhost:8080/",
          "height": 433
        },
        "id": "02f17521",
        "outputId": "3cf5bd3a-923a-4995-9a6d-16349d0c25ae"
      },
      "outputs": [
        {
          "output_type": "execute_result",
          "data": {
            "text/plain": [
              "[Text(0.5, 1.0, 'Avg. hourly Car demand per quarter in years')]"
            ]
          },
          "metadata": {},
          "execution_count": 54
        },
        {
          "output_type": "display_data",
          "data": {
            "text/plain": [
              "<Figure size 1080x432 with 1 Axes>"
            ],
            "image/png": "[encoded data removed]"
          },
          "metadata": {}
        }
      ],
      "source": [
        "sns.barplot(x= 'quarter',y='demand', data = train_df,alpha = 0.7).set(title='Avg. hourly Car demand per quarter in years')"
      ],
      "id": "02f17521"
    },
    {
      "cell_type": "markdown",
      "metadata": {
        "id": "LdrMY8dGJNbl"
      },
      "source": [
        "The forth quarter have avg. higher demnad in cars and lesser in 3 rd quarter"
      ],
      "id": "LdrMY8dGJNbl"
    },
    {
      "cell_type": "code",
      "execution_count": 55,
      "metadata": {
        "colab": {
          "base_uri": "https://localhost:8080/",
          "height": 433
        },
        "id": "ae34c77e",
        "outputId": "a9b3b149-cc22-42a4-d14c-6e9f2d4050be"
      },
      "outputs": [
        {
          "output_type": "execute_result",
          "data": {
            "text/plain": [
              "[Text(0.5, 1.0, 'Avg. hourly Car demand per years')]"
            ]
          },
          "metadata": {},
          "execution_count": 55
        },
        {
          "output_type": "display_data",
          "data": {
            "text/plain": [
              "<Figure size 1080x432 with 1 Axes>"
            ],
            "image/png": "[encoded data removed]"
          },
          "metadata": {}
        }
      ],
      "source": [
        "sns.barplot(x= 'year',y='demand', data = train_df,alpha = 0.7).set(title='Avg. hourly Car demand per years')"
      ],
      "id": "ae34c77e"
    },
    {
      "cell_type": "markdown",
      "metadata": {
        "id": "WwaKiLlOKN7r"
      },
      "source": [
        "The avg car demnad is increasing each year compared to the previous year."
      ],
      "id": "WwaKiLlOKN7r"
    },
    {
      "cell_type": "markdown",
      "metadata": {
        "id": "4942bc6b"
      },
      "source": [
        "### Feature selection"
      ],
      "id": "4942bc6b"
    },
    {
      "cell_type": "code",
      "execution_count": 27,
      "metadata": {
        "colab": {
          "base_uri": "https://localhost:8080/",
          "height": 756
        },
        "id": "5e21929c",
        "outputId": "3c2b6498-0920-4843-ac7c-1904b4f289f4"
      },
      "outputs": [
        {
          "output_type": "stream",
          "name": "stderr",
          "text": [
            "/usr/local/lib/python3.7/dist-packages/ipykernel_launcher.py:2: DeprecationWarning:\n",
            "\n",
            "`np.bool` is a deprecated alias for the builtin `bool`. To silence this warning, use `bool` by itself. Doing this will not modify any behavior and is safe. If you specifically wanted the numpy scalar type, use `np.bool_` here.\n",
            "Deprecated in NumPy 1.20; for more details and guidance: https://numpy.org/devdocs/release/1.20.0-notes.html#deprecations\n",
            "\n"
          ]
        },
        {
          "output_type": "execute_result",
          "data": {
            "text/plain": [
              "<matplotlib.axes._subplots.AxesSubplot at 0x7fdbee955090>"
            ]
          },
          "metadata": {},
          "execution_count": 27
        },
        {
          "output_type": "display_data",
          "data": {
            "text/plain": [
              "<Figure size 720x720 with 2 Axes>"
            ],
            "image/png": "[encoded data removed]"
          },
          "metadata": {}
        }
      ],
      "source": [
        "### correlation between independent varibles\n",
        "mask = np.zeros_like(train_df.corr(), dtype=np.bool)\n",
        "mask[np.triu_indices_from(mask)] = True\n",
        "plt.figure(figsize=(10,10))\n",
        "Corr = train_df\n",
        "colormap = plt.cm.magma\n",
        "plt.title('HeatMap to show Correlation between Base Stats', y=1.05, size=15)\n",
        "sns.heatmap(Corr.corr(),linewidths=0.1,vmax=1, square=True, cmap=colormap, linecolor='white', annot=True,mask=mask)"
      ],
      "id": "5e21929c"
    },
    {
      "cell_type": "code",
      "execution_count": 28,
      "metadata": {
        "id": "3c182356"
      },
      "outputs": [],
      "source": [
        "#### identifing the features which are higly correlated (< 0.9) and eliminating one of two features that have a correlation higher than 0.9\n",
        "\n",
        "correlated_features = set()\n",
        "correlation_matrix = train_df.corr()\n",
        "\n",
        "\n",
        "for i in range(len(correlation_matrix .columns)):\n",
        "    for j in range(i):\n",
        "        if abs(correlation_matrix.iloc[i, j]) > 0.9:\n",
        "            colname = correlation_matrix.columns[i]\n",
        "            correlated_features.add(colname)"
      ],
      "id": "3c182356"
    },
    {
      "cell_type": "code",
      "execution_count": 29,
      "metadata": {
        "colab": {
          "base_uri": "https://localhost:8080/"
        },
        "id": "0ee9cd87",
        "outputId": "8e33e2d4-2fea-47ad-c1b0-7ce268b09fa3"
      },
      "outputs": [
        {
          "output_type": "execute_result",
          "data": {
            "text/plain": [
              "{'dayofyear', 'quarter', 'weekofyear'}"
            ]
          },
          "metadata": {},
          "execution_count": 29
        }
      ],
      "source": [
        "correlated_features"
      ],
      "id": "0ee9cd87"
    },
    {
      "cell_type": "code",
      "execution_count": 30,
      "metadata": {
        "id": "ad83c064"
      },
      "outputs": [],
      "source": [
        "### droping the features have correlation higher than 0.9 \n",
        "selected_cols = train_df.columns.drop(list(correlated_features))"
      ],
      "id": "ad83c064"
    },
    {
      "cell_type": "code",
      "execution_count": 31,
      "metadata": {
        "colab": {
          "base_uri": "https://localhost:8080/"
        },
        "id": "c805edc1",
        "outputId": "3e53f155-cf4e-489d-a101-b088890761ee"
      },
      "outputs": [
        {
          "output_type": "execute_result",
          "data": {
            "text/plain": [
              "Index(['date', 'hour', 'demand', 'year', 'month', 'day', 'day_no_week'], dtype='object')"
            ]
          },
          "metadata": {},
          "execution_count": 31
        }
      ],
      "source": [
        "selected_cols"
      ],
      "id": "c805edc1"
    },
    {
      "cell_type": "code",
      "execution_count": 32,
      "metadata": {
        "id": "3f8225b3"
      },
      "outputs": [],
      "source": [
        "X_train =  train_df[selected_cols].drop(['demand','date'],axis=1)\n",
        "y_train = train_df['demand']\n",
        "X_test = test_df[['hour', 'year', 'month', 'day', 'day_no_week']]"
      ],
      "id": "3f8225b3"
    },
    {
      "cell_type": "code",
      "execution_count": 33,
      "metadata": {
        "colab": {
          "base_uri": "https://localhost:8080/"
        },
        "id": "0d9687be",
        "outputId": "2dd10c93-8976-4f05-d6b5-6a86fc0ba550"
      },
      "outputs": [
        {
          "output_type": "stream",
          "name": "stdout",
          "text": [
            "(18247, 5) Index(['hour', 'year', 'month', 'day', 'day_no_week'], dtype='object')\n",
            "(18247,)\n",
            "(7650, 5) Index(['hour', 'year', 'month', 'day', 'day_no_week'], dtype='object')\n"
          ]
        }
      ],
      "source": [
        "print(X_train.shape,X_train.columns)\n",
        "print(y_train.shape)\n",
        "print(X_test.shape,X_test.columns)"
      ],
      "id": "0d9687be"
    },
    {
      "cell_type": "markdown",
      "metadata": {
        "id": "833535e8"
      },
      "source": [
        "# Model Selection"
      ],
      "id": "833535e8"
    },
    {
      "cell_type": "markdown",
      "metadata": {
        "id": "52bc6bfd"
      },
      "source": [
        "## Generic function for model selection"
      ],
      "id": "52bc6bfd"
    },
    {
      "cell_type": "code",
      "execution_count": 34,
      "metadata": {
        "id": "4ea38219"
      },
      "outputs": [],
      "source": [
        "### Generic function for fitting different models\n",
        "from sklearn.metrics import  mean_squared_error,mean_absolute_error, r2_score\n",
        "def fit_model(model, X, y, cv, X_test):\n",
        "    cv_score = cross_val_score(model, X, y, cv=cv, scoring=\"neg_root_mean_squared_error\")\n",
        "    \n",
        "    print(\"\\nModel Report\")\n",
        "    print(\"RMSE score is : Mean - %.4g \" % (-1 * np.mean(cv_score)))\n",
        "    \n",
        "    ### model fitting\n",
        "    model.fit(X, y)\n",
        "    prediction_train = model.predict(X)\n",
        "    \n",
        "    ### predicting the test data\n",
        "    prediction_test =  model.predict(X_test)\n",
        "    \n",
        "    return prediction_test"
      ],
      "id": "4ea38219"
    },
    {
      "cell_type": "markdown",
      "metadata": {
        "id": "277aea1a"
      },
      "source": [
        "### Model1 : LinearRegression"
      ],
      "id": "277aea1a"
    },
    {
      "cell_type": "code",
      "execution_count": 35,
      "metadata": {
        "id": "d95002f8"
      },
      "outputs": [],
      "source": [
        "from sklearn.linear_model import LinearRegression\n",
        "lr = LinearRegression()"
      ],
      "id": "d95002f8"
    },
    {
      "cell_type": "code",
      "execution_count": 36,
      "metadata": {
        "colab": {
          "base_uri": "https://localhost:8080/"
        },
        "id": "802d5568",
        "outputId": "0c6be1a9-fcb6-409b-c825-69da797e6559"
      },
      "outputs": [
        {
          "output_type": "stream",
          "name": "stdout",
          "text": [
            "\n",
            "Model Report\n",
            "RMSE score is : Mean - 40.42 \n"
          ]
        },
        {
          "output_type": "execute_result",
          "data": {
            "text/plain": [
              "array([57.47735146, 58.55319491, 59.62903835, ..., 80.38257634,\n",
              "       81.45841978, 82.53426322])"
            ]
          },
          "metadata": {},
          "execution_count": 36
        }
      ],
      "source": [
        "fit_model(lr, X_train, y_train, 5,X_test)"
      ],
      "id": "802d5568"
    },
    {
      "cell_type": "markdown",
      "metadata": {
        "id": "695d45b6"
      },
      "source": [
        "### Model2 :  DecisionTreeRegressor"
      ],
      "id": "695d45b6"
    },
    {
      "cell_type": "code",
      "execution_count": 37,
      "metadata": {
        "id": "c1ed0976"
      },
      "outputs": [],
      "source": [
        "from sklearn.tree import DecisionTreeRegressor \n",
        "# create a regressor object\n",
        "regressor_DT = DecisionTreeRegressor(max_depth=3,min_samples_leaf=1,min_samples_split = 2) "
      ],
      "id": "c1ed0976"
    },
    {
      "cell_type": "code",
      "execution_count": 38,
      "metadata": {
        "colab": {
          "base_uri": "https://localhost:8080/"
        },
        "id": "7626c1a9",
        "outputId": "3856985b-1052-493e-87a8-7304a7f91389"
      },
      "outputs": [
        {
          "output_type": "stream",
          "name": "stdout",
          "text": [
            "\n",
            "Model Report\n",
            "RMSE score is : Mean - 38.45 \n"
          ]
        },
        {
          "output_type": "execute_result",
          "data": {
            "text/plain": [
              "array([53.96795422, 53.96795422, 53.96795422, ..., 63.01754386,\n",
              "       63.01754386, 63.01754386])"
            ]
          },
          "metadata": {},
          "execution_count": 38
        }
      ],
      "source": [
        "fit_model(regressor_DT, X_train, y_train, 5, X_test)"
      ],
      "id": "7626c1a9"
    },
    {
      "cell_type": "markdown",
      "metadata": {
        "id": "193aa561"
      },
      "source": [
        "### model3: RandomForestRegressor"
      ],
      "id": "193aa561"
    },
    {
      "cell_type": "code",
      "execution_count": 39,
      "metadata": {
        "id": "21f897f8"
      },
      "outputs": [],
      "source": [
        "from sklearn.ensemble import RandomForestRegressor\n",
        "model_3 = RandomForestRegressor(max_depth=10,max_features = 'sqrt',min_samples_leaf=8,min_samples_split=5,n_estimators=100)"
      ],
      "id": "21f897f8"
    },
    {
      "cell_type": "code",
      "execution_count": 40,
      "metadata": {
        "colab": {
          "base_uri": "https://localhost:8080/"
        },
        "id": "3f2cd97d",
        "outputId": "08aab38f-5caf-4fff-beb4-6bd55d5b62d4"
      },
      "outputs": [
        {
          "output_type": "stream",
          "name": "stdout",
          "text": [
            "\n",
            "Model Report\n",
            "RMSE score is : Mean - 36.25 \n"
          ]
        },
        {
          "output_type": "execute_result",
          "data": {
            "text/plain": [
              "array([53.76108845, 52.30801036, 53.00022667, ..., 65.62281978,\n",
              "       63.25332344, 61.99447269])"
            ]
          },
          "metadata": {},
          "execution_count": 40
        }
      ],
      "source": [
        "fit_model(model_3, X_train, y_train, 5, X_test)"
      ],
      "id": "3f2cd97d"
    },
    {
      "cell_type": "markdown",
      "metadata": {
        "id": "67987495"
      },
      "source": [
        "### Model4:xgboost"
      ],
      "id": "67987495"
    },
    {
      "cell_type": "code",
      "execution_count": 41,
      "metadata": {
        "id": "381f8a74"
      },
      "outputs": [],
      "source": [
        "xgbr = XGBRegressor(learning_rate=0.05, objective='reg:squarederror', n_estimators=60, max_depth=6)"
      ],
      "id": "381f8a74"
    },
    {
      "cell_type": "code",
      "execution_count": 42,
      "metadata": {
        "colab": {
          "base_uri": "https://localhost:8080/"
        },
        "id": "ef5e4b4f",
        "outputId": "448b4d31-b7e9-4b8e-cb49-3c26d3926ecd"
      },
      "outputs": [
        {
          "output_type": "stream",
          "name": "stdout",
          "text": [
            "\n",
            "Model Report\n",
            "RMSE score is : Mean - 36.24 \n"
          ]
        },
        {
          "output_type": "execute_result",
          "data": {
            "text/plain": [
              "array([59.448772, 47.665806, 49.38638 , ..., 59.572647, 54.416035,\n",
              "       54.616215], dtype=float32)"
            ]
          },
          "metadata": {},
          "execution_count": 42
        }
      ],
      "source": [
        "fit_model(xgbr, X_train, y_train, 5, X_test)"
      ],
      "id": "ef5e4b4f"
    },
    {
      "cell_type": "markdown",
      "metadata": {
        "id": "0P2u_DCr0b8A"
      },
      "source": [
        "The RMSE value obtaiend through cross_val_score helper function on the the dataset are not seems much good as the values of RMSE score seems much high. In order improve the model's accuracy and reduce the RMSE value again I am going to update the  general function including gridsearch cv for parameter tuning and again fit the same models"
      ],
      "id": "0P2u_DCr0b8A"
    },
    {
      "cell_type": "markdown",
      "metadata": {
        "id": "E0hIIw8yk-Op"
      },
      "source": [
        "## A general function for hyper parameter tuning and finding the best model"
      ],
      "id": "E0hIIw8yk-Op"
    },
    {
      "cell_type": "code",
      "execution_count": 43,
      "metadata": {
        "id": "ja79NuzrrclV"
      },
      "outputs": [],
      "source": [
        "def fit_model_para(model, X, y, X_test, param_grid):\n",
        "  cv_method = RepeatedKFold(n_splits=5, \n",
        "                                    n_repeats=3, \n",
        "                                    random_state=10)\n",
        "  \n",
        "  gs = GridSearchCV(estimator=model, \n",
        "                        param_grid=param_grid, \n",
        "                        cv=cv_method,\n",
        "                        verbose=1,  # verbose: the higher, the more messages\n",
        "                        scoring='neg_root_mean_squared_error', return_train_score=True, n_jobs=-1)\n",
        "    \n",
        "  \n",
        "  gs.fit(X_train, y_train)\n",
        "\n",
        "  print(\"\\nModel Reports\")\n",
        "  print(\"The best Param for the model is: \", gs.best_params_)\n",
        "  print(\"RMSE value for this model is : \", -1 * gs.best_score_)\n",
        "\n",
        "  prediction_train = gs.predict(X)\n",
        "    \n",
        "  ### predicting the test data\n",
        "  prediction_test =  gs.predict(X_test)\n",
        "\n",
        "  return prediction_test"
      ],
      "id": "ja79NuzrrclV"
    },
    {
      "cell_type": "markdown",
      "metadata": {
        "id": "MGgCM0Uuxig4"
      },
      "source": [
        "## Random Forest Regressor"
      ],
      "id": "MGgCM0Uuxig4"
    },
    {
      "cell_type": "code",
      "execution_count": null,
      "metadata": {
        "colab": {
          "base_uri": "https://localhost:8080/",
          "height": 363
        },
        "id": "d43c7953",
        "outputId": "c89ebb08-f628-4f14-c4a2-efb0ed0ce1c2"
      },
      "outputs": [
        {
          "name": "stdout",
          "output_type": "stream",
          "text": [
            "Fitting 15 folds for each of 108 candidates, totalling 1620 fits\n",
            "\n",
            "Model Reports\n",
            "The best Param for the model is:  {'bootstrap': True, 'max_depth': 20, 'max_features': 2, 'min_samples_leaf': 3, 'min_samples_split': 5, 'n_estimators': 200}\n",
            "RMSE value for this model is :  32.34137756425717\n"
          ]
        },
        {
          "data": {
            "text/plain": [
              "array([61.53978119, 52.45537884, 52.6224724 , ..., 65.33345437,\n",
              "       62.10110993, 62.64244415])"
            ]
          },
          "execution_count": 51,
          "metadata": {},
          "output_type": "execute_result"
        }
      ],
      "source": [
        "param_grid = {\n",
        "    'bootstrap': [True],\n",
        "    'max_depth': [10, 20, 40],\n",
        "    'max_features': [2, 3],\n",
        "    'min_samples_leaf': [3, 4, 5],\n",
        "    'min_samples_split': [5,8, 10,],\n",
        "    'n_estimators': [100, 200]\n",
        "}\n",
        "\n",
        "RF = RandomForestRegressor()\n",
        "\n",
        "fit_model_para(RF, X_train, y_train,X_test,param_grid)"
      ],
      "id": "d43c7953"
    },
    {
      "cell_type": "markdown",
      "metadata": {
        "id": "oD6FrpoMxppq"
      },
      "source": [
        "### Decision Tree Regressor"
      ],
      "id": "oD6FrpoMxppq"
    },
    {
      "cell_type": "code",
      "execution_count": 44,
      "metadata": {
        "colab": {
          "base_uri": "https://localhost:8080/"
        },
        "id": "EKpNW4QjgYQU",
        "outputId": "73953273-f6b9-45a5-e78e-04aae57336ca"
      },
      "outputs": [
        {
          "output_type": "stream",
          "name": "stdout",
          "text": [
            "Fitting 15 folds for each of 96 candidates, totalling 1440 fits\n",
            "\n",
            "Model Reports\n",
            "The best Param for the model is:  {'max_depth': 9, 'min_samples_leaf': 5, 'min_samples_split': 2}\n",
            "RMSE value for this model is :  35.1878589727133\n"
          ]
        },
        {
          "output_type": "execute_result",
          "data": {
            "text/plain": [
              "array([65.55555556, 50.18796992, 50.18796992, ..., 58.9047619 ,\n",
              "       51.25675676, 51.25675676])"
            ]
          },
          "metadata": {},
          "execution_count": 44
        }
      ],
      "source": [
        "from sklearn.tree import DecisionTreeRegressor\n",
        "from sklearn.model_selection import GridSearchCV\n",
        "\n",
        "param_grid = {\n",
        "    \"max_depth\": [3,5,7,8,9,15,20,None],\n",
        "    \"min_samples_split\": [2,5,7,10],\n",
        "    \"min_samples_leaf\": [1,2,5]\n",
        "}\n",
        "\n",
        "DT = DecisionTreeRegressor(random_state=0)\n",
        "\n",
        "fit_model_para(DT, X_train, y_train, X_test, param_grid)"
      ],
      "id": "EKpNW4QjgYQU"
    },
    {
      "cell_type": "markdown",
      "metadata": {
        "id": "5kq0kmDoxuKx"
      },
      "source": [
        "### XG Boost Regressor"
      ],
      "id": "5kq0kmDoxuKx"
    },
    {
      "cell_type": "code",
      "execution_count": 45,
      "metadata": {
        "id": "6dBp2ar7tYoo"
      },
      "outputs": [],
      "source": [
        "# A parameter grid for XGBoost\n",
        "xgb  = XGBRegressor()\n",
        "parameters = {'nthread':[4], #when use hyperthread, xgboost may become slower\n",
        "              'objective':['reg:linear'],\n",
        "              'learning_rate': [.03, 0.05, .07], #so called `eta` value\n",
        "              'max_depth': [2,5,7],\n",
        "              'min_child_weight': [4],\n",
        "              'silent': [1],\n",
        "              'subsample': [0.7],\n",
        "              'colsample_bytree': [0.7],\n",
        "              'n_estimators': [200]}\n",
        "    "
      ],
      "id": "6dBp2ar7tYoo"
    },
    {
      "cell_type": "code",
      "execution_count": 46,
      "metadata": {
        "colab": {
          "base_uri": "https://localhost:8080/"
        },
        "id": "zz_5J-FCti-N",
        "outputId": "e5547944-85f3-407e-a8b7-6a2da821fb6a"
      },
      "outputs": [
        {
          "output_type": "stream",
          "name": "stdout",
          "text": [
            "Fitting 15 folds for each of 9 candidates, totalling 135 fits\n",
            "\n",
            "Model Reports\n",
            "The best Param for the model is:  {'colsample_bytree': 0.7, 'learning_rate': 0.05, 'max_depth': 7, 'min_child_weight': 4, 'n_estimators': 200, 'nthread': 4, 'objective': 'reg:linear', 'silent': 1, 'subsample': 0.7}\n",
            "RMSE value for this model is :  32.98926159172715\n"
          ]
        },
        {
          "output_type": "execute_result",
          "data": {
            "text/plain": [
              "array([75.12786 , 58.146763, 57.303154, ..., 65.567276, 62.656425,\n",
              "       62.041252], dtype=float32)"
            ]
          },
          "metadata": {},
          "execution_count": 46
        }
      ],
      "source": [
        "fit_model_para(xgb, X_train, y_train, X_test, parameters)"
      ],
      "id": "zz_5J-FCti-N"
    },
    {
      "cell_type": "markdown",
      "metadata": {
        "id": "5Dx5RwkBLiIU"
      },
      "source": [
        "### LGBM Regressor"
      ],
      "id": "5Dx5RwkBLiIU"
    },
    {
      "cell_type": "code",
      "execution_count": 47,
      "metadata": {
        "id": "a9bd4f47"
      },
      "outputs": [],
      "source": [
        "param_grid={\"estimator__boosting_type\":['rf'],\"estimator__learning_rate\": [0.07,0.05, 0.01],\n",
        "                 \"estimator__n_estimators\": [10,25], \"estimator__max_bin\": [10,25],\n",
        "                 \"estimator__max_depth\": [1,2], \"estimator__num_leaves\": [5,7,10,25]}\n",
        "\n",
        "lgm = LGBMRegressor()"
      ],
      "id": "a9bd4f47"
    },
    {
      "cell_type": "code",
      "execution_count": 48,
      "metadata": {
        "colab": {
          "base_uri": "https://localhost:8080/"
        },
        "id": "3fe9b906",
        "outputId": "907f4ad1-1ddd-4549-97b4-6ac6c158e43a"
      },
      "outputs": [
        {
          "output_type": "stream",
          "name": "stdout",
          "text": [
            "Fitting 15 folds for each of 96 candidates, totalling 1440 fits\n",
            "\n",
            "Model Reports\n",
            "The best Param for the model is:  {'estimator__boosting_type': 'rf', 'estimator__learning_rate': 0.07, 'estimator__max_bin': 10, 'estimator__max_depth': 1, 'estimator__n_estimators': 10, 'estimator__num_leaves': 5}\n",
            "RMSE value for this model is :  32.09503388599971\n"
          ]
        },
        {
          "output_type": "execute_result",
          "data": {
            "text/plain": [
              "array([60.30217424, 51.69372621, 52.20974036, ..., 67.25915276,\n",
              "       68.54008229, 62.36602829])"
            ]
          },
          "metadata": {},
          "execution_count": 48
        }
      ],
      "source": [
        "fit_model_para(lgm, X_train, y_train, X_test,param_grid)"
      ],
      "id": "3fe9b906"
    },
    {
      "cell_type": "markdown",
      "source": [
        "The hyper parametr tuning gives better results in all the models"
      ],
      "metadata": {
        "id": "LGW-hhO0N4JK"
      },
      "id": "LGW-hhO0N4JK"
    },
    {
      "cell_type": "code",
      "execution_count": 49,
      "metadata": {
        "colab": {
          "base_uri": "https://localhost:8080/"
        },
        "id": "fc130e7b",
        "outputId": "ed40094f-5941-47f1-8e22-572b84cda61e"
      },
      "outputs": [
        {
          "output_type": "stream",
          "name": "stdout",
          "text": [
            "Fitting 15 folds for each of 96 candidates, totalling 1440 fits\n",
            "\n",
            "Model Reports\n",
            "The best Param for the model is:  {'estimator__boosting_type': 'rf', 'estimator__learning_rate': 0.07, 'estimator__max_bin': 10, 'estimator__max_depth': 1, 'estimator__n_estimators': 10, 'estimator__num_leaves': 5}\n",
            "RMSE value for this model is :  32.09503388599971\n"
          ]
        }
      ],
      "source": [
        "### the best model is showing in LGM which have RMSE value of 32.09 which is least compared to other models\n",
        "final_model = fit_model_para(lgm, X_train, y_train, X_test,param_grid)"
      ],
      "id": "fc130e7b"
    },
    {
      "cell_type": "code",
      "execution_count": 50,
      "metadata": {
        "id": "00a01503",
        "colab": {
          "base_uri": "https://localhost:8080/",
          "height": 455
        },
        "outputId": "605a0226-8936-4a84-a97b-de9e0ade40bd"
      },
      "outputs": [
        {
          "output_type": "execute_result",
          "data": {
            "text/plain": [
              "            hour     demand\n",
              "date                       \n",
              "2021-03-01     0  60.302174\n",
              "2021-03-01     1  51.693726\n",
              "2021-03-01     2  52.209740\n",
              "2021-03-01     3  52.209740\n",
              "2021-03-01     5  53.843516\n",
              "...          ...        ...\n",
              "2022-03-28    19  85.472465\n",
              "2022-03-28    20  71.476563\n",
              "2022-03-28    21  67.259153\n",
              "2022-03-28    22  68.540082\n",
              "2022-03-28    23  62.366028\n",
              "\n",
              "[7650 rows x 2 columns]"
            ],
            "text/html": [
              "\n",
              "  <div id=\"df-603f9e1f-a185-46a0-841e-cf260a15d41a\">\n",
              "    <div class=\"colab-df-container\">\n",
              "      <div>\n",
              "<style scoped>\n",
              "    .dataframe tbody tr th:only-of-type {\n",
              "        vertical-align: middle;\n",
              "    }\n",
              "\n",
              "    .dataframe tbody tr th {\n",
              "        vertical-align: top;\n",
              "    }\n",
              "\n",
              "    .dataframe thead th {\n",
              "        text-align: right;\n",
              "    }\n",
              "</style>\n",
              "<table border=\"1\" class=\"dataframe\">\n",
              "  <thead>\n",
              "    <tr style=\"text-align: right;\">\n",
              "      <th></th>\n",
              "      <th>hour</th>\n",
              "      <th>demand</th>\n",
              "    </tr>\n",
              "    <tr>\n",
              "      <th>date</th>\n",
              "      <th></th>\n",
              "      <th></th>\n",
              "    </tr>\n",
              "  </thead>\n",
              "  <tbody>\n",
              "    <tr>\n",
              "      <th>2021-03-01</th>\n",
              "      <td>0</td>\n",
              "      <td>60.302174</td>\n",
              "    </tr>\n",
              "    <tr>\n",
              "      <th>2021-03-01</th>\n",
              "      <td>1</td>\n",
              "      <td>51.693726</td>\n",
              "    </tr>\n",
              "    <tr>\n",
              "      <th>2021-03-01</th>\n",
              "      <td>2</td>\n",
              "      <td>52.209740</td>\n",
              "    </tr>\n",
              "    <tr>\n",
              "      <th>2021-03-01</th>\n",
              "      <td>3</td>\n",
              "      <td>52.209740</td>\n",
              "    </tr>\n",
              "    <tr>\n",
              "      <th>2021-03-01</th>\n",
              "      <td>5</td>\n",
              "      <td>53.843516</td>\n",
              "    </tr>\n",
              "    <tr>\n",
              "      <th>...</th>\n",
              "      <td>...</td>\n",
              "      <td>...</td>\n",
              "    </tr>\n",
              "    <tr>\n",
              "      <th>2022-03-28</th>\n",
              "      <td>19</td>\n",
              "      <td>85.472465</td>\n",
              "    </tr>\n",
              "    <tr>\n",
              "      <th>2022-03-28</th>\n",
              "      <td>20</td>\n",
              "      <td>71.476563</td>\n",
              "    </tr>\n",
              "    <tr>\n",
              "      <th>2022-03-28</th>\n",
              "      <td>21</td>\n",
              "      <td>67.259153</td>\n",
              "    </tr>\n",
              "    <tr>\n",
              "      <th>2022-03-28</th>\n",
              "      <td>22</td>\n",
              "      <td>68.540082</td>\n",
              "    </tr>\n",
              "    <tr>\n",
              "      <th>2022-03-28</th>\n",
              "      <td>23</td>\n",
              "      <td>62.366028</td>\n",
              "    </tr>\n",
              "  </tbody>\n",
              "</table>\n",
              "<p>7650 rows × 2 columns</p>\n",
              "</div>\n",
              "      <button class=\"colab-df-convert\" onclick=\"convertToInteractive('df-603f9e1f-a185-46a0-841e-cf260a15d41a')\"\n",
              "              title=\"Convert this dataframe to an interactive table.\"\n",
              "              style=\"display:none;\">\n",
              "        \n",
              "  <svg xmlns=\"http://www.w3.org/2000/svg\" height=\"24px\"viewBox=\"0 0 24 24\"\n",
              "       width=\"24px\">\n",
              "    <path d=\"M0 0h24v24H0V0z\" fill=\"none\"/>\n",
              "    <path d=\"M18.56 5.44l.94 2.06.94-2.06 2.06-.94-2.06-.94-.94-2.06-.94 2.06-2.06.94zm-11 1L8.5 8.5l.94-2.06 2.06-.94-2.06-.94L8.5 2.5l-.94 2.06-2.06.94zm10 10l.94 2.06.94-2.06 2.06-.94-2.06-.94-.94-2.06-.94 2.06-2.06.94z\"/><path d=\"M17.41 7.96l-1.37-1.37c-.4-.4-.92-.59-1.43-.59-.52 0-1.04.2-1.43.59L10.3 9.45l-7.72 7.72c-.78.78-.78 2.05 0 2.83L4 21.41c.39.39.9.59 1.41.59.51 0 1.02-.2 1.41-.59l7.78-7.78 2.81-2.81c.8-.78.8-2.07 0-2.86zM5.41 20L4 18.59l7.72-7.72 1.47 1.35L5.41 20z\"/>\n",
              "  </svg>\n",
              "      </button>\n",
              "      \n",
              "  <style>\n",
              "    .colab-df-container {\n",
              "      display:flex;\n",
              "      flex-wrap:wrap;\n",
              "      gap: 12px;\n",
              "    }\n",
              "\n",
              "    .colab-df-convert {\n",
              "      background-color: #E8F0FE;\n",
              "      border: none;\n",
              "      border-radius: 50%;\n",
              "      cursor: pointer;\n",
              "      display: none;\n",
              "      fill: #1967D2;\n",
              "      height: 32px;\n",
              "      padding: 0 0 0 0;\n",
              "      width: 32px;\n",
              "    }\n",
              "\n",
              "    .colab-df-convert:hover {\n",
              "      background-color: #E2EBFA;\n",
              "      box-shadow: 0px 1px 2px rgba(60, 64, 67, 0.3), 0px 1px 3px 1px rgba(60, 64, 67, 0.15);\n",
              "      fill: #174EA6;\n",
              "    }\n",
              "\n",
              "    [theme=dark] .colab-df-convert {\n",
              "      background-color: #3B4455;\n",
              "      fill: #D2E3FC;\n",
              "    }\n",
              "\n",
              "    [theme=dark] .colab-df-convert:hover {\n",
              "      background-color: #434B5C;\n",
              "      box-shadow: 0px 1px 3px 1px rgba(0, 0, 0, 0.15);\n",
              "      filter: drop-shadow(0px 1px 2px rgba(0, 0, 0, 0.3));\n",
              "      fill: #FFFFFF;\n",
              "    }\n",
              "  </style>\n",
              "\n",
              "      <script>\n",
              "        const buttonEl =\n",
              "          document.querySelector('#df-603f9e1f-a185-46a0-841e-cf260a15d41a button.colab-df-convert');\n",
              "        buttonEl.style.display =\n",
              "          google.colab.kernel.accessAllowed ? 'block' : 'none';\n",
              "\n",
              "        async function convertToInteractive(key) {\n",
              "          const element = document.querySelector('#df-603f9e1f-a185-46a0-841e-cf260a15d41a');\n",
              "          const dataTable =\n",
              "            await google.colab.kernel.invokeFunction('convertToInteractive',\n",
              "                                                     [key], {});\n",
              "          if (!dataTable) return;\n",
              "\n",
              "          const docLinkHtml = 'Like what you see? Visit the ' +\n",
              "            '<a target=\"_blank\" href=https://colab.research.google.com/notebooks/data_table.ipynb>data table notebook</a>'\n",
              "            + ' to learn more about interactive tables.';\n",
              "          element.innerHTML = '';\n",
              "          dataTable['output_type'] = 'display_data';\n",
              "          await google.colab.output.renderOutput(dataTable, element);\n",
              "          const docLink = document.createElement('div');\n",
              "          docLink.innerHTML = docLinkHtml;\n",
              "          element.appendChild(docLink);\n",
              "        }\n",
              "      </script>\n",
              "    </div>\n",
              "  </div>\n",
              "  "
            ]
          },
          "metadata": {},
          "execution_count": 50
        }
      ],
      "source": [
        "pd.DataFrame({'date':test_df['date'],'hour':test_df['hour'],'demand':final_model }).set_index('date')"
      ],
      "id": "00a01503"
    },
    {
      "cell_type": "code",
      "source": [
        ""
      ],
      "metadata": {
        "id": "dD3WYPq-PTJ9"
      },
      "id": "dD3WYPq-PTJ9",
      "execution_count": null,
      "outputs": []
    }
  ],
  "metadata": {
    "colab": {
      "collapsed_sections": [
        "833535e8"
      ],
      "name": "Car_Demand_Forecasting_final_.ipynb",
      "provenance": []
    },
    "kernelspec": {
      "display_name": "Python 3",
      "language": "python",
      "name": "python3"
    },
    "language_info": {
      "codemirror_mode": {
        "name": "ipython",
        "version": 3
      },
      "file_extension": ".py",
      "mimetype": "text/x-python",
      "name": "python",
      "nbconvert_exporter": "python",
      "pygments_lexer": "ipython3",
      "version": "3.8.8"
    }
  },
  "nbformat": 4,
  "nbformat_minor": 5
}